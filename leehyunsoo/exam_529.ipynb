{
 "cells": [
  {
   "cell_type": "code",
   "execution_count": 89,
   "metadata": {},
   "outputs": [
    {
     "name": "stdout",
     "output_type": "stream",
     "text": [
      "['3*2', '2*2', '2*2']\n",
      "['3*2', '2*2', '2*2']\n"
     ]
    }
   ],
   "source": [
    "import re\n",
    "\n",
    "def func_529(num_array):\n",
    "#     result = [(num_array[x]+'*'+num_array[x+1]) for ind in range(len(num_array)-1)]\n",
    "#     result = [ind for ind in num_array if int(ind)%2==0]\n",
    "    result = []\n",
    "    for x in range(len(num_array)-1):\n",
    "        if (int(num_array[x]) * int(num_array[x+1])) %2 ==0:\n",
    "            result.append(num_array[x]+'*'+num_array[x+1])\n",
    "        \n",
    "    print(result)\n",
    "    return result\n",
    "print(func_529('3222'))"
   ]
  },
  {
   "cell_type": "code",
   "execution_count": 95,
   "metadata": {},
   "outputs": [
    {
     "data": {
      "text/plain": [
       "'1-1-1-12*2*2*2'"
      ]
     },
     "execution_count": 95,
     "metadata": {},
     "output_type": "execute_result"
    }
   ],
   "source": [
    "import re\n",
    "def point(x):\n",
    "    return '*'.join(x.group(2)) if x.group(2) else '-'.join(x.group(3))\n",
    "def func_2(array):\n",
    "    return re.sub(r'(([02468]{2,})|([13579]{2,}))', point, array)\n",
    "\n",
    "func_2('11112222')"
   ]
  },
  {
   "cell_type": "code",
   "execution_count": 94,
   "metadata": {},
   "outputs": [],
   "source": [
    "assert func_2('000000') == '0*0*0*0*0*0'\n",
    "assert func_2('123456') == '123456'\n",
    "assert func_2('11111') == '1-1-1-1-1'\n",
    "assert func_2('22222') == '2*2*2*2*2'\n",
    "assert func_2('1223344') == '12*23-34*4'\n",
    "assert func_2('445544554455') == '4*45-54*45-54*45-5'"
   ]
  },
  {
   "cell_type": "code",
   "execution_count": null,
   "metadata": {},
   "outputs": [],
   "source": []
  }
 ],
 "metadata": {
  "kernelspec": {
   "display_name": "Python 3",
   "language": "python",
   "name": "python3"
  },
  "language_info": {
   "codemirror_mode": {
    "name": "ipython",
    "version": 3
   },
   "file_extension": ".py",
   "mimetype": "text/x-python",
   "name": "python",
   "nbconvert_exporter": "python",
   "pygments_lexer": "ipython3",
   "version": "3.6.4"
  }
 },
 "nbformat": 4,
 "nbformat_minor": 2
}
