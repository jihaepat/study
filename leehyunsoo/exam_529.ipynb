{
 "cells": [
  {
   "cell_type": "code",
   "execution_count": 89,
   "metadata": {},
   "outputs": [
    {
     "name": "stdout",
     "output_type": "stream",
     "text": [
      "['3*2', '2*2', '2*2']\n",
      "['3*2', '2*2', '2*2']\n"
     ]
    }
   ],
   "source": [
    "import re\n",
    "\n",
    "def func_529(num_array):\n",
    "#     result = [(num_array[x]+'*'+num_array[x+1]) for ind in range(len(num_array)-1)]\n",
    "#     result = [ind for ind in num_array if int(ind)%2==0]\n",
    "    result = []\n",
    "    for x in range(len(num_array)-1):\n",
    "        if (int(num_array[x]) * int(num_array[x+1])) %2 ==0:\n",
    "            result.append(num_array[x]+'*'+num_array[x+1])\n",
    "        \n",
    "    print(result)\n",
    "    return result\n",
    "print(func_529('3222'))"
   ]
  },
  {
   "cell_type": "code",
   "execution_count": 95,
   "metadata": {},
   "outputs": [
    {
     "data": {
      "text/plain": [
       "'1-1-1-12*2*2*2'"
      ]
     },
     "execution_count": 95,
     "metadata": {},
     "output_type": "execute_result"
    }
   ],
   "source": [
    "import re\n",
    "def point(x):\n",
    "    return '*'.join(x.group(2)) if x.group(2) else '-'.join(x.group(3))\n",
    "def func_2(array):\n",
    "    return re.sub(r'(([02468]{2,})|([13579]{2,}))', point, array)\n",
    "\n",
    "func_2('11112222')"
   ]
  },
  {
   "cell_type": "code",
   "execution_count": 94,
   "metadata": {},
   "outputs": [],
   "source": [
    "assert func_2('000000') == '0*0*0*0*0*0'\n",
    "assert func_2('123456') == '123456'\n",
    "assert func_2('11111') == '1-1-1-1-1'\n",
    "assert func_2('22222') == '2*2*2*2*2'\n",
    "assert func_2('1223344') == '12*23-34*4'\n",
    "assert func_2('445544554455') == '4*45-54*45-54*45-5'"
   ]
  },
  {
   "cell_type": "code",
   "execution_count": 32,
   "metadata": {},
   "outputs": [],
   "source": [
    "def func_529(digit_str):\n",
    "    prev_n = None\n",
    "    result = []\n",
    "    for (i, c) in enumerate(digit_str):\n",
    "        n = int(c)\n",
    "        if prev_n is not None:\n",
    "            if prev_n % 2 == 0 and n % 2 == 0:\n",
    "                result.append('*')\n",
    "            elif prev_n % 2 == 1 and n % 2 == 1:\n",
    "                result.append('-')\n",
    "        result.append(c)\n",
    "        prev_n = n\n",
    "    return ''.join(result)"
   ]
  },
  {
   "cell_type": "code",
   "execution_count": 33,
   "metadata": {},
   "outputs": [],
   "source": [
    "assert func_529('123456') == '123456'\n",
    "assert func_529('000000') == '0*0*0*0*0*0'\n",
    "assert func_529('11111') == '1-1-1-1-1'\n",
    "assert func_529('22222') == '2*2*2*2*2'\n",
    "assert func_529('1223344') == '12*23-34*4'\n",
    "assert func_529('445544554455') == '4*45-54*45-54*45-5'"
   ]
  },
  {
   "cell_type": "code",
   "execution_count": 34,
   "metadata": {},
   "outputs": [
    {
     "name": "stdout",
     "output_type": "stream",
     "text": [
      "4*45-54*45-54*45-5\n"
     ]
    }
   ],
   "source": [
    "digit_str = '445544554455'\n",
    "ds = [(int(c), int(digit_str[i+1]) if i < len(digit_str)-1 else None) for (i, c) in enumerate(digit_str)]\n",
    "ds2 = [str(pair[0]) if pair[1] is None else str(pair[0])+'*' if pair[0] % 2 == 0 and pair[1] % 2 == 0 else str(pair[0])+'-' if pair[0] % 2 == 1 and pair[1] % 2 == 1 else str(pair[0]) for pair in ds]\n",
    "print(''.join(ds2))"
   ]
  }
 ],
 "metadata": {
  "kernelspec": {
   "display_name": "Python 3",
   "language": "python",
   "name": "python3"
  },
  "language_info": {
   "codemirror_mode": {
    "name": "ipython",
    "version": 3
   },
   "file_extension": ".py",
   "mimetype": "text/x-python",
   "name": "python",
   "nbconvert_exporter": "python",
   "pygments_lexer": "ipython3",
   "version": "3.6.4"
  }
 },
 "nbformat": 4,
 "nbformat_minor": 2
}
