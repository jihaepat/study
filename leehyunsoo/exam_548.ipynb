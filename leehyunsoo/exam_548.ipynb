{
 "cells": [
  {
   "cell_type": "code",
   "execution_count": 28,
   "metadata": {},
   "outputs": [
    {
     "name": "stdout",
     "output_type": "stream",
     "text": [
      "2\n"
     ]
    }
   ],
   "source": [
    "def fibonacci(n):\n",
    "    array = [0,1]\n",
    "    result = []\n",
    "    i = 0\n",
    "    while array[ i ] + array[ i + 1 ] < n:\n",
    "        array.append( array[ i ] + array[ i + 1 ] )\n",
    "        i += 1\n",
    "    for x in range(len(array)):\n",
    "        if array[x]%2==0:\n",
    "            result.append(array[x])\n",
    "    return sum(result)\n",
    "print(fibonacci(4))"
   ]
  },
  {
   "cell_type": "code",
   "execution_count": 29,
   "metadata": {},
   "outputs": [],
   "source": [
    "assert fibonacci(0) == 0\n",
    "assert fibonacci(1) == 0\n",
    "assert fibonacci(2) == 0\n",
    "assert fibonacci(3) == 2\n",
    "assert fibonacci(4) == 2\n",
    "assert fibonacci(5) == 2\n",
    "assert fibonacci(6) == 2\n",
    "assert fibonacci(7) == 2"
   ]
  },
  {
   "cell_type": "code",
   "execution_count": 30,
   "metadata": {},
   "outputs": [
    {
     "name": "stdout",
     "output_type": "stream",
     "text": [
      "2\n"
     ]
    }
   ],
   "source": [
    "import math\n",
    "\n",
    "def re_fibonacci(n):\n",
    "    assert n>0\n",
    "    root_5 = math.sqrt(5)\n",
    "    result =[]\n",
    "    i=0\n",
    "    while int(((pow(1+root_5,i) - pow(1-root_5,i))/pow(2,i))*(root_5/5)) < n:\n",
    "        if int(((pow(1+root_5,i) - pow(1-root_5,i))/pow(2,i))*(root_5/5)) % 2 == 0:\n",
    "            result.append(int(((pow(1+root_5,i) - pow(1-root_5,i))/pow(2,i))*(root_5/5)))\n",
    "        i += 1\n",
    "    return sum(result)\n",
    "print(re_fibonacci(4))"
   ]
  },
  {
   "cell_type": "code",
   "execution_count": 33,
   "metadata": {},
   "outputs": [],
   "source": [
    "# assert fibonacci(0) == re_fibonacci(0)\n",
    "assert fibonacci(1) == re_fibonacci(1)\n",
    "assert fibonacci(2) == re_fibonacci(2)\n",
    "assert fibonacci(3) == re_fibonacci(3)\n",
    "assert fibonacci(4) == re_fibonacci(4)\n",
    "assert fibonacci(5) == re_fibonacci(5)\n",
    "assert fibonacci(6) == re_fibonacci(6)"
   ]
  },
  {
   "cell_type": "code",
   "execution_count": 12,
   "metadata": {},
   "outputs": [
    {
     "data": {
      "text/plain": [
       "[2, 3]"
      ]
     },
     "execution_count": 12,
     "metadata": {},
     "output_type": "execute_result"
    }
   ],
   "source": [
    "result=[]\n",
    "result.append(int(2))\n",
    "result.append(int(3))\n",
    "result"
   ]
  },
  {
   "cell_type": "code",
   "execution_count": null,
   "metadata": {},
   "outputs": [],
   "source": []
  }
 ],
 "metadata": {
  "kernelspec": {
   "display_name": "Python 3",
   "language": "python",
   "name": "python3"
  },
  "language_info": {
   "codemirror_mode": {
    "name": "ipython",
    "version": 3
   },
   "file_extension": ".py",
   "mimetype": "text/x-python",
   "name": "python",
   "nbconvert_exporter": "python",
   "pygments_lexer": "ipython3",
   "version": "3.6.4"
  }
 },
 "nbformat": 4,
 "nbformat_minor": 2
}
