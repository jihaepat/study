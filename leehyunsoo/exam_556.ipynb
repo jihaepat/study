{
 "cells": [
  {
   "cell_type": "code",
   "execution_count": 37,
   "metadata": {},
   "outputs": [
    {
     "name": "stdout",
     "output_type": "stream",
     "text": [
      "[1, 0, 1, 0]\n"
     ]
    }
   ],
   "source": [
    "#int로 출력\n",
    "def bin_print(n):\n",
    "    result =[]\n",
    "    while n/2 >= 1 :\n",
    "        result.insert(0, n%2)\n",
    "        n = int(n/2)\n",
    "    result.insert(0, n)\n",
    "    return result\n",
    "print((bin_print(10)))\n"
   ]
  },
  {
   "cell_type": "code",
   "execution_count": 38,
   "metadata": {},
   "outputs": [],
   "source": [
    "assert bin_print(0) == [0]\n",
    "assert bin_print(1) == [1]\n",
    "assert bin_print(2) == [1,0]\n",
    "assert bin_print(4) == [1,0,0]"
   ]
  },
  {
   "cell_type": "code",
   "execution_count": 39,
   "metadata": {},
   "outputs": [
    {
     "name": "stdout",
     "output_type": "stream",
     "text": [
      "1010\n"
     ]
    }
   ],
   "source": [
    "#문자열로 출력\n",
    "def str_bin_print(n):\n",
    "    result =[]\n",
    "    while n/2 >= 1 :\n",
    "        result.insert(0, str(n%2))\n",
    "        n = int(n/2)\n",
    "    result.insert(0, str(n))\n",
    "    return result\n",
    "print(''.join(str_bin_print(10)))\n"
   ]
  },
  {
   "cell_type": "code",
   "execution_count": null,
   "metadata": {},
   "outputs": [],
   "source": []
  }
 ],
 "metadata": {
  "kernelspec": {
   "display_name": "Python 3",
   "language": "python",
   "name": "python3"
  },
  "language_info": {
   "codemirror_mode": {
    "name": "ipython",
    "version": 3
   },
   "file_extension": ".py",
   "mimetype": "text/x-python",
   "name": "python",
   "nbconvert_exporter": "python",
   "pygments_lexer": "ipython3",
   "version": "3.6.4"
  }
 },
 "nbformat": 4,
 "nbformat_minor": 2
}
