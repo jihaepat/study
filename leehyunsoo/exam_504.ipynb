{
 "cells": [
  {
   "cell_type": "code",
   "execution_count": 2,
   "metadata": {},
   "outputs": [
    {
     "name": "stdout",
     "output_type": "stream",
     "text": [
      "0의 개수: 192\n",
      "1의 개수: 301\n",
      "2의 개수: 300\n",
      "3의 개수: 300\n",
      "4의 개수: 300\n",
      "5의 개수: 300\n",
      "6의 개수: 300\n",
      "7의 개수: 300\n",
      "8의 개수: 300\n",
      "9의 개수: 300\n"
     ]
    }
   ],
   "source": [
    "\n",
    "array = [str(x) for x in range(1,1001)]\n",
    "ch_ar=[]\n",
    "\n",
    "def countNum(array):\n",
    "    for i in range(len(array)):\n",
    "        for y in range(len(array[i])):\n",
    "            ch_ar.append(array[i][y])   \n",
    "    print(\"0의 개수:\",ch_ar.count(\"0\"))\n",
    "    print(\"1의 개수:\",ch_ar.count(\"1\"))\n",
    "    print(\"2의 개수:\",ch_ar.count(\"2\"))\n",
    "    print(\"3의 개수:\",ch_ar.count(\"3\"))\n",
    "    print(\"4의 개수:\",ch_ar.count(\"4\"))\n",
    "    print(\"5의 개수:\",ch_ar.count(\"5\"))\n",
    "    print(\"6의 개수:\",ch_ar.count(\"6\"))\n",
    "    print(\"7의 개수:\",ch_ar.count(\"7\"))\n",
    "    print(\"8의 개수:\",ch_ar.count(\"8\"))\n",
    "    print(\"9의 개수:\",ch_ar.count(\"9\"))\n",
    "    \n",
    "    \n",
    "countNum(array)\n"
   ]
  },
  {
   "cell_type": "code",
   "execution_count": 106,
   "metadata": {},
   "outputs": [
    {
     "name": "stdout",
     "output_type": "stream",
     "text": [
      "0~9의 개수 [192, 301, 300, 300, 300, 300, 300, 300, 300, 300]\n"
     ]
    }
   ],
   "source": [
    "temp = [0 for x in range(10)]\n",
    "\n",
    "def countNum2(temp):\n",
    "        for i in range(1,1001):\n",
    "            for num in (str(i)):\n",
    "                temp[int(num)]+=1\n",
    "        return temp\n",
    "print(\"0~9의 개수\",countNum2(temp))"
   ]
  },
  {
   "cell_type": "code",
   "execution_count": null,
   "metadata": {},
   "outputs": [],
   "source": []
  }
 ],
 "metadata": {
  "kernelspec": {
   "display_name": "Python 3",
   "language": "python",
   "name": "python3"
  },
  "language_info": {
   "codemirror_mode": {
    "name": "ipython",
    "version": 3
   },
   "file_extension": ".py",
   "mimetype": "text/x-python",
   "name": "python",
   "nbconvert_exporter": "python",
   "pygments_lexer": "ipython3",
   "version": "3.6.4"
  }
 },
 "nbformat": 4,
 "nbformat_minor": 2
}
