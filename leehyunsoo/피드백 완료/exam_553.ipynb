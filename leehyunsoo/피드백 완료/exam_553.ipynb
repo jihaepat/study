{
 "cells": [
  {
   "cell_type": "code",
   "execution_count": 30,
   "metadata": {},
   "outputs": [
    {
     "data": {
      "text/plain": [
       "2640"
      ]
     },
     "execution_count": 30,
     "metadata": {},
     "output_type": "execute_result"
    }
   ],
   "source": [
    "import math\n",
    "\n",
    "def sum_double_num(n):\n",
    "    return sum([pow( x, 2) for x in range(1, n + 1)])\n",
    "\n",
    "def sum_num_double(n):\n",
    "    return pow(sum([x for x in range(1,n+1)]),2)\n",
    "\n",
    "sum_num_double(10) - sum_double_num(10)"
   ]
  },
  {
   "cell_type": "code",
   "execution_count": 37,
   "metadata": {},
   "outputs": [],
   "source": [
    "assert (sum_num_double(0) - sum_double_num(0)) == 0\n",
    "assert (sum_num_double(1) - sum_double_num(1) )== 0\n",
    "assert (sum_num_double(10) - sum_double_num(10)) == 2640\n",
    "assert (sum_num_double(100) - sum_double_num(100)) == 25164150"
   ]
  },
  {
   "cell_type": "code",
   "execution_count": 34,
   "metadata": {},
   "outputs": [],
   "source": [
    "def func_553(n):\n",
    "    return pow(sum([x for x in range(1,n+1)]),2) - sum([pow( x, 2) for x in range(1, n + 1)])"
   ]
  },
  {
   "cell_type": "code",
   "execution_count": 36,
   "metadata": {},
   "outputs": [],
   "source": [
    "assert (sum_num_double(0) - sum_double_num(0)) == func_553(0)\n",
    "assert (sum_num_double(1) - sum_double_num(1) )== func_553(1)\n",
    "assert (sum_num_double(10) - sum_double_num(10)) == func_553(10)\n",
    "assert (sum_num_double(100) - sum_double_num(100)) == func_553(100)"
   ]
  },
  {
   "cell_type": "code",
   "execution_count": null,
   "metadata": {},
   "outputs": [],
   "source": []
  }
 ],
 "metadata": {
  "kernelspec": {
   "display_name": "Python 3",
   "language": "python",
   "name": "python3"
  },
  "language_info": {
   "codemirror_mode": {
    "name": "ipython",
    "version": 3
   },
   "file_extension": ".py",
   "mimetype": "text/x-python",
   "name": "python",
   "nbconvert_exporter": "python",
   "pygments_lexer": "ipython3",
   "version": "3.6.4"
  }
 },
 "nbformat": 4,
 "nbformat_minor": 2
}
