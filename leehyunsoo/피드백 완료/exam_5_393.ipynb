{
 "cells": [
  {
   "cell_type": "code",
   "execution_count": 88,
   "metadata": {},
   "outputs": [],
   "source": [
    "def eight_count(end_num, find_num):\n",
    "    \n",
    "    ar = [str(x) for x in range(end_num+1)]\n",
    "    split = [ar[x][y] for x in range(len(ar)) for y in range(len(ar[x]))]\n",
    "    return split.count(str(find_num))"
   ]
  },
  {
   "cell_type": "code",
   "execution_count": 89,
   "metadata": {},
   "outputs": [],
   "source": [
    "assert eight_count(0,8) == 0\n",
    "assert eight_count(10,8) == 1\n",
    "assert eight_count(20,8) == 2\n",
    "assert eight_count(100,1) == 21"
   ]
  },
  {
   "cell_type": "code",
   "execution_count": null,
   "metadata": {},
   "outputs": [],
   "source": []
  }
 ],
 "metadata": {
  "kernelspec": {
   "display_name": "Python 3",
   "language": "python",
   "name": "python3"
  },
  "language_info": {
   "codemirror_mode": {
    "name": "ipython",
    "version": 3
   },
   "file_extension": ".py",
   "mimetype": "text/x-python",
   "name": "python",
   "nbconvert_exporter": "python",
   "pygments_lexer": "ipython3",
   "version": "3.6.4"
  }
 },
 "nbformat": 4,
 "nbformat_minor": 2
}
