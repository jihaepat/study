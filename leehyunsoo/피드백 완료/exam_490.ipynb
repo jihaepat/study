{
 "cells": [
  {
   "cell_type": "code",
   "execution_count": 2,
   "metadata": {},
   "outputs": [
    {
     "name": "stdout",
     "output_type": "stream",
     "text": [
      "17\n"
     ]
    }
   ],
   "source": [
    "origin_machine_price = 10\n",
    "origin_merchine_per = 150\n",
    "ext_part_price = 3\n",
    "ext_part_per = [30,70,15,40,65]\n",
    "ext_part_per.sort(reverse=True)\n",
    "result_price=origin_machine_price\n",
    "result_per=origin_merchine_per\n",
    "for i in range(len(ext_part_per)):\n",
    "    if origin_merchine_per/origin_machine_price< ext_part_per[i]/ext_part_price:\n",
    "        result_price+=ext_part_price\n",
    "        result_per+=ext_part_per[i]\n",
    "print(int(result_per/result_price))"
   ]
  },
  {
   "cell_type": "code",
   "execution_count": 3,
   "metadata": {},
   "outputs": [
    {
     "ename": "NameError",
     "evalue": "name 'performance_ratio' is not defined",
     "output_type": "error",
     "traceback": [
      "\u001b[0;31m---------------------------------------------------------------------------\u001b[0m",
      "\u001b[0;31mNameError\u001b[0m                                 Traceback (most recent call last)",
      "\u001b[0;32m<ipython-input-3-8d0981055d73>\u001b[0m in \u001b[0;36m<module>\u001b[0;34m()\u001b[0m\n\u001b[1;32m      9\u001b[0m     \u001b[0;32mreturn\u001b[0m \u001b[0mint\u001b[0m\u001b[0;34m(\u001b[0m\u001b[0;34m(\u001b[0m\u001b[0msum\u001b[0m\u001b[0;34m(\u001b[0m\u001b[0mresult\u001b[0m\u001b[0;34m)\u001b[0m\u001b[0;34m+\u001b[0m\u001b[0;36m150\u001b[0m\u001b[0;34m)\u001b[0m\u001b[0;34m/\u001b[0m\u001b[0;34m(\u001b[0m\u001b[0mlen\u001b[0m\u001b[0;34m(\u001b[0m\u001b[0mresult\u001b[0m\u001b[0;34m)\u001b[0m\u001b[0;34m*\u001b[0m\u001b[0;36m3\u001b[0m\u001b[0;34m+\u001b[0m\u001b[0;36m10\u001b[0m\u001b[0;34m)\u001b[0m\u001b[0;34m)\u001b[0m\u001b[0;34m\u001b[0m\u001b[0m\n\u001b[1;32m     10\u001b[0m \u001b[0;34m\u001b[0m\u001b[0m\n\u001b[0;32m---> 11\u001b[0;31m \u001b[0mprint\u001b[0m\u001b[0;34m(\u001b[0m\u001b[0mperformance_ratio\u001b[0m\u001b[0;34m(\u001b[0m\u001b[0mpart_array\u001b[0m\u001b[0;34m)\u001b[0m\u001b[0;34m)\u001b[0m\u001b[0;34m\u001b[0m\u001b[0m\n\u001b[0m",
      "\u001b[0;31mNameError\u001b[0m: name 'performance_ratio' is not defined"
     ]
    }
   ],
   "source": [
    "part_array = [30,70,60,40,65]\n",
    "\n",
    "def perfomance_ratio(part_array):\n",
    "    part_array.sort(reverse=True)\n",
    "    result = []\n",
    "    for perfo in part_array:\n",
    "        if 150/10 < perfo/3:\n",
    "            result+=[perfo]\n",
    "    return int((sum(result)+150)/(len(result)*3+10))\n",
    "\n",
    "print(performance_ratio(part_array))"
   ]
  },
  {
   "cell_type": "code",
   "execution_count": 4,
   "metadata": {},
   "outputs": [
    {
     "name": "stdout",
     "output_type": "stream",
     "text": [
      "18\n"
     ]
    }
   ],
   "source": [
    "CONST_PRICE = 10 \n",
    "CONST_PERFOMANCE = 150 \n",
    "part_price = 3\n",
    "part_perfomance = [30,70,60,40,65]\n",
    "\n",
    "def perfomance_ratio2(perfomance, price):\n",
    "    perfomance.sort(reverse = True)\n",
    "    result = 0\n",
    "    count = 0\n",
    "    for ind in perfomance :\n",
    "        if ((CONST_PERFOMANCE / CONST_PRICE ) < ind / price) :\n",
    "            result += ind \n",
    "            count += 1\n",
    "    result = (result + CONST_PERFOMANCE)/(count*3 + CONST_PRICE)\n",
    "    return int(result)\n",
    "\n",
    "print(perfomance_ratio2(part_perfomance,part_price))"
   ]
  },
  {
   "cell_type": "code",
   "execution_count": 7,
   "metadata": {},
   "outputs": [
    {
     "name": "stdout",
     "output_type": "stream",
     "text": [
      "18\n"
     ]
    }
   ],
   "source": [
    "def func_490(perfomance, price):\n",
    "        \n",
    "    array = [ind if (CONST_PERFOMANCE / CONST_PRICE ) < ind / price else 0 for ind in perfomance]\n",
    "    count = [1 if (CONST_PERFOMANCE / CONST_PRICE ) < ind / price else 0 for ind in perfomance]\n",
    "        \n",
    "    return int((sum(array) + CONST_PERFOMANCE)/(sum(count)*3 + CONST_PRICE))\n",
    "\n",
    "print(func_490([30,70,60,40,65],3))"
   ]
  },
  {
   "cell_type": "code",
   "execution_count": 12,
   "metadata": {},
   "outputs": [],
   "source": [
    "assert perfomance_ratio2([30,70,15,40,65],3) == 17\n",
    "assert perfomance_ratio2([30,70,60,40,65],3) == 18\n",
    "assert perfomance_ratio2([30,70,60,40,65],6) == 15\n",
    "assert perfomance_ratio2([30,70,60,80,65],2) == 19"
   ]
  }
 ],
 "metadata": {
  "kernelspec": {
   "display_name": "Python 3",
   "language": "python",
   "name": "python3"
  },
  "language_info": {
   "codemirror_mode": {
    "name": "ipython",
    "version": 3
   },
   "file_extension": ".py",
   "mimetype": "text/x-python",
   "name": "python",
   "nbconvert_exporter": "python",
   "pygments_lexer": "ipython3",
   "version": "3.6.4"
  }
 },
 "nbformat": 4,
 "nbformat_minor": 2
}
