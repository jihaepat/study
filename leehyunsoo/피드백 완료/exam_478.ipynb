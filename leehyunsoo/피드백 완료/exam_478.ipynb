{
 "cells": [
  {
   "cell_type": "code",
   "execution_count": 8,
   "metadata": {},
   "outputs": [
    {
     "name": "stdout",
     "output_type": "stream",
     "text": [
      "사용할 숫자의 개수를 입력하세요 :5\n",
      "1\n",
      "2\n",
      "3\n",
      "4\n",
      "5\n",
      "합 :  15, 평균 : 3\n"
     ]
    }
   ],
   "source": [
    "count = int(input(\"사용할 숫자의 개수를 입력하세요 :\"))\n",
    "sum_=0\n",
    "for x in range(count):\n",
    "    sum_ +=int(input())\n",
    "print((\"합 :  %d, 평균 : %d\")%(sum_ , int(sum_/count)))\n",
    "del count,sum_"
   ]
  },
  {
   "cell_type": "code",
   "execution_count": 14,
   "metadata": {},
   "outputs": [
    {
     "name": "stdout",
     "output_type": "stream",
     "text": [
      "사용할 숫자의 개수를 입력하세요 :3\n",
      "1\n",
      "2\n",
      "3\n",
      "합 :  6 평균 :  2\n"
     ]
    }
   ],
   "source": [
    "count = int(input(\"사용할 숫자의 개수를 입력하세요 :\"))\n",
    "def sum_num(n):\n",
    "    sum_=0\n",
    "    for x in range(n):\n",
    "        sum_ +=int(input())  \n",
    "    return sum_ \n",
    "\n",
    "def average_num(n,count):\n",
    "    return int(n/count)\n",
    "\n",
    "sum_=sum_num(count)\n",
    "average_=average_num(sum_,count)\n",
    "\n",
    "print(\"합 : \",sum_,\"평균 : \", average_)\n",
    "del count, sum_, average_"
   ]
  },
  {
   "cell_type": "code",
   "execution_count": 21,
   "metadata": {},
   "outputs": [],
   "source": [
    "def func_478(count, array):\n",
    "    assert count >= 0\n",
    "    assert count == len(array)\n",
    "    \n",
    "    if count == 0:\n",
    "        return (0, 0)\n",
    "    S = sum(array)\n",
    "    A = sum(array) / count\n",
    "    return (S, A)"
   ]
  },
  {
   "cell_type": "code",
   "execution_count": 22,
   "metadata": {},
   "outputs": [],
   "source": [
    "assert func_478(0, []) == (0, 0)\n",
    "assert func_478(1, [1]) == (1, 1)\n",
    "assert func_478(1, [8]) == (8, 8)\n",
    "assert func_478(3, [1, 2, 3]) == (6, 2)"
   ]
  },
  {
   "cell_type": "code",
   "execution_count": null,
   "metadata": {},
   "outputs": [],
   "source": []
  }
 ],
 "metadata": {
  "kernelspec": {
   "display_name": "Python 3",
   "language": "python",
   "name": "python3"
  },
  "language_info": {
   "codemirror_mode": {
    "name": "ipython",
    "version": 3
   },
   "file_extension": ".py",
   "mimetype": "text/x-python",
   "name": "python",
   "nbconvert_exporter": "python",
   "pygments_lexer": "ipython3",
   "version": "3.6.4"
  }
 },
 "nbformat": 4,
 "nbformat_minor": 2
}
