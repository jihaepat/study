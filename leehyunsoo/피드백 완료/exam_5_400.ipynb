{
 "cells": [
  {
   "cell_type": "code",
   "execution_count": 43,
   "metadata": {},
   "outputs": [
    {
     "data": {
      "text/plain": [
       "['똘기', '떵이', '호치', '새초미']"
      ]
     },
     "execution_count": 43,
     "metadata": {},
     "output_type": "execute_result"
    }
   ],
   "source": [
    "from  more_itertools import unique_everseen\n",
    "\n",
    "def lotation_ar(push_num, str_input):\n",
    "    array = str_input.split(' ')\n",
    "    temp = array[ -push_num :] + array[: len(array) - push_num]\n",
    "    return list(unique_everseen(temp))\n",
    "lotation_ar(0, '똘기 떵이 호치 새초미')"
   ]
  },
  {
   "cell_type": "code",
   "execution_count": 44,
   "metadata": {},
   "outputs": [],
   "source": [
    "assert lotation_ar(1, '10 20 30 40 50') == ['50', '10', '20', '30', '40']\n",
    "assert lotation_ar(4, '가 나 다 라 마 바 사') == ['라', '마', '바', '사', '가', '나', '다']\n",
    "assert lotation_ar(-2, 'A B C D E F G') == ['C', 'D', 'E', 'F', 'G', 'A', 'B']\n",
    "assert lotation_ar(0, '똘기 떵이 호치 새초미') == ['똘기', '떵이', '호치', '새초미']"
   ]
  },
  {
   "cell_type": "code",
   "execution_count": 6,
   "metadata": {},
   "outputs": [
    {
     "data": {
      "text/plain": [
       "['똘기', '떵이', '호치', '새초미']"
      ]
     },
     "execution_count": 6,
     "metadata": {},
     "output_type": "execute_result"
    }
   ],
   "source": [
    "from collections import OrderedDict\n",
    "\n",
    "def lotation_ar2(push_num, str_input):\n",
    "    array = str_input.split(' ')\n",
    "    temp = array[ -push_num:] + array[: len(array) - push_num]\n",
    "    return list(OrderedDict.fromkeys(temp))\n",
    "lotation_ar(0, '똘기 떵이 호치 새초미')"
   ]
  },
  {
   "cell_type": "code",
   "execution_count": 7,
   "metadata": {},
   "outputs": [],
   "source": [
    "assert lotation_ar2(1, '10 20 30 40 50') == ['50', '10', '20', '30', '40']\n",
    "assert lotation_ar2(4, '가 나 다 라 마 바 사') == ['라', '마', '바', '사', '가', '나', '다']\n",
    "assert lotation_ar2(-2, 'A B C D E F G') == ['C', 'D', 'E', 'F', 'G', 'A', 'B']\n",
    "assert lotation_ar2(0, '똘기 떵이 호치 새초미') == ['똘기', '떵이', '호치', '새초미']"
   ]
  },
  {
   "cell_type": "code",
   "execution_count": null,
   "metadata": {},
   "outputs": [],
   "source": []
  }
 ],
 "metadata": {
  "kernelspec": {
   "display_name": "Python 3",
   "language": "python",
   "name": "python3"
  },
  "language_info": {
   "codemirror_mode": {
    "name": "ipython",
    "version": 3
   },
   "file_extension": ".py",
   "mimetype": "text/x-python",
   "name": "python",
   "nbconvert_exporter": "python",
   "pygments_lexer": "ipython3",
   "version": "3.6.4"
  }
 },
 "nbformat": 4,
 "nbformat_minor": 2
}
