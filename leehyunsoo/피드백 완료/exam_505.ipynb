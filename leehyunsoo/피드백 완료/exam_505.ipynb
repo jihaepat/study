{
 "cells": [
  {
   "cell_type": "code",
   "execution_count": 205,
   "metadata": {},
   "outputs": [
    {
     "name": "stdout",
     "output_type": "stream",
     "text": [
      "93150\n"
     ]
    }
   ],
   "source": [
    "import numpy as np\n",
    "\n",
    "def func_505(num):\n",
    "    assert num>=10\n",
    "    \n",
    "    array = [[int(x) for x in str(ind)] for ind in range(10,num+1)]\n",
    "    for x in range(len(array)):\n",
    "        if len(array[x]) <len(str(num)):\n",
    "            array[x] += [1]*(len(str(num))-len(array[x]))\n",
    "    origin_array = np.array(array)\n",
    "    multi_result = np.prod(origin_array,axis=1)\n",
    "    return sum(multi_result)\n",
    "\n",
    "print(func_505(1000))"
   ]
  },
  {
   "cell_type": "code",
   "execution_count": 208,
   "metadata": {},
   "outputs": [],
   "source": [
    "assert func_505(10) == 0\n",
    "assert func_505(15) == 15\n",
    "assert func_505(20) == 45\n",
    "assert func_505(1000) == 93150"
   ]
  },
  {
   "cell_type": "code",
   "execution_count": 209,
   "metadata": {},
   "outputs": [
    {
     "data": {
      "text/plain": [
       "93150"
      ]
     },
     "execution_count": 209,
     "metadata": {},
     "output_type": "execute_result"
    }
   ],
   "source": [
    "import numpy as np\n",
    "\n",
    "def refac_505(num):\n",
    "    assert num>=10\n",
    "    \n",
    "    array = [[int(x) for x in str(ind)] for ind in range(10,num+1)]\n",
    "    result = [array[x]+[1]*(len(str(num))- len(array[x])) if len(array[x]) < len(str(num)) else array[x] for x in range(len(array)) ]\n",
    "    multi_result = np.prod(np.array(result),axis=1)\n",
    "    return sum(multi_result)\n",
    "\n",
    "refac_505(1000)"
   ]
  },
  {
   "cell_type": "code",
   "execution_count": 210,
   "metadata": {},
   "outputs": [],
   "source": [
    "assert func_505(10) == refac_505(10)\n",
    "assert func_505(15) == refac_505(15)\n",
    "assert func_505(20) == refac_505(20)\n",
    "assert func_505(1000) == refac_505(1000)"
   ]
  },
  {
   "cell_type": "code",
   "execution_count": null,
   "metadata": {},
   "outputs": [],
   "source": []
  }
 ],
 "metadata": {
  "kernelspec": {
   "display_name": "Python 3",
   "language": "python",
   "name": "python3"
  },
  "language_info": {
   "codemirror_mode": {
    "name": "ipython",
    "version": 3
   },
   "file_extension": ".py",
   "mimetype": "text/x-python",
   "name": "python",
   "nbconvert_exporter": "python",
   "pygments_lexer": "ipython3",
   "version": "3.6.4"
  }
 },
 "nbformat": 4,
 "nbformat_minor": 2
}
