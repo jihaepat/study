{
 "cells": [
  {
   "cell_type": "code",
   "execution_count": 10,
   "metadata": {},
   "outputs": [],
   "source": [
    "def max_mirror_num(start_num, end_num):\n",
    "    origin_ar = [str(x * y) for x in range(start_num, end_num) for y in range(start_num, end_num)]\n",
    "    mirror_ar = [int(ind) for ind in origin_ar if ind == ind[::-1]]\n",
    "    return max(mirror_ar)"
   ]
  },
  {
   "cell_type": "code",
   "execution_count": 8,
   "metadata": {},
   "outputs": [],
   "source": [
    "assert max_mirror_num(10, 1000) == 906609\n",
    "assert max_mirror_num(1, 10) == 9\n",
    "assert max_mirror_num(10, 100) == 9009"
   ]
  },
  {
   "cell_type": "code",
   "execution_count": null,
   "metadata": {},
   "outputs": [],
   "source": []
  }
 ],
 "metadata": {
  "kernelspec": {
   "display_name": "Python 3",
   "language": "python",
   "name": "python3"
  },
  "language_info": {
   "codemirror_mode": {
    "name": "ipython",
    "version": 3
   },
   "file_extension": ".py",
   "mimetype": "text/x-python",
   "name": "python",
   "nbconvert_exporter": "python",
   "pygments_lexer": "ipython3",
   "version": "3.6.4"
  }
 },
 "nbformat": 4,
 "nbformat_minor": 2
}
