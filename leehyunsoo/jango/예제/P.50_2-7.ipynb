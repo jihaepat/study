{
 "cells": [
  {
   "cell_type": "code",
   "execution_count": 4,
   "metadata": {},
   "outputs": [
    {
     "name": "stdout",
     "output_type": "stream",
     "text": [
      "\n",
      ">>>>>>>>>>> Fetch Images from http://www.google.co.kr\n",
      "/images/branding/googlelogo/1x/googlelogo_white_background_color_272x92dp.png\n",
      "/textinputassistant/tia.png\n"
     ]
    }
   ],
   "source": [
    "import urllib.request\n",
    "from html.parser import HTMLParser\n",
    "\n",
    "\n",
    "class image_parser(HTMLParser):\n",
    "\n",
    "    def handle_starttag(self, tag, attrs):\n",
    "        if tag != 'img':\n",
    "            return\n",
    "        if not hasattr(self, 'result'):\n",
    "            self.result = []\n",
    "        for name, value in attrs:\n",
    "            if name == 'src':\n",
    "                self.result.append(value)\n",
    "\n",
    "def parse_image(data):\n",
    "    parser = image_parser()\n",
    "    parser.feed(data)\n",
    "    data_set = set(x for x in parser.result)\n",
    "    print('\\n'.join(sorted(data_set)))\n",
    "\n",
    "def main():\n",
    "    url = 'http://www.google.co.kr'\n",
    "\n",
    "    f = urllib.request.urlopen(url)\n",
    "    charset = f.headers.get_content_charset()\n",
    "    #         charset = f.info().getparams('charset')\n",
    "    data = f.read().decode(charset)\n",
    "    f.close()\n",
    "\n",
    "    print('\\n>>>>>>>>>>> Fetch Images from', url)\n",
    "    parse_image(data)\n",
    "\n",
    "if __name__ == '__main__':\n",
    "    main()"
   ]
  },
  {
   "cell_type": "code",
   "execution_count": null,
   "metadata": {},
   "outputs": [],
   "source": []
  }
 ],
 "metadata": {
  "kernelspec": {
   "display_name": "Python 3",
   "language": "python",
   "name": "python3"
  },
  "language_info": {
   "codemirror_mode": {
    "name": "ipython",
    "version": 3
   },
   "file_extension": ".py",
   "mimetype": "text/x-python",
   "name": "python",
   "nbconvert_exporter": "python",
   "pygments_lexer": "ipython3",
   "version": "3.6.4"
  }
 },
 "nbformat": 4,
 "nbformat_minor": 2
}
