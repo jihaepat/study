{
 "cells": [
  {
   "cell_type": "code",
   "execution_count": 4,
   "metadata": {},
   "outputs": [
    {
     "name": "stdout",
     "output_type": "stream",
     "text": [
      "        hello\thello 123\n",
      "    next2\n",
      "\n",
      "    next3\n"
     ]
    }
   ],
   "source": [
    "source = \"\t\thello\thello 123\\n\tnext2\\n\\n\tnext3\"\n",
    "# print(source)\n",
    "def listSplit(array):\n",
    "    temp2=[]\n",
    "    temp = list(array.split('\\n'))\n",
    "    for i in range(len(temp)):\n",
    "        temp2.append(list(temp[i]))\n",
    "    return changeTab(temp2)\n",
    "\n",
    "def changeTab(array):\n",
    "    result = []\n",
    "    for i in range(len(array)):\n",
    "        for y in range(len(array[i])):\n",
    "            if array[i][y] ==\"\t\" :\n",
    "                array[i][y]=\"    \"\n",
    "            else:\n",
    "                 break\n",
    "    for i in range(len(array)):\n",
    "        result.append(''.join(array[i]))\n",
    "    return '\\n'.join(result)\n",
    "\n",
    "print(listSplit(source))"
   ]
  },
  {
   "cell_type": "code",
   "execution_count": 27,
   "metadata": {},
   "outputs": [
    {
     "name": "stdout",
     "output_type": "stream",
     "text": [
      "        hello\thello 123\n",
      "    next2\n",
      "\n",
      "    next3\n"
     ]
    }
   ],
   "source": [
    "source = \"\t\thello\thello 123\\n\tnext2\\n\\n\tnext3\"\n",
    "# print(source)\n",
    "def list_split2(array):\n",
    "    result = []\n",
    "    for sentence in array.split('\\n'):\n",
    "        for i in range(len(sentence)):\n",
    "            if sentence[i] != '\\t':\n",
    "                break\n",
    "        else:\n",
    "            i = 0\n",
    "        result.append(' ' * 4 * i + sentence[i:])\n",
    "    return '\\n'.join(result)\n",
    "\n",
    "print(list_split2(source))"
   ]
  },
  {
   "cell_type": "code",
   "execution_count": 28,
   "metadata": {},
   "outputs": [],
   "source": [
    "assert listSplit(source) == list_split2(source)\n",
    "text = '\t(탭)처음 라인입니다\t(탭)처음라인 중간입니다\\n\t\t(탭)(탭) 두번째 라인 입니다\t(탭)두번째라인 중간입니다\\n\t(탭)마지막 라인 입니다'\n",
    "assert listSplit(text) == list_split2(text)"
   ]
  },
  {
   "cell_type": "code",
   "execution_count": null,
   "metadata": {},
   "outputs": [],
   "source": []
  }
 ],
 "metadata": {
  "kernelspec": {
   "display_name": "Python 3",
   "language": "python",
   "name": "python3"
  },
  "language_info": {
   "codemirror_mode": {
    "name": "ipython",
    "version": 3
   },
   "file_extension": ".py",
   "mimetype": "text/x-python",
   "name": "python",
   "nbconvert_exporter": "python",
   "pygments_lexer": "ipython3",
   "version": "3.6.4"
  }
 },
 "nbformat": 4,
 "nbformat_minor": 2
}
