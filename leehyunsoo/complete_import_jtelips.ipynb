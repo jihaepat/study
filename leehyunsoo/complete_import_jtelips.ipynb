{
 "cells": [
  {
   "cell_type": "code",
   "execution_count": 28,
   "metadata": {},
   "outputs": [
    {
     "name": "stdout",
     "output_type": "stream",
     "text": [
      "123123123\n"
     ]
    }
   ],
   "source": [
    "import os,sys\n",
    "\n",
    "DEPLOYMENT_LEVEL = os.environ.setdefault(\"DEPLOYMENT_LEVEL\", \"staging\")\n",
    "os.environ.setdefault(\"DJANGO_SETTINGS_MODULE\", \"jtelips.settings_{dlevel}\".format(dlevel=DEPLOYMENT_LEVEL))\n",
    "sys.path.append('/home/leehyunsoo/jtelips')\n",
    "\n",
    "\n",
    "def first_sentry_log():\n",
    "    from base import utils\n",
    "    utils.test_import()\n",
    "\n",
    "\n",
    "if __name__ == '__main__':\n",
    "    import django\n",
    "    django.setup(set_prefix=False)\n",
    "\n",
    "    first_sentry_log()"
   ]
  }
 ],
 "metadata": {
  "kernelspec": {
   "display_name": "Python 3",
   "language": "python",
   "name": "python3"
  },
  "language_info": {
   "codemirror_mode": {
    "name": "ipython",
    "version": 3
   },
   "file_extension": ".py",
   "mimetype": "text/x-python",
   "name": "python",
   "nbconvert_exporter": "python",
   "pygments_lexer": "ipython3",
   "version": "3.6.4"
  }
 },
 "nbformat": 4,
 "nbformat_minor": 2
}
