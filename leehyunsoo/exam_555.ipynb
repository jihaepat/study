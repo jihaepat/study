{
 "cells": [
  {
   "cell_type": "code",
   "execution_count": 2,
   "metadata": {},
   "outputs": [
    {
     "data": {
      "text/plain": [
       "'DEFGHIJ'"
      ]
     },
     "execution_count": 2,
     "metadata": {},
     "output_type": "execute_result"
    }
   ],
   "source": [
    "from string import ascii_uppercase\n",
    "\n",
    "def password_by_caesar(array,n):\n",
    "    alpha_list = ascii_uppercase.upper()\n",
    "    origin_list = [ ind.upper() for ind in array]\n",
    "    ind_num= []\n",
    "    result_list= []\n",
    "    \n",
    "    # search alpha\n",
    "    for x in range(len(array)):\n",
    "        ind_num += [alpha_list.find(origin_list[x])+n]\n",
    "        if ind_num[x]>26 :\n",
    "            ind_num[x] = ind_num[x] - 26\n",
    "        \n",
    "    for x in range(len(ind_num)):\n",
    "        result_list += [alpha_list[ind_num[x]]]\n",
    "    \n",
    "    return ''.join(result_list)\n"
   ]
  },
  {
   "cell_type": "code",
   "execution_count": 52,
   "metadata": {},
   "outputs": [],
   "source": [
    "assert password_by_caesar('CAT',5) == 'HFY'\n",
    "assert password_by_caesar('Z',3) == 'C'\n",
    "assert password_by_caesar('HELLO',3) == 'KHOOR'"
   ]
  },
  {
   "cell_type": "code",
   "execution_count": 20,
   "metadata": {},
   "outputs": [
    {
     "data": {
      "text/plain": [
       "'KHOORCPYCQDPHCLVCKYXQVRR'"
      ]
     },
     "execution_count": 20,
     "metadata": {},
     "output_type": "execute_result"
    }
   ],
   "source": [
    "from string import ascii_uppercase\n",
    "\n",
    "def func_555(array,n):\n",
    "    alpha_list = ascii_uppercase.upper()\n",
    "    \n",
    "    origin_list = [ind.upper() for ind in array]\n",
    "    ind_num = [(alpha_list.find(ind)+n) if (alpha_list.find(ind)+n) <26 else (alpha_list.find(ind) - 26) for ind in origin_list]\n",
    "    \n",
    "    return ''.join( [alpha_list[ind_num[x]] for x in range(len(ind_num))])\n",
    "func_555('HELLO my name is hyunsoo',3)"
   ]
  },
  {
   "cell_type": "code",
   "execution_count": 19,
   "metadata": {},
   "outputs": [
    {
     "ename": "AssertionError",
     "evalue": "",
     "output_type": "error",
     "traceback": [
      "\u001b[0;31m---------------------------------------------------------------------------\u001b[0m",
      "\u001b[0;31mAssertionError\u001b[0m                            Traceback (most recent call last)",
      "\u001b[0;32m<ipython-input-19-932a287478b1>\u001b[0m in \u001b[0;36m<module>\u001b[0;34m()\u001b[0m\n\u001b[1;32m      1\u001b[0m \u001b[0;32massert\u001b[0m \u001b[0mpassword_by_caesar\u001b[0m\u001b[0;34m(\u001b[0m\u001b[0;34m'CAT'\u001b[0m\u001b[0;34m,\u001b[0m\u001b[0;36m5\u001b[0m\u001b[0;34m)\u001b[0m \u001b[0;34m==\u001b[0m \u001b[0;34m'HFY'\u001b[0m\u001b[0;34m\u001b[0m\u001b[0m\n\u001b[1;32m      2\u001b[0m \u001b[0;32massert\u001b[0m \u001b[0mpassword_by_caesar\u001b[0m\u001b[0;34m(\u001b[0m\u001b[0;34m'Z'\u001b[0m\u001b[0;34m,\u001b[0m\u001b[0;36m3\u001b[0m\u001b[0;34m)\u001b[0m \u001b[0;34m==\u001b[0m \u001b[0;34m'C'\u001b[0m\u001b[0;34m\u001b[0m\u001b[0m\n\u001b[0;32m----> 3\u001b[0;31m \u001b[0;32massert\u001b[0m \u001b[0mpassword_by_caesar\u001b[0m\u001b[0;34m(\u001b[0m\u001b[0;34m'HELLO my name is hyunsoo'\u001b[0m\u001b[0;34m,\u001b[0m\u001b[0;36m3\u001b[0m\u001b[0;34m)\u001b[0m \u001b[0;34m==\u001b[0m \u001b[0;34m'KHOOR'\u001b[0m\u001b[0;34m\u001b[0m\u001b[0m\n\u001b[0m",
      "\u001b[0;31mAssertionError\u001b[0m: "
     ]
    }
   ],
   "source": [
    "assert password_by_caesar('CAT',5) == 'HFY'\n",
    "assert password_by_caesar('Z',3) == 'C'\n",
    "assert password_by_caesar('HELLO my name is hyunsoo',3) == 'KHOOR'"
   ]
  },
  {
   "cell_type": "code",
   "execution_count": 15,
   "metadata": {
    "scrolled": true
   },
   "outputs": [
    {
     "name": "stdout",
     "output_type": "stream",
     "text": [
      "[' ', ' ', ' ', ' ']\n"
     ]
    }
   ],
   "source": [
    "a = [ind.upper() for ind in '    '] \n",
    "print(a)"
   ]
  },
  {
   "cell_type": "code",
   "execution_count": null,
   "metadata": {},
   "outputs": [],
   "source": []
  }
 ],
 "metadata": {
  "kernelspec": {
   "display_name": "Python 3",
   "language": "python",
   "name": "python3"
  },
  "language_info": {
   "codemirror_mode": {
    "name": "ipython",
    "version": 3
   },
   "file_extension": ".py",
   "mimetype": "text/x-python",
   "name": "python",
   "nbconvert_exporter": "python",
   "pygments_lexer": "ipython3",
   "version": "3.6.4"
  }
 },
 "nbformat": 4,
 "nbformat_minor": 2
}
