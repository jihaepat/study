{
 "cells": [
  {
   "cell_type": "code",
   "execution_count": 48,
   "metadata": {},
   "outputs": [],
   "source": [
    "from string import ascii_uppercase\n",
    "\n",
    "def password_by_caesar(array,n):\n",
    "    alpha_list = ascii_uppercase.upper()\n",
    "    origin_list = [ ind for ind in array]\n",
    "    ind_num= []\n",
    "    result_list= []\n",
    "    \n",
    "    # search alpha\n",
    "    for x in range(len(array)):\n",
    "        ind_num += [alpha_list.find(origin_list[x])+n]\n",
    "        if ind_num[x]>26 :\n",
    "            ind_num[x] = ind_num[x] - 26\n",
    "        \n",
    "    for x in range(len(ind_num)):\n",
    "        result_list += [alpha_list[ind_num[x]]]\n",
    "    \n",
    "    return ''.join(result_list)"
   ]
  },
  {
   "cell_type": "code",
   "execution_count": 52,
   "metadata": {},
   "outputs": [],
   "source": [
    "assert password_by_caesar('CAT',5) == 'HFY'\n",
    "assert password_by_caesar('Z',3) == 'C'\n",
    "assert password_by_caesar('HELLO',3) == 'KHOOR'"
   ]
  },
  {
   "cell_type": "code",
   "execution_count": 50,
   "metadata": {},
   "outputs": [],
   "source": [
    "from string import ascii_uppercase\n",
    "\n",
    "def func_555(array,n):\n",
    "    alpha_list = ascii_uppercase.upper()\n",
    "    \n",
    "    origin_list = [ind for ind in array]\n",
    "    ind_num = [ (alpha_list.find(ind)+n) if (alpha_list.find(ind)+n) <26 else (alpha_list.find(ind) - 26) for ind in origin_list ]\n",
    "    \n",
    "    return ''.join( [alpha_list[ind_num[x]] for x in range(len(ind_num))])"
   ]
  },
  {
   "cell_type": "code",
   "execution_count": 51,
   "metadata": {},
   "outputs": [],
   "source": [
    "assert password_by_caesar('CAT',5) == 'HFY'\n",
    "assert password_by_caesar('Z',3) == 'C'\n",
    "assert password_by_caesar('HELLO',3) == 'KHOOR'"
   ]
  },
  {
   "cell_type": "code",
   "execution_count": null,
   "metadata": {},
   "outputs": [],
   "source": []
  }
 ],
 "metadata": {
  "kernelspec": {
   "display_name": "Python 3",
   "language": "python",
   "name": "python3"
  },
  "language_info": {
   "codemirror_mode": {
    "name": "ipython",
    "version": 3
   },
   "file_extension": ".py",
   "mimetype": "text/x-python",
   "name": "python",
   "nbconvert_exporter": "python",
   "pygments_lexer": "ipython3",
   "version": "3.6.4"
  }
 },
 "nbformat": 4,
 "nbformat_minor": 2
}
