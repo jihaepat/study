{
 "cells": [
  {
   "cell_type": "code",
   "execution_count": 28,
   "metadata": {},
   "outputs": [
    {
     "name": "stdout",
     "output_type": "stream",
     "text": [
      "['1', '0', '1', '1']\n"
     ]
    }
   ],
   "source": [
    "temp = [x for x in range(10,16)]\n",
    "total=[]\n",
    "# for i in range(10,16):\n",
    "#     total = [str(x) for x in temp]\n",
    "#     print(total)\n",
    "num=[10,11]\n",
    "for i in range(2):\n",
    "    for y in range(len(str(num[i]))):\n",
    "        total += str(num[i])[y]\n",
    "#     total.append(str(num[i]))\n",
    "print(total)"
   ]
  },
  {
   "cell_type": "code",
   "execution_count": null,
   "metadata": {},
   "outputs": [],
   "source": []
  }
 ],
 "metadata": {
  "kernelspec": {
   "display_name": "Python 3",
   "language": "python",
   "name": "python3"
  },
  "language_info": {
   "codemirror_mode": {
    "name": "ipython",
    "version": 3
   },
   "file_extension": ".py",
   "mimetype": "text/x-python",
   "name": "python",
   "nbconvert_exporter": "python",
   "pygments_lexer": "ipython3",
   "version": "3.6.4"
  }
 },
 "nbformat": 4,
 "nbformat_minor": 2
}
