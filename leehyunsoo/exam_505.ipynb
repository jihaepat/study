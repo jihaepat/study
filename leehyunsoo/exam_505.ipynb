{
 "cells": [
  {
   "cell_type": "code",
   "execution_count": 17,
   "metadata": {},
   "outputs": [
    {
     "name": "stdout",
     "output_type": "stream",
     "text": [
      "['1', '0', '0', '1', '1', '0']\n"
     ]
    }
   ],
   "source": [
    "temp = [x for x in range(10,16)]\n",
    "total=[]\n",
    "num=[100,110]\n",
    "for i in range(len(num)):\n",
    "    for y in range(len(str(num[i]))):\n",
    "        total+=[str(num[i])[y]]\n",
    "#     total.append(str(num[i]))\n",
    "print(total)"
   ]
  },
  {
   "cell_type": "code",
   "execution_count": 29,
   "metadata": {},
   "outputs": [
    {
     "name": "stdout",
     "output_type": "stream",
     "text": [
      "2025 ------ 14998500\n"
     ]
    }
   ],
   "source": [
    "num_10 = 0\n",
    "num_100=0\n",
    "def ten(n):\n",
    "    return 45*(n)\n",
    "def hun(n):\n",
    "    return 45*n*(n+1)\n",
    "\n",
    "for i in range(10):\n",
    "    num_10 += ten(i)\n",
    "    \n",
    "    \n",
    "for i in range(100):\n",
    "    num_100 += hun(i)\n",
    "print(num_10,\"------\",num_100)"
   ]
  },
  {
   "cell_type": "code",
   "execution_count": 2,
   "metadata": {},
   "outputs": [
    {
     "data": {
      "text/plain": [
       "1234"
      ]
     },
     "execution_count": 2,
     "metadata": {},
     "output_type": "execute_result"
    }
   ],
   "source": [
    "1234"
   ]
  }
 ],
 "metadata": {
  "kernelspec": {
   "display_name": "Python 3",
   "language": "python",
   "name": "python3"
  },
  "language_info": {
   "codemirror_mode": {
    "name": "ipython",
    "version": 3
   },
   "file_extension": ".py",
   "mimetype": "text/x-python",
   "name": "python",
   "nbconvert_exporter": "python",
   "pygments_lexer": "ipython3",
   "version": "3.6.4"
  }
 },
 "nbformat": 4,
 "nbformat_minor": 2
}
