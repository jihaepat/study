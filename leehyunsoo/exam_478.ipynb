{
 "cells": [
  {
   "cell_type": "code",
   "execution_count": 9,
   "metadata": {},
   "outputs": [
    {
     "name": "stdout",
     "output_type": "stream",
     "text": [
      "사용할 숫자의 개수를 입력하세요 :5\n",
      "1\n",
      "2\n",
      "3\n",
      "4\n",
      "5\n",
      "합 :  15, 평균 : 3\n"
     ]
    }
   ],
   "source": [
    "count = int(input(\"사용할 숫자의 개수를 입력하세요 :\"))\n",
    "sum_=0\n",
    "for x in range(count):\n",
    "    sum_ +=int(input())\n",
    "print((\"합 :  %d, 평균 : %d\")%(sum_ , int(sum_/5)))\n",
    "del count,sum_"
   ]
  },
  {
   "cell_type": "code",
   "execution_count": null,
   "metadata": {},
   "outputs": [],
   "source": [
    "\n"
   ]
  }
 ],
 "metadata": {
  "kernelspec": {
   "display_name": "Python 3",
   "language": "python",
   "name": "python3"
  },
  "language_info": {
   "codemirror_mode": {
    "name": "ipython",
    "version": 3
   },
   "file_extension": ".py",
   "mimetype": "text/x-python",
   "name": "python",
   "nbconvert_exporter": "python",
   "pygments_lexer": "ipython3",
   "version": "3.6.4"
  }
 },
 "nbformat": 4,
 "nbformat_minor": 2
}
