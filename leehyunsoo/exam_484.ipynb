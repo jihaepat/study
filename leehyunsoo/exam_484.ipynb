{
 "cells": [
  {
   "cell_type": "code",
   "execution_count": 50,
   "metadata": {},
   "outputs": [
    {
     "name": "stdout",
     "output_type": "stream",
     "text": [
      "num_goat_3_0\n"
     ]
    }
   ],
   "source": [
    "source_str = \"numGoat30\"\n",
    "change_str = list(source_str)\n",
    "for i in range(len(change_str)):\n",
    "    if change_str[i].isupper():\n",
    "        change_str[i] = \"_\"+change_str[i].lower()\n",
    "    elif change_str[i].isalpha()==False:\n",
    "        change_str[i] = \"_\" + change_str[i]\n",
    "print(\"\".join(change_str))"
   ]
  },
  {
   "cell_type": "code",
   "execution_count": 67,
   "metadata": {
    "scrolled": true
   },
   "outputs": [
    {
     "name": "stdout",
     "output_type": "stream",
     "text": [
      "num_goat_3_0\n"
     ]
    }
   ],
   "source": [
    "change_str = list(source_str)\n",
    "for i in range(len(change_str)):\n",
    "    change_str[i] = ( \"_\"+change_str[i].lower()) if change_str[i].isupper() or change_str[i].isdigit() else (change_str[i])\n",
    "print(\"\".join(change_str))"
   ]
  },
  {
   "cell_type": "code",
   "execution_count": 69,
   "metadata": {},
   "outputs": [
    {
     "name": "stdout",
     "output_type": "stream",
     "text": [
      "num_goat_3_0\n"
     ]
    }
   ],
   "source": [
    "def changeWord(array):\n",
    "    change_str =list(array)\n",
    "    for i in range(len(change_str)):\n",
    "        change_str[i] = ( \"_\"+change_str[i].lower()) if change_str[i].isupper() or change_str[i].isdigit() else (change_str[i])\n",
    "    return \"\".join(change_str)\n",
    "print(changeWord(source_str))"
   ]
  },
  {
   "cell_type": "code",
   "execution_count": 8,
   "metadata": {},
   "outputs": [
    {
     "name": "stdout",
     "output_type": "stream",
     "text": [
      "num_goat_3_0\n"
     ]
    }
   ],
   "source": [
    "source_str = \"numGoat30\"\n",
    "\n",
    "def change_word2(array):\n",
    "    result=[]\n",
    "    for ind in array:\n",
    "        if ind.isupper():\n",
    "            result.append(\"_\"+ind.lower())\n",
    "        elif ind.isdigit():\n",
    "            result.append(\"_\" + ind)\n",
    "        else :\n",
    "            result.append(ind)\n",
    "    return \"\".join(result)\n",
    "\n",
    "print(change_word2(source_str))"
   ]
  },
  {
   "cell_type": "code",
   "execution_count": 14,
   "metadata": {},
   "outputs": [],
   "source": [
    "def change_word2(array):\n",
    "    return \"\".join(['_' + x.lower() if x.isupper() or x.isdigit() else x for x in array])"
   ]
  },
  {
   "cell_type": "code",
   "execution_count": 15,
   "metadata": {},
   "outputs": [],
   "source": [
    "assert change_word2(\"numGoat30\") == \"num_goat_3_0\"\n",
    "assert change_word2(\"codingDojang\") == \"coding_dojang\""
   ]
  },
  {
   "cell_type": "code",
   "execution_count": null,
   "metadata": {},
   "outputs": [],
   "source": []
  }
 ],
 "metadata": {
  "kernelspec": {
   "display_name": "Python 3",
   "language": "python",
   "name": "python3"
  },
  "language_info": {
   "codemirror_mode": {
    "name": "ipython",
    "version": 3
   },
   "file_extension": ".py",
   "mimetype": "text/x-python",
   "name": "python",
   "nbconvert_exporter": "python",
   "pygments_lexer": "ipython3",
   "version": "3.6.4"
  }
 },
 "nbformat": 4,
 "nbformat_minor": 2
}
