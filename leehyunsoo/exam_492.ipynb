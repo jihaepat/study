{
 "cells": [
  {
   "cell_type": "code",
   "execution_count": 3,
   "metadata": {},
   "outputs": [
    {
     "name": "stdout",
     "output_type": "stream",
     "text": [
      "OOOOOX\n",
      "OOOOXX\n",
      "OOOXXX\n",
      "OOXXXX\n",
      "OXXXXX\n",
      "XXXXXX\n"
     ]
    }
   ],
   "source": [
    "n=6\n",
    "for row in range(1,n+1):\n",
    "    print(\"O\"*(n-row)+\"X\"*row)"
   ]
  },
  {
   "cell_type": "code",
   "execution_count": 4,
   "metadata": {},
   "outputs": [
    {
     "name": "stdout",
     "output_type": "stream",
     "text": [
      "OOOOOX\n",
      "OOOOXX\n",
      "OOOXXX\n",
      "OOXXXX\n",
      "OXXXXX\n",
      "XXXXXX\n"
     ]
    }
   ],
   "source": [
    "def printO(n):\n",
    "    for row in range(1,n+1):\n",
    "        print(\"O\"*(n-row)+\"X\"*row)\n",
    "printO(n)"
   ]
  },
  {
   "cell_type": "code",
   "execution_count": 5,
   "metadata": {},
   "outputs": [
    {
     "name": "stdout",
     "output_type": "stream",
     "text": [
      "OOOOOX\n",
      "OOOOXX\n",
      "OOOXXX\n",
      "OOXXXX\n",
      "OXXXXX\n",
      "XXXXXX\n"
     ]
    }
   ],
   "source": [
    "def printO1(n):\n",
    "    result=[]\n",
    "    for row in range(1,n+1):\n",
    "        result+=[\"O\"*(n-row)+\"X\"*row]\n",
    "    return result\n",
    "\n",
    "print(\"\\n\".join(printO1(n)))"
   ]
  },
  {
   "cell_type": "code",
   "execution_count": 6,
   "metadata": {},
   "outputs": [
    {
     "name": "stdout",
     "output_type": "stream",
     "text": [
      "OOOOOX\n",
      "OOOOXX\n",
      "OOOXXX\n",
      "OOXXXX\n",
      "OXXXXX\n",
      "XXXXXX\n"
     ]
    }
   ],
   "source": [
    "def printO2(n):    \n",
    "    return [(\"O\"*(n-row) + \"X\"*row )for row in range(1,n+1)]\n",
    "\n",
    "print(\"\\n\".join(printO2(n)))"
   ]
  },
  {
   "cell_type": "code",
   "execution_count": 7,
   "metadata": {},
   "outputs": [],
   "source": [
    "assert printO1(6) == printO2(6)\n",
    "assert printO1(1) == printO2(1)\n",
    "assert printO1(2) == printO2(2)\n",
    "assert printO1(3) == printO2(3)\n",
    "assert printO1(4) == printO2(4)"
   ]
  },
  {
   "cell_type": "code",
   "execution_count": null,
   "metadata": {},
   "outputs": [],
   "source": []
  }
 ],
 "metadata": {
  "kernelspec": {
   "display_name": "Python 3",
   "language": "python",
   "name": "python3"
  },
  "language_info": {
   "codemirror_mode": {
    "name": "ipython",
    "version": 3
   },
   "file_extension": ".py",
   "mimetype": "text/x-python",
   "name": "python",
   "nbconvert_exporter": "python",
   "pygments_lexer": "ipython3",
   "version": "3.6.4"
  }
 },
 "nbformat": 4,
 "nbformat_minor": 2
}
