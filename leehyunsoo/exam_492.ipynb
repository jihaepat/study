{
 "cells": [
  {
   "cell_type": "code",
   "execution_count": 27,
   "metadata": {},
   "outputs": [
    {
     "name": "stdout",
     "output_type": "stream",
     "text": [
      "OOOOOX\n",
      "OOOOXX\n",
      "OOOXXX\n",
      "OOXXXX\n",
      "OXXXXX\n"
     ]
    }
   ],
   "source": [
    "n=6\n",
    "for row in range(1,n):\n",
    "    print(\"O\"*(n-row)+\"X\"*row)"
   ]
  },
  {
   "cell_type": "code",
   "execution_count": 28,
   "metadata": {},
   "outputs": [
    {
     "name": "stdout",
     "output_type": "stream",
     "text": [
      "OOOOOX\n",
      "OOOOXX\n",
      "OOOXXX\n",
      "OOXXXX\n",
      "OXXXXX\n"
     ]
    }
   ],
   "source": [
    "def printO(n):\n",
    "    for row in range(1,n):\n",
    "        print(\"O\"*(n-row)+\"X\"*row)\n",
    "printO(n)"
   ]
  },
  {
   "cell_type": "code",
   "execution_count": null,
   "metadata": {},
   "outputs": [],
   "source": []
  }
 ],
 "metadata": {
  "kernelspec": {
   "display_name": "Python 3",
   "language": "python",
   "name": "python3"
  },
  "language_info": {
   "codemirror_mode": {
    "name": "ipython",
    "version": 3
   },
   "file_extension": ".py",
   "mimetype": "text/x-python",
   "name": "python",
   "nbconvert_exporter": "python",
   "pygments_lexer": "ipython3",
   "version": "3.6.4"
  }
 },
 "nbformat": 4,
 "nbformat_minor": 2
}
