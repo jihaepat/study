{
 "cells": [
  {
   "cell_type": "code",
   "execution_count": 13,
   "metadata": {},
   "outputs": [
    {
     "name": "stdout",
     "output_type": "stream",
     "text": [
      "14\n"
     ]
    }
   ],
   "source": [
    "origin_machine_price = 10\n",
    "origin_merchine_per = 100\n",
    "ext_part_price = 3\n",
    "ext_part_per = [30,70,15,40,65]\n",
    "ext_part_per.sort(reverse=True)\n",
    "result_price=origin_machine_price\n",
    "result_per=origin_merchine_per\n",
    "for i in range(len(ext_part_per)):\n",
    "    if origin_merchine_per/origin_machine_price< ext_part_per[i]/ext_part_price:\n",
    "        result_price+=ext_part_price\n",
    "        result_per+=ext_part_per[i]\n",
    "print(int(result_per/result_price))"
   ]
  },
  {
   "cell_type": "code",
   "execution_count": 12,
   "metadata": {},
   "outputs": [
    {
     "name": "stdout",
     "output_type": "stream",
     "text": [
      "17\n"
     ]
    }
   ],
   "source": [
    "part_array = [30,70,15,40,65]\n",
    "\n",
    "def performance_ratio(part_array):\n",
    "    part_array.sort(reverse=True)\n",
    "    result = []\n",
    "    for perfo in part_array:\n",
    "        if 150/10 < perfo/3:\n",
    "            result+=[perfo]\n",
    "    return int((sum(result)+150)/(len(result)*3+10))\n",
    "\n",
    "print(performance_ratio(part_array))"
   ]
  },
  {
   "cell_type": "code",
   "execution_count": null,
   "metadata": {},
   "outputs": [],
   "source": []
  }
 ],
 "metadata": {
  "kernelspec": {
   "display_name": "Python 3",
   "language": "python",
   "name": "python3"
  },
  "language_info": {
   "codemirror_mode": {
    "name": "ipython",
    "version": 3
   },
   "file_extension": ".py",
   "mimetype": "text/x-python",
   "name": "python",
   "nbconvert_exporter": "python",
   "pygments_lexer": "ipython3",
   "version": "3.6.4"
  }
 },
 "nbformat": 4,
 "nbformat_minor": 2
}
