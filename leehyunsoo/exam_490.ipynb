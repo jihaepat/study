{
 "cells": [
  {
   "cell_type": "code",
   "execution_count": 6,
   "metadata": {},
   "outputs": [
    {
     "name": "stdout",
     "output_type": "stream",
     "text": [
      "17\n"
     ]
    }
   ],
   "source": [
    "origin_machine_price = 10\n",
    "origin_merchine_per = 150\n",
    "ext_part_price = 3\n",
    "ext_part_per = [30,70,15,40,65]\n",
    "ext_part_per.sort(reverse=True)\n",
    "result_price=origin_machine_price\n",
    "result_per=origin_merchine_per\n",
    "for i in range(len(ext_part_per)):\n",
    "    if origin_merchine_per/origin_machine_price< ext_part_per[i]/ext_part_price:\n",
    "        result_price+=ext_part_price\n",
    "        result_per+=ext_part_per[i]\n",
    "print(int(result_per/result_price))"
   ]
  },
  {
   "cell_type": "code",
   "execution_count": 59,
   "metadata": {},
   "outputs": [
    {
     "name": "stdout",
     "output_type": "stream",
     "text": [
      "18\n"
     ]
    }
   ],
   "source": [
    "part_array = [30,70,60,40,65]\n",
    "\n",
    "def perfomance_ratio(part_array):\n",
    "    part_array.sort(reverse=True)\n",
    "    result = []\n",
    "    for perfo in part_array:\n",
    "        if 150/10 < perfo/3:\n",
    "            result+=[perfo]\n",
    "    return int((sum(result)+150)/(len(result)*3+10))\n",
    "\n",
    "print(performance_ratio(part_array))"
   ]
  },
  {
   "cell_type": "code",
   "execution_count": 60,
   "metadata": {},
   "outputs": [
    {
     "name": "stdout",
     "output_type": "stream",
     "text": [
      "18\n"
     ]
    }
   ],
   "source": [
    "CONST_PRICE = 10 #asdf\n",
    "CONST_PERFOMANCE = 150 #asdf\n",
    "part_price = 3\n",
    "part_perfomance = [30,70,60,40,65]\n",
    "\n",
    "def perfomance_ratio2(perfomance, price):\n",
    "    perfomance.sort(reverse = True)\n",
    "    result = 0\n",
    "    count = 0\n",
    "    for ind in perfomance :\n",
    "        if ((CONST_PERFOMANCE / CONST_PRICE ) < ind / price) :\n",
    "            result += ind \n",
    "            count += 1\n",
    "    result = (result + CONST_PERFOMANCE)/(count*3 + CONST_PRICE)\n",
    "    return int(result)\n",
    "\n",
    "print(perfomance_ratio2(part_perfomance,part_price))"
   ]
  },
  {
   "cell_type": "code",
   "execution_count": 62,
   "metadata": {},
   "outputs": [],
   "source": [
    "def "
   ]
  },
  {
   "cell_type": "code",
   "execution_count": null,
   "metadata": {},
   "outputs": [],
   "source": [
    "assert perfomance_ratio(part_perfomance) == perfomance_ratio2(part_perfomance,part_price)"
   ]
  }
 ],
 "metadata": {
  "kernelspec": {
   "display_name": "Python 3",
   "language": "python",
   "name": "python3"
  },
  "language_info": {
   "codemirror_mode": {
    "name": "ipython",
    "version": 3
   },
   "file_extension": ".py",
   "mimetype": "text/x-python",
   "name": "python",
   "nbconvert_exporter": "python",
   "pygments_lexer": "ipython3",
   "version": "3.6.4"
  }
 },
 "nbformat": 4,
 "nbformat_minor": 2
}
