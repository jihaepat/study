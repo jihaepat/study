{
 "cells": [
  {
   "cell_type": "code",
   "execution_count": 12,
   "metadata": {},
   "outputs": [
    {
     "name": "stdout",
     "output_type": "stream",
     "text": [
      "14\n"
     ]
    }
   ],
   "source": [
    "origin_machine_price = 10\n",
    "origin_merchine_per = 100\n",
    "ext_part_price = 3\n",
    "ext_part_per = [30,70,15,40,65]\n",
    "ext_part_per.sort(reverse=True)\n",
    "result_price=origin_machine_price\n",
    "result_per=origin_merchine_per\n",
    "for i in range(len(ext_part_per)):\n",
    "    if origin_merchine_per/origin_machine_price< ext_part_per[i]/ext_part_price:\n",
    "        result_price+=ext_part_price\n",
    "        result_per+=ext_part_per[i]\n",
    "print(int(result_per/result_price))"
   ]
  },
  {
   "cell_type": "code",
   "execution_count": null,
   "metadata": {},
   "outputs": [],
   "source": []
  }
 ],
 "metadata": {
  "kernelspec": {
   "display_name": "Python 3",
   "language": "python",
   "name": "python3"
  },
  "language_info": {
   "codemirror_mode": {
    "name": "ipython",
    "version": 3
   },
   "file_extension": ".py",
   "mimetype": "text/x-python",
   "name": "python",
   "nbconvert_exporter": "python",
   "pygments_lexer": "ipython3",
   "version": "3.6.4"
  }
 },
 "nbformat": 4,
 "nbformat_minor": 2
}
