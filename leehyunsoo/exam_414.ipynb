{
 "cells": [
  {
   "cell_type": "code",
   "execution_count": 1,
   "metadata": {},
   "outputs": [
    {
     "name": "stdout",
     "output_type": "stream",
     "text": [
      "[-4, -9, 1, 2, 3]\n"
     ]
    }
   ],
   "source": [
    "n =[1,2,-4,3,-9]\n",
    "def swap(array):\n",
    "    result = []\n",
    "    for i in range(len(array)):\n",
    "        if(array[i]<0):\n",
    "            result.append(array[i])\n",
    "    for i in range(len(array)):\n",
    "        if(array[i]>=0):\n",
    "            result.append(array[i])\n",
    "    return result\n",
    "print(swap(n))"
   ]
  },
  {
   "cell_type": "code",
   "execution_count": 3,
   "metadata": {},
   "outputs": [
    {
     "name": "stdout",
     "output_type": "stream",
     "text": [
      "[-4, -9, 1, 2, 3]\n"
     ]
    }
   ],
   "source": [
    "def swap2(array):\n",
    "    return [x for x in array if x<0]+[x for x in array if x>=0]\n",
    "print(swap2(n))"
   ]
  },
  {
   "cell_type": "code",
   "execution_count": null,
   "metadata": {},
   "outputs": [],
   "source": []
  }
 ],
 "metadata": {
  "kernelspec": {
   "display_name": "Python 3",
   "language": "python",
   "name": "python3"
  },
  "language_info": {
   "codemirror_mode": {
    "name": "ipython",
    "version": 3
   },
   "file_extension": ".py",
   "mimetype": "text/x-python",
   "name": "python",
   "nbconvert_exporter": "python",
   "pygments_lexer": "ipython3",
   "version": "3.6.4"
  }
 },
 "nbformat": 4,
 "nbformat_minor": 2
}
