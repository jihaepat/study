{
 "cells": [
  {
   "cell_type": "code",
   "execution_count": 3,
   "metadata": {},
   "outputs": [
    {
     "name": "stdout",
     "output_type": "stream",
     "text": [
      "10.2>10.1.2\n"
     ]
    }
   ],
   "source": [
    "# 입력한 버전들 중 높은 버전에 대하여 부등호로 표시하는 문제입니다.\n",
    "version01=\"0.0.2\"\n",
    "version02=\"0.0.3\"\n",
    "version03=\"1.1\"\n",
    "version04=\"1.1\"\n",
    "version05=\"10.2\"\n",
    "version06=\"10.1.2\"\n",
    "def checkVersion(ver01,ver02):\n",
    "    return print(str(ver01 if ver01>ver02 else ver02)+\">\"+str(ver01 if ver01<ver02 else ver02))\n",
    "checkVersion(version05,version06)"
   ]
  },
  {
   "cell_type": "code",
   "execution_count": 4,
   "metadata": {},
   "outputs": [
    {
     "ename": "IndexError",
     "evalue": "list index out of range",
     "output_type": "error",
     "traceback": [
      "\u001b[0;31m---------------------------------------------------------------------------\u001b[0m",
      "\u001b[0;31mIndexError\u001b[0m                                Traceback (most recent call last)",
      "\u001b[0;32m<ipython-input-4-d07d39fa7728>\u001b[0m in \u001b[0;36m<module>\u001b[0;34m()\u001b[0m\n\u001b[1;32m     29\u001b[0m     \u001b[0;32melse\u001b[0m \u001b[0;34m:\u001b[0m                                          \u001b[0;31m#앞에가 더 작으면\u001b[0m\u001b[0;34m\u001b[0m\u001b[0m\n\u001b[1;32m     30\u001b[0m         \u001b[0mprint\u001b[0m\u001b[0;34m(\u001b[0m\u001b[0mar01\u001b[0m\u001b[0;34m[\u001b[0m\u001b[0;36m1\u001b[0m\u001b[0;34m]\u001b[0m\u001b[0;34m,\u001b[0m\u001b[0;34m\">\"\u001b[0m\u001b[0;34m,\u001b[0m\u001b[0mar01\u001b[0m\u001b[0;34m[\u001b[0m\u001b[0;36m0\u001b[0m\u001b[0;34m]\u001b[0m\u001b[0;34m)\u001b[0m\u001b[0;34m\u001b[0m\u001b[0m\n\u001b[0;32m---> 31\u001b[0;31m \u001b[0mchechVersion2\u001b[0m\u001b[0;34m(\u001b[0m\u001b[0mversion03\u001b[0m\u001b[0;34m,\u001b[0m\u001b[0mversion04\u001b[0m\u001b[0;34m)\u001b[0m\u001b[0;34m\u001b[0m\u001b[0m\n\u001b[0m",
      "\u001b[0;32m<ipython-input-4-d07d39fa7728>\u001b[0m in \u001b[0;36mchechVersion2\u001b[0;34m(ver01, ver02)\u001b[0m\n\u001b[1;32m     17\u001b[0m \u001b[0;34m\u001b[0m\u001b[0m\n\u001b[1;32m     18\u001b[0m             \u001b[0;31m#셋째자리 비교===================================\u001b[0m\u001b[0;34m\u001b[0m\u001b[0;34m\u001b[0m\u001b[0m\n\u001b[0;32m---> 19\u001b[0;31m             \u001b[0;32mif\u001b[0m \u001b[0mar01\u001b[0m\u001b[0;34m[\u001b[0m\u001b[0;36m0\u001b[0m\u001b[0;34m]\u001b[0m\u001b[0;34m[\u001b[0m\u001b[0;36m2\u001b[0m\u001b[0;34m]\u001b[0m\u001b[0;34m>\u001b[0m\u001b[0mar01\u001b[0m\u001b[0;34m[\u001b[0m\u001b[0;36m1\u001b[0m\u001b[0;34m]\u001b[0m\u001b[0;34m[\u001b[0m\u001b[0;36m2\u001b[0m\u001b[0;34m]\u001b[0m\u001b[0;34m:\u001b[0m\u001b[0;34m\u001b[0m\u001b[0m\n\u001b[0m\u001b[1;32m     20\u001b[0m                 \u001b[0mprint\u001b[0m\u001b[0;34m(\u001b[0m\u001b[0mar01\u001b[0m\u001b[0;34m[\u001b[0m\u001b[0;36m0\u001b[0m\u001b[0;34m]\u001b[0m\u001b[0;34m,\u001b[0m\u001b[0;34m\">\"\u001b[0m\u001b[0;34m,\u001b[0m\u001b[0mar01\u001b[0m\u001b[0;34m[\u001b[0m\u001b[0;36m1\u001b[0m\u001b[0;34m]\u001b[0m\u001b[0;34m)\u001b[0m\u001b[0;34m\u001b[0m\u001b[0m\n\u001b[1;32m     21\u001b[0m             \u001b[0;32melif\u001b[0m \u001b[0mar01\u001b[0m\u001b[0;34m[\u001b[0m\u001b[0;36m0\u001b[0m\u001b[0;34m]\u001b[0m\u001b[0;34m[\u001b[0m\u001b[0;36m2\u001b[0m\u001b[0;34m]\u001b[0m\u001b[0;34m==\u001b[0m\u001b[0mar01\u001b[0m\u001b[0;34m[\u001b[0m\u001b[0;36m1\u001b[0m\u001b[0;34m]\u001b[0m\u001b[0;34m[\u001b[0m\u001b[0;36m2\u001b[0m\u001b[0;34m]\u001b[0m\u001b[0;34m:\u001b[0m\u001b[0;34m\u001b[0m\u001b[0m\n",
      "\u001b[0;31mIndexError\u001b[0m: list index out of range"
     ]
    }
   ],
   "source": [
    "def chechVersion2(ver01,ver02):\n",
    "    status=\"\"\n",
    "    ar01 = [ver01.split('.')] +[ ver02.split('.')]\n",
    "            \n",
    "    if len(ar01[0])<len(ar01[1]):        ar01[0]+=[\"0\"]\n",
    "    elif len(ar01[0])>len(ar01[1]):        ar01[1]+=[\"0\"]\n",
    "        \n",
    "    #첫째자리 비교    \n",
    "    if ar01[0][0]>ar01[1][0]:             #앞에가 더 크면\n",
    "        print(ar01[0],\">\",ar01[1])\n",
    "    elif ar01[0][0]==ar01[1][0]:        # 같으면\n",
    "        \n",
    "        #두째자리 비교=================================\n",
    "        if ar01[0][1]>ar01[1][1]:         # 앞에가 더 크면\n",
    "            print(ar01[0],\">\",ar01[1])\n",
    "        elif ar01[0][1]==ar01[1][1]:    # 같으면\n",
    "            \n",
    "            #셋째자리 비교===================================\n",
    "            if ar01[0][2]>ar01[1][2]:\n",
    "                print(ar01[0],\">\",ar01[1])\n",
    "            elif ar01[0][2]==ar01[1][2]:\n",
    "                print(ar01[0],\"==\",ar01[1])\n",
    "            else :\n",
    "                print(ar01[1],\">\",ar01[0])\n",
    "            #=================================================\n",
    "        else :                                      #앞에가 더 작으면\n",
    "            print(ar01[1],\">\",ar01[0])\n",
    "        #====================================================\n",
    "    else :                                          #앞에가 더 작으면\n",
    "        print(ar01[1],\">\",ar01[0])\n",
    "chechVersion2(version03,version04)"
   ]
  },
  {
   "cell_type": "code",
   "execution_count": 5,
   "metadata": {},
   "outputs": [
    {
     "name": "stdout",
     "output_type": "stream",
     "text": [
      "1.1.0 == 1.1.0\n"
     ]
    }
   ],
   "source": [
    "def chechVersion2(ver01,ver02):\n",
    "    \n",
    "    ar01 = [ver01.split('.')] +[ ver02.split('.')]\n",
    "    (ar01[0].append(\"0\"),ar01[1].append(\"0\")) if len(ar01[0])==len(ar01[1]) else ar01[0].append(\"0\") if len(ar01[0])<len(ar01[1]) else ar01[1]+[\"0\"]\n",
    "    \n",
    "    if ar01[0][0]<=ar01[1][0]:\n",
    "        if ar01[0][1]<=ar01[1][1]:\n",
    "            if ar01[0][2]==ar01[1][2]:\n",
    "                print(\".\".join(ar01[0]),\"==\",\".\".join(ar01[1]))\n",
    "            elif ar01[0][2]>ar01[1][2]:\n",
    "                print(\".\".join(ar01[0]),\">\",\".\".join(ar01[1]))\n",
    "            else :\n",
    "                print(\".\".join(ar01[1]),\">\",\".\".join(ar01[0]))\n",
    "        else :\n",
    "            print(\".\".join(ar01[0]),\">\",\".\".join(ar01[1]))\n",
    "    else :\n",
    "        print(\".\".join(ar01[0]),\">\",\".\".join(ar01[1]))\n",
    "        \n",
    "chechVersion2(version03,version04)"
   ]
  },
  {
   "cell_type": "code",
   "execution_count": 6,
   "metadata": {},
   "outputs": [
    {
     "name": "stdout",
     "output_type": "stream",
     "text": [
      "1.1.0 == 1.1.0\n"
     ]
    }
   ],
   "source": [
    "def checkVersion3(ver01,ver02):\n",
    "    \n",
    "    ar01 = [ver01.split('.')] +[ ver02.split('.')]\n",
    "    (ar01[0].append(\"0\"),ar01[1].append(\"0\")) if len(ar01[0])==len(ar01[1]) else ar01[0].append(\"0\") if len(ar01[0])<len(ar01[1]) else ar01[1]+[\"0\"]\n",
    "\n",
    "    if ar01[0][0]<=ar01[1][0]:\n",
    "        if ar01[0][1]<=ar01[1][1]:\n",
    "            if ar01[0][2]==ar01[1][2]:\n",
    "                print(\".\".join(ar01[0]),\"==\",\".\".join(ar01[1]))\n",
    "            elif ar01[0][2]>ar01[1][2]:\n",
    "                print(\".\".join(ar01[0]),\">\",\".\".join(ar01[1]))\n",
    "            else :\n",
    "                print(\".\".join(ar01[1]),\">\",\".\".join(ar01[0]))\n",
    "        else :\n",
    "            print(\".\".join(ar01[0]),\">\",\".\".join(ar01[1]))\n",
    "    else :\n",
    "        print(\".\".join(ar01[0]),\">\",\".\".join(ar01[1]))\n",
    "        \n",
    "checkVersion3(version03,version04)"
   ]
  },
  {
   "cell_type": "code",
   "execution_count": 81,
   "metadata": {},
   "outputs": [
    {
     "data": {
      "text/plain": [
       "('0.0.0', '==', '0.0.0')"
      ]
     },
     "execution_count": 81,
     "metadata": {},
     "output_type": "execute_result"
    }
   ],
   "source": [
    "def checkVersion4(ver01, ver02):\n",
    "    temp = [ver01.split('.')] + [ver02.split('.')]\n",
    "    if temp[0]==temp[1] :\n",
    "        return ver01,'==',ver02\n",
    "    elif temp[0]>temp[1] :\n",
    "        return ver01,'>',ver02\n",
    "    else :\n",
    "        return ver01,'<',ver02\n",
    "checkVersion4('0.0.0','0.0.0')"
   ]
  },
  {
   "cell_type": "code",
   "execution_count": 82,
   "metadata": {},
   "outputs": [
    {
     "ename": "AssertionError",
     "evalue": "",
     "output_type": "error",
     "traceback": [
      "\u001b[0;31m---------------------------------------------------------------------------\u001b[0m",
      "\u001b[0;31mAssertionError\u001b[0m                            Traceback (most recent call last)",
      "\u001b[0;32m<ipython-input-82-c9bdaa319ba3>\u001b[0m in \u001b[0;36m<module>\u001b[0;34m()\u001b[0m\n\u001b[1;32m      1\u001b[0m \u001b[0;32massert\u001b[0m \u001b[0mcheckVersion4\u001b[0m\u001b[0;34m(\u001b[0m\u001b[0;34m'0.0.0'\u001b[0m\u001b[0;34m,\u001b[0m\u001b[0;34m'0.0.0'\u001b[0m\u001b[0;34m)\u001b[0m \u001b[0;34m==\u001b[0m \u001b[0;34m(\u001b[0m\u001b[0;34m'0.0.0'\u001b[0m\u001b[0;34m,\u001b[0m \u001b[0;34m'=='\u001b[0m\u001b[0;34m,\u001b[0m \u001b[0;34m'0.0.0'\u001b[0m\u001b[0;34m)\u001b[0m\u001b[0;34m\u001b[0m\u001b[0m\n\u001b[0;32m----> 2\u001b[0;31m \u001b[0;32massert\u001b[0m \u001b[0mcheckVersion4\u001b[0m\u001b[0;34m(\u001b[0m\u001b[0;34m'10.0.0'\u001b[0m\u001b[0;34m,\u001b[0m\u001b[0;34m'2.8.0'\u001b[0m\u001b[0;34m)\u001b[0m \u001b[0;34m==\u001b[0m \u001b[0;34m(\u001b[0m\u001b[0;34m'10.0.0'\u001b[0m\u001b[0;34m,\u001b[0m \u001b[0;34m'>'\u001b[0m\u001b[0;34m,\u001b[0m \u001b[0;34m'2.8.0'\u001b[0m\u001b[0;34m)\u001b[0m\u001b[0;34m\u001b[0m\u001b[0m\n\u001b[0m",
      "\u001b[0;31mAssertionError\u001b[0m: "
     ]
    }
   ],
   "source": [
    "assert checkVersion4('0.0.0','0.0.0') == ('0.0.0', '==', '0.0.0')\n",
    "assert checkVersion4('10.0.0','2.8.0') == ('10.0.0', '>', '2.8.0')\n"
   ]
  },
  {
   "cell_type": "code",
   "execution_count": null,
   "metadata": {},
   "outputs": [],
   "source": []
  }
 ],
 "metadata": {
  "kernelspec": {
   "display_name": "Python 3",
   "language": "python",
   "name": "python3"
  },
  "language_info": {
   "codemirror_mode": {
    "name": "ipython",
    "version": 3
   },
   "file_extension": ".py",
   "mimetype": "text/x-python",
   "name": "python",
   "nbconvert_exporter": "python",
   "pygments_lexer": "ipython3",
   "version": "3.6.4"
  }
 },
 "nbformat": 4,
 "nbformat_minor": 2
}
