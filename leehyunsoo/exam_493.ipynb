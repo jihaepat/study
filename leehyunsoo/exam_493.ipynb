{
 "cells": [
  {
   "cell_type": "code",
   "execution_count": 10,
   "metadata": {},
   "outputs": [
    {
     "name": "stdout",
     "output_type": "stream",
     "text": [
      "1.1>1.0.1\n"
     ]
    }
   ],
   "source": [
    "# 입력한 버전들 중 높은 버전에 대하여 부등호로 표시하는 문제입니다.\n",
    "version01=\"0.0.2\"\n",
    "version02=\"0.0.3\"\n",
    "version03=\"1.1.2\"\n",
    "version04=\"1.1.10\"\n",
    "version05=\"1.1\"\n",
    "version06=\"1.0.1\"\n",
    "def checkVersion(ver01,ver02):\n",
    "    return print(str(ver01 if ver01>ver02 else ver02)+\">\"+str(ver01 if ver01<ver02 else ver02))\n",
    "checkVersion(version05,version06)"
   ]
  },
  {
   "cell_type": "code",
   "execution_count": null,
   "metadata": {},
   "outputs": [],
   "source": []
  }
 ],
 "metadata": {
  "kernelspec": {
   "display_name": "Python 3",
   "language": "python",
   "name": "python3"
  },
  "language_info": {
   "codemirror_mode": {
    "name": "ipython",
    "version": 3
   },
   "file_extension": ".py",
   "mimetype": "text/x-python",
   "name": "python",
   "nbconvert_exporter": "python",
   "pygments_lexer": "ipython3",
   "version": "3.6.4"
  }
 },
 "nbformat": 4,
 "nbformat_minor": 2
}
