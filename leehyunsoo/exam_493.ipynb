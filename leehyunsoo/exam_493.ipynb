{
 "cells": [
  {
   "cell_type": "code",
   "execution_count": 158,
   "metadata": {},
   "outputs": [
    {
     "name": "stdout",
     "output_type": "stream",
     "text": [
      "10.2>10.1.2\n"
     ]
    }
   ],
   "source": [
    "# 입력한 버전들 중 높은 버전에 대하여 부등호로 표시하는 문제입니다.\n",
    "version01=\"0.0.2\"\n",
    "version02=\"0.0.3\"\n",
    "version03=\"1.1\"\n",
    "version04=\"1.1.1\"\n",
    "version05=\"10.2\"\n",
    "version06=\"10.1.2\"\n",
    "def checkVersion(ver01,ver02):\n",
    "    return print(str(ver01 if ver01>ver02 else ver02)+\">\"+str(ver01 if ver01<ver02 else ver02))\n",
    "checkVersion(version05,version06)"
   ]
  },
  {
   "cell_type": "code",
   "execution_count": 117,
   "metadata": {},
   "outputs": [
    {
     "name": "stdout",
     "output_type": "stream",
     "text": [
      "['1', '1', '2'] > ['1', '1', '1']\n"
     ]
    }
   ],
   "source": [
    "def chechVersion2(ver01,ver02):\n",
    "    status=\"\"\n",
    "    ar01 = [ver01.split('.')] +[ ver02.split('.')]\n",
    "            \n",
    "    if len(ar01[0])<len(ar01[1]):        ar01[0]+=[\"0\"]\n",
    "    elif len(ar01[0])>len(ar01[1]):        ar01[1]+=[\"0\"]\n",
    "        \n",
    "    #첫째자리 비교    \n",
    "    if ar01[0][0]>ar01[1][0]:             #앞에가 더 크면\n",
    "        print(ar01[0],\">\",ar01[1])\n",
    "    elif ar01[0][0]==ar01[1][0]:        # 같으면\n",
    "        \n",
    "        #두째자리 비교=================================\n",
    "        if ar01[0][1]>ar01[1][1]:         # 앞에가 더 크면\n",
    "            print(ar01[0],\">\",ar01[1])\n",
    "        elif ar01[0][1]==ar01[1][1]:    # 같으면\n",
    "            \n",
    "            #셋째자리 비교===================================\n",
    "            if ar01[0][2]>ar01[1][2]:\n",
    "                print(ar01[0],\">\",ar01[1])\n",
    "            elif ar01[0][2]==ar01[1][2]:\n",
    "                print(ar01[0],\"==\",ar01[1])\n",
    "            else :\n",
    "                print(ar01[1],\">\",ar01[0])\n",
    "            #=================================================\n",
    "        else :                                      #앞에가 더 작으면\n",
    "            print(ar01[1],\">\",ar01[0])\n",
    "        #====================================================\n",
    "    else :                                          #앞에가 더 작으면\n",
    "        print(ar01[1],\">\",ar01[0])\n",
    "chechVersion2(version03,version04)"
   ]
  },
  {
   "cell_type": "code",
   "execution_count": 164,
   "metadata": {},
   "outputs": [
    {
     "name": "stdout",
     "output_type": "stream",
     "text": [
      "1.1.1 > 1.1.0\n"
     ]
    }
   ],
   "source": [
    "def chechVersion2(ver01,ver02):\n",
    "    \n",
    "    ar01 = [ver01.split('.')] +[ ver02.split('.')]\n",
    "    (ar01[0].append(\"0\"),ar01[1].append(\"0\")) if len(ar01[0])==len(ar01[1]) else ar01[0].append(\"0\") if len(ar01[0])<len(ar01[1]) else ar01[1]+[\"0\"]\n",
    "    \n",
    "    if ar01[0][0]<=ar01[1][0]:\n",
    "        if ar01[0][1]<=ar01[1][1]:\n",
    "            if ar01[0][2]==ar01[1][2]:\n",
    "                print(\".\".join(ar01[0]),\"==\",\".\".join(ar01[1]))\n",
    "            elif ar01[0][2]>ar01[1][2]:\n",
    "                print(\".\".join(ar01[0]),\">\",\".\".join(ar01[1]))\n",
    "            else :\n",
    "                print(\".\".join(ar01[1]),\">\",\".\".join(ar01[0]))\n",
    "        else :\n",
    "            print(\".\".join(ar01[0]),\">\",\".\".join(ar01[1]))\n",
    "    else :\n",
    "        print(\".\".join(ar01[0]),\">\",\".\".join(ar01[1]))\n",
    "        \n",
    "chechVersion2(version03,version04)"
   ]
  }
 ],
 "metadata": {
  "kernelspec": {
   "display_name": "Python 3",
   "language": "python",
   "name": "python3"
  },
  "language_info": {
   "codemirror_mode": {
    "name": "ipython",
    "version": 3
   },
   "file_extension": ".py",
   "mimetype": "text/x-python",
   "name": "python",
   "nbconvert_exporter": "python",
   "pygments_lexer": "ipython3",
   "version": "3.6.4"
  }
 },
 "nbformat": 4,
 "nbformat_minor": 2
}
