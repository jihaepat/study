{
 "cells": [
  {
   "cell_type": "code",
   "execution_count": null,
   "metadata": {},
   "outputs": [],
   "source": [
    "#title\n",
    "from base.models import Model\n",
    "\n",
    "data = Model.objects.order_by('-id')\n",
    "with open('/mnt/16TB/hyunsoo/title.txt', 'a') as file_:\n",
    "    for x in range(int(data.count() / 10000)):\n",
    "        data2 = Model.objects.order_by('-id')[x * 10000:x * 10000 + 10000]\n",
    "        for y in range(10000):\n",
    "            file_.write(data2[y].raw['patent']['title'] + '\\n')\n",
    "            print(x*10000+y)\n",
    "\n",
    "with open('/mnt/16TB/hyunsoo/title.txt', 'a') as file_:\n",
    "    data2 = Model.objects.order_by('-id')[6750000:]\n",
    "    for x in range(data2.count()):\n",
    "        file_.write(data2[x].raw['patent']['title'] + '\\n')\n",
    "        print(x)"
   ]
  },
  {
   "cell_type": "code",
   "execution_count": null,
   "metadata": {},
   "outputs": [],
   "source": [
    "#claims\n",
    "from base.models import Model\n",
    "\n",
    "data = Model.objects.order_by('-id')\n",
    "with open('/mnt/16TB/hyunsoo/claims.txt', 'a') as file_:\n",
    "    for x in range(int(data.count() / 10000)):\n",
    "        data2 = Model.objects.order_by('-id')[x * 10000:x * 10000 + 10000]\n",
    "        for y in range(10000):\n",
    "            for len_claims in range(len(data2[y].raw['patent']['claims'])):\n",
    "                file_.write(data2[y].raw['patent']['claims'][len_claims]['plain'] + '\\n')\n",
    "            file_.write('\\n')\n",
    "            print(x*10000+y)\n",
    "            \n",
    "with open('/mnt/16TB/hyunsoo/claims.txt', 'a') as file_:\n",
    "    data2 = Model.objects.order_by('-id')[6750000:]\n",
    "    for x in range(data2.count()):\n",
    "        for len_claims in range(len(data2[x].raw['patent']['claims'])):\n",
    "            file_.write(data2[x].raw['patent']['claims'][len_claims]['plain'] + '\\n')\n",
    "        file_.write('\\n')\n",
    "        print(x)"
   ]
  },
  {
   "cell_type": "code",
   "execution_count": null,
   "metadata": {},
   "outputs": [],
   "source": [
    "#abstract\n",
    "from base.models import Model\n",
    "\n",
    "data = Model.objects.order_by('-id')\n",
    "with open('/mnt/16TB/hyunsoo/abstract.txt', 'a') as file_:\n",
    "    for x in range(int(data.count() / 10000)):\n",
    "        data2 = Model.objects.order_by('-id')[x * 10000:x * 10000 + 10000]\n",
    "        for y in range(10000):\n",
    "            file_.write(data2[y].raw['patent']['abstract']['plain'] + '\\n')\n",
    "            print(x*10000+y)\n",
    "\n",
    "with open('/mnt/16TB/hyunsoo/abstract.txt', 'a') as file_:\n",
    "    data2 = Model.objects.order_by('-id')[6750000:]\n",
    "    for x in range(data2.count()):\n",
    "        file_.write(data2[x].raw['patent']['abstract']['plain'] + '\\n')\n",
    "        print(x)"
   ]
  },
  {
   "cell_type": "code",
   "execution_count": null,
   "metadata": {},
   "outputs": [],
   "source": [
    "#description\n",
    "from base.models import Model\n",
    "\n",
    "data = Model.objects.order_by('-id')\n",
    "with open('/mnt/16TB/hyunsoo/description.txt', 'a') as file_:\n",
    "    for x in range(int(data.count() / 10000)):\n",
    "        data2 = Model.objects.order_by('-id')[x * 10000:x * 10000 + 10000]\n",
    "        for y in range(10000):\n",
    "            if((data2[y].raw['patent']['description']['DRAWING_DESC']).get('plain','') != ''):\n",
    "                file_.write(data2[y].raw['patent']['description']['DRAWING_DESC']['plain'] + '\\n')\n",
    "            if((data2[y].raw['patent']['description']['BRIEF_SUMMARY']).get('plain','') != ''):\n",
    "                file_.write(data2[y].raw['patent']['description']['BRIEF_SUMMARY']['plain'] + '\\n')\n",
    "            if((data2[y].raw['patent']['description']['DETAILED_DESC']).get('plain','') != ''):\n",
    "                file_.write(data2[y].raw['patent']['description']['DETAILED_DESC']['plain'] + '\\n')\n",
    "            print(x*10000+y)\n",
    "\n",
    "with open('/mnt/16TB/hyunsoo/description.txt', 'a') as file_:\n",
    "    data2 = Model.objects.order_by('-id')[6750000:]\n",
    "    for x in range(data2.count()):\n",
    "        if((data2[x].raw['patent']['description']['DRAWING_DESC']).get('plain','') != ''):\n",
    "                file_.write(data2[x].raw['patent']['description']['DRAWING_DESC']['plain'] + '\\n')\n",
    "            if((data2[x].raw['patent']['description']['BRIEF_SUMMARY']).get('plain','') != ''):\n",
    "                file_.write(data2[x].raw['patent']['description']['BRIEF_SUMMARY']['plain'] + '\\n')\n",
    "            if((data2[x].raw['patent']['description']['DETAILED_DESC']).get('plain','') != ''):\n",
    "                file_.write(data2[x].raw['patent']['description']['DETAILED_DESC']['plain'] + '\\n')\n",
    "        print(x)\n"
   ]
  }
 ],
 "metadata": {
  "kernelspec": {
   "display_name": "Python 3",
   "language": "python",
   "name": "python3"
  },
  "language_info": {
   "codemirror_mode": {
    "name": "ipython",
    "version": 3
   },
   "file_extension": ".py",
   "mimetype": "text/x-python",
   "name": "python",
   "nbconvert_exporter": "python",
   "pygments_lexer": "ipython3",
   "version": "3.6.4"
  }
 },
 "nbformat": 4,
 "nbformat_minor": 2
}
