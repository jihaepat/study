{
 "cells": [
  {
   "cell_type": "code",
   "execution_count": 12,
   "metadata": {},
   "outputs": [
    {
     "name": "stdout",
     "output_type": "stream",
     "text": [
      "(3,4)(4,5)(5,6)\n"
     ]
    }
   ],
   "source": [
    "S = [1,3,4,5,6,17,20]\n",
    "def func(array):\n",
    "    result=\"\"\n",
    "    point = 99999\n",
    "    for i in range(len(array)-1):\n",
    "        diff= abs(array[i]-array[i+1])\n",
    "        if point>diff :\n",
    "            point = diff\n",
    "            result=\"(%d,%d)\"%(array[i],array[i+1])\n",
    "        elif point == diff:\n",
    "            result+=\"(%d,%d)\"%(array[i],array[i+1])\n",
    "    return result\n",
    "print(func(S))"
   ]
  },
  {
   "cell_type": "code",
   "execution_count": 32,
   "metadata": {},
   "outputs": [
    {
     "name": "stdout",
     "output_type": "stream",
     "text": [
      "[[3, 4], [4, 5], [5, 6]]\n"
     ]
    }
   ],
   "source": [
    "def func2(array):\n",
    "    result=[]\n",
    "    point = 99999\n",
    "    for i in range(len(array)-1):\n",
    "        diff= abs(array[i]-array[i+1])\n",
    "        if point>diff :\n",
    "            point = diff\n",
    "            result =[[array[i],array[i+1]]]\n",
    "        elif point == diff:\n",
    "            result+= [[array[i],array[i+1]]]\n",
    "            \n",
    "    return result\n",
    "print(func2(S))"
   ]
  },
  {
   "cell_type": "code",
   "execution_count": null,
   "metadata": {},
   "outputs": [],
   "source": []
  }
 ],
 "metadata": {
  "kernelspec": {
   "display_name": "Python 3",
   "language": "python",
   "name": "python3"
  },
  "language_info": {
   "codemirror_mode": {
    "name": "ipython",
    "version": 3
   },
   "file_extension": ".py",
   "mimetype": "text/x-python",
   "name": "python",
   "nbconvert_exporter": "python",
   "pygments_lexer": "ipython3",
   "version": "3.6.4"
  }
 },
 "nbformat": 4,
 "nbformat_minor": 2
}
