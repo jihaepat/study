{
 "cells": [
  {
   "cell_type": "code",
   "execution_count": 135,
   "metadata": {},
   "outputs": [
    {
     "data": {
      "text/plain": [
       "1"
      ]
     },
     "execution_count": 135,
     "metadata": {},
     "output_type": "execute_result"
    }
   ],
   "source": [
    "def carry_opperation(num01, num02):\n",
    "    ar = [[int(ind) for ind in str(num01)], [int(ind) for ind in str(num02)]]\n",
    "    sum_ar = []\n",
    "    count = 0\n",
    "    \n",
    "    if len(ar[0]) > len(ar[1]):\n",
    "        for x in range(len(ar[0]) - len(ar[1])):\n",
    "            ar[1].insert(0,0)\n",
    "    elif len(ar[0]) < len(ar[1]):\n",
    "        for x in range(len(ar[1]) - len(ar[0])):\n",
    "            ar[0].insert(0,0)\n",
    "        \n",
    "    for x in range(len(ar[0])):\n",
    "        sum_ar.append(ar[0][x] + ar[1][x])\n",
    "        \n",
    "    for x in range(len(sum_ar)-1,0,-1):\n",
    "        if  sum_ar[x] >= 10:\n",
    "            sum_ar[x-1] += 1\n",
    "    for x in range(len(sum_ar)):\n",
    "        if  sum_ar[x] >= 10:\n",
    "            count += 1\n",
    "    return count\n",
    "\n",
    "carry_opperation(5, 555)"
   ]
  },
  {
   "cell_type": "code",
   "execution_count": 136,
   "metadata": {},
   "outputs": [],
   "source": [
    "assert carry_opperation(111, 222) == 0\n",
    "assert carry_opperation(5, 455) == 1\n",
    "assert carry_opperation(6, 555) == 1\n",
    "assert carry_opperation(123, 594) == 1\n",
    "assert carry_opperation(445, 555) == 3\n",
    "assert carry_opperation(555, 555) == 3"
   ]
  },
  {
   "cell_type": "code",
   "execution_count": 147,
   "metadata": {},
   "outputs": [
    {
     "data": {
      "text/plain": [
       "3"
      ]
     },
     "execution_count": 147,
     "metadata": {},
     "output_type": "execute_result"
    }
   ],
   "source": [
    "def func_5_397(num01, num02):\n",
    "    ar = [[int(ind) for ind in str(num01)], [int(ind) for ind in str(num02)]]\n",
    "    count = 0\n",
    "    if len(ar[0]) > len(ar[1]):\n",
    "        ar[1] = [0 for x in range(len(str(num01)) - len(str(num02)))] + [num02]\n",
    "    elif len(ar[0]) < len(ar[1]):\n",
    "        ar[0] = [0 for x in range(len(str(num02)) - len(str(num01)))] + [num01]\n",
    "        \n",
    "    sum_ar = [ (ar[0][x] + ar[1][x]) for x in range(len(ar[0]))]\n",
    "    \n",
    "    for x in range(len(sum_ar) - 1,0,-1):\n",
    "        if  sum_ar[x] >= 10:\n",
    "            sum_ar[x - 1] += 1\n",
    "    for x in range(len(sum_ar)):\n",
    "        if  sum_ar[x] >= 10:\n",
    "            count += 1\n",
    "        \n",
    "    return count\n",
    "\n",
    "func_5_397(555, 555)"
   ]
  },
  {
   "cell_type": "code",
   "execution_count": 148,
   "metadata": {},
   "outputs": [],
   "source": [
    "assert carry_opperation(111, 222) == func_5_397(111, 222)\n",
    "assert carry_opperation(5, 555) == func_5_397(5, 555)\n",
    "assert carry_opperation(6, 555) == func_5_397(6, 555)\n",
    "assert carry_opperation(123, 594) == func_5_397(123, 594)\n",
    "assert carry_opperation(445, 555) == func_5_397(445, 555)\n",
    "assert carry_opperation(555, 5) == func_5_397(555, 5)"
   ]
  },
  {
   "cell_type": "code",
   "execution_count": null,
   "metadata": {},
   "outputs": [],
   "source": []
  }
 ],
 "metadata": {
  "kernelspec": {
   "display_name": "Python 3",
   "language": "python",
   "name": "python3"
  },
  "language_info": {
   "codemirror_mode": {
    "name": "ipython",
    "version": 3
   },
   "file_extension": ".py",
   "mimetype": "text/x-python",
   "name": "python",
   "nbconvert_exporter": "python",
   "pygments_lexer": "ipython3",
   "version": "3.6.4"
  }
 },
 "nbformat": 4,
 "nbformat_minor": 2
}
