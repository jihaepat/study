{
 "cells": [
  {
   "cell_type": "code",
   "execution_count": 47,
   "metadata": {},
   "outputs": [
    {
     "name": "stdout",
     "output_type": "stream",
     "text": [
      "[False, False, False, True, False]\n"
     ]
    }
   ],
   "source": [
    "input_array = [\"2222\",\"01234\",\"01234567890\",\"6789012345\",\"012322456789\"]\n",
    "\n",
    "def check(array):\n",
    "    result = []\n",
    "    for i in range(len(array)):\n",
    "        if len(array[i])==10 and len(list(array[i])) == len(list(set(array[i]))):\n",
    "            result.append(True)\n",
    "        else:\n",
    "            result.append(False)\n",
    "    return result\n",
    "print(check(input_array))"
   ]
  },
  {
   "cell_type": "code",
   "execution_count": 42,
   "metadata": {},
   "outputs": [
    {
     "data": {
      "text/plain": [
       "[False, False, False, True, False]"
      ]
     },
     "execution_count": 42,
     "metadata": {},
     "output_type": "execute_result"
    }
   ],
   "source": [
    "def check2(array):\n",
    "    result=[]\n",
    "    for i in range(len(array)):\n",
    "        result.append(False if len(array[i])==10 and len(list(array[i])) == len(list(set(array[i]))) else True)\n",
    "    print(result)\n",
    "check(input_array)"
   ]
  }
 ],
 "metadata": {
  "kernelspec": {
   "display_name": "Python 3",
   "language": "python",
   "name": "python3"
  },
  "language_info": {
   "codemirror_mode": {
    "name": "ipython",
    "version": 3
   },
   "file_extension": ".py",
   "mimetype": "text/x-python",
   "name": "python",
   "nbconvert_exporter": "python",
   "pygments_lexer": "ipython3",
   "version": "3.6.4"
  }
 },
 "nbformat": 4,
 "nbformat_minor": 2
}
