{
 "cells": [
  {
   "cell_type": "code",
   "execution_count": 29,
   "metadata": {},
   "outputs": [
    {
     "name": "stdout",
     "output_type": "stream",
     "text": [
      "[False, False, False, True, False]\n"
     ]
    }
   ],
   "source": [
    "input_array = [\"2222\",\"01234\",\"01234567890\",\"6789012345\",\"012322456789\"]\n",
    "\n",
    "def check(array):\n",
    "    result = []\n",
    "    for i in range(len(array)):\n",
    "        if len(array[i])==10 and len(list(array[i])) == len(list(set(array[i]))):\n",
    "            result.append(True)\n",
    "        else:\n",
    "            result.append(False)\n",
    "    return result\n",
    "print(check(input_array))"
   ]
  },
  {
   "cell_type": "code",
   "execution_count": 37,
   "metadata": {},
   "outputs": [
    {
     "name": "stdout",
     "output_type": "stream",
     "text": [
      "[False, False, False, True, False]\n"
     ]
    }
   ],
   "source": [
    "def check2(array):\n",
    "    result = []\n",
    "    for ind in array:\n",
    "        result += [True if len(ind) == 10 and len(ind) == len(set(ind)) else False]\n",
    "    return result\n",
    "print(check2(input_array))"
   ]
  },
  {
   "cell_type": "code",
   "execution_count": null,
   "metadata": {},
   "outputs": [],
   "source": []
  },
  {
   "cell_type": "code",
   "execution_count": 38,
   "metadata": {},
   "outputs": [],
   "source": [
    "assert check(input_array) == check2(input_array)"
   ]
  },
  {
   "cell_type": "code",
   "execution_count": null,
   "metadata": {},
   "outputs": [],
   "source": []
  }
 ],
 "metadata": {
  "kernelspec": {
   "display_name": "Python 3",
   "language": "python",
   "name": "python3"
  },
  "language_info": {
   "codemirror_mode": {
    "name": "ipython",
    "version": 3
   },
   "file_extension": ".py",
   "mimetype": "text/x-python",
   "name": "python",
   "nbconvert_exporter": "python",
   "pygments_lexer": "ipython3",
   "version": "3.6.4"
  }
 },
 "nbformat": 4,
 "nbformat_minor": 2
}
