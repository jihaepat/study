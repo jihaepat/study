{
 "cells": [
  {
   "cell_type": "code",
   "execution_count": 5,
   "metadata": {},
   "outputs": [
    {
     "name": "stdout",
     "output_type": "stream",
     "text": [
      "29700\n"
     ]
    }
   ],
   "source": [
    "def time_check():\n",
    "    time=\"\"\n",
    "    total_sec=0\n",
    "    for x in range(24):\n",
    "        for y in range(60):\n",
    "            if(\"3\" in str(x) or \"3\" in str(y)):\n",
    "                total_sec+=60\n",
    "    return total_sec\n",
    "print(time_check())"
   ]
  },
  {
   "cell_type": "code",
   "execution_count": 6,
   "metadata": {},
   "outputs": [
    {
     "name": "stdout",
     "output_type": "stream",
     "text": [
      "29700\n"
     ]
    }
   ],
   "source": [
    "#time 제거\n",
    "def time_check2():\n",
    "    total_sec=0\n",
    "    for x in range(24):\n",
    "        for y in range(60):\n",
    "            if(\"3\" in str(x) or \"3\" in str(y)):\n",
    "                total_sec+=60\n",
    "    return total_sec\n",
    "print(time_check2())"
   ]
  },
  {
   "cell_type": "code",
   "execution_count": 7,
   "metadata": {},
   "outputs": [],
   "source": [
    "assert time_check()==time_check2()"
   ]
  },
  {
   "cell_type": "code",
   "execution_count": null,
   "metadata": {},
   "outputs": [],
   "source": []
  }
 ],
 "metadata": {
  "kernelspec": {
   "display_name": "Python 3",
   "language": "python",
   "name": "python3"
  },
  "language_info": {
   "codemirror_mode": {
    "name": "ipython",
    "version": 3
   },
   "file_extension": ".py",
   "mimetype": "text/x-python",
   "name": "python",
   "nbconvert_exporter": "python",
   "pygments_lexer": "ipython3",
   "version": "3.6.4"
  }
 },
 "nbformat": 4,
 "nbformat_minor": 2
}
