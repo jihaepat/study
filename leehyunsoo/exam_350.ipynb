{
 "cells": [
  {
   "cell_type": "code",
   "execution_count": 50,
   "metadata": {},
   "outputs": [
    {
     "name": "stdout",
     "output_type": "stream",
     "text": [
      "\t\thello\thello 123\n",
      "\tnext\n",
      "[['\\t', '\\t', 'h', 'e', 'l', 'l', 'o', '\\t', 'h', 'e', 'l', 'l', 'o', ' ', '1', '2', '3'], ['\\t', 'n', 'e', 'x', 't']]\n",
      "123456123456hello\thello 123\n",
      "123456next\n"
     ]
    }
   ],
   "source": [
    "source = \"\t\thello\thello 123\\n\tnext\"\n",
    "print(source)\n",
    "def listSplit(array):\n",
    "    temp2=[]\n",
    "    temp = list(array.split('\\n'))\n",
    "    for i in range(len(temp)):\n",
    "        temp2.append(list(temp[i]))\n",
    "    changeTab(temp2)\n",
    "\n",
    "def changeTab(array):\n",
    "    for i in range(len(array)):\n",
    "        for y in range(len(array[i])):\n",
    "            if array[i][y] ==\"\t\" :\n",
    "                array[i][y]=\"123456\"\n",
    "            else:\n",
    "                 break\n",
    "    for i in range(len(array)):\n",
    "        print(''.join(array[i]))    \n",
    "    \n",
    "listSplit(source)"
   ]
  },
  {
   "cell_type": "code",
   "execution_count": null,
   "metadata": {},
   "outputs": [],
   "source": []
  }
 ],
 "metadata": {
  "kernelspec": {
   "display_name": "Python 3",
   "language": "python",
   "name": "python3"
  },
  "language_info": {
   "codemirror_mode": {
    "name": "ipython",
    "version": 3
   },
   "file_extension": ".py",
   "mimetype": "text/x-python",
   "name": "python",
   "nbconvert_exporter": "python",
   "pygments_lexer": "ipython3",
   "version": "3.6.4"
  }
 },
 "nbformat": 4,
 "nbformat_minor": 2
}
