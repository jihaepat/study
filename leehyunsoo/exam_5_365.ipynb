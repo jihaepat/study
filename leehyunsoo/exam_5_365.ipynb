{
 "cells": [
  {
   "cell_type": "code",
   "execution_count": 6,
   "metadata": {},
   "outputs": [],
   "source": [
    "def make_self_num(start_num, end_num):\n",
    "    ar = [str(x) for x in range(start_num, end_num)]\n",
    "    splitar = [[int(ind[y]) for y in range(len(ind))]  + [int(ind)] for ind in ar]\n",
    "    generator_ar = [str(sum(splitar[ind])) for ind in range(len(splitar))]\n",
    "    self_num_ar = []\n",
    "\n",
    "    for x in range(len(generator_ar)):\n",
    "        if ar[x] not in generator_ar:\n",
    "            self_num_ar.append(int(ar[x]))\n",
    "    return sum(self_num_ar)"
   ]
  },
  {
   "cell_type": "code",
   "execution_count": 7,
   "metadata": {},
   "outputs": [],
   "source": [
    "assert make_self_num(1, 11) == 25\n",
    "assert make_self_num(1, 31) == 45\n",
    "assert make_self_num(1, 32) == 76\n",
    "assert make_self_num(1, 5000) == 1227365"
   ]
  },
  {
   "cell_type": "code",
   "execution_count": 8,
   "metadata": {},
   "outputs": [],
   "source": [
    "def func_365(start_num, end_num):\n",
    "    ar = [str(x) for x in range(start_num, end_num)]\n",
    "    splitar = [ [int(ind[y]) for y in range(len(ind))]  + [int(ind)] for ind in ar]\n",
    "    generator_ar = [str(sum(splitar[ind])) for ind in range(len(splitar))]\n",
    "    return sum([int(ind) for ind in ar if ind not in generator_ar])"
   ]
  },
  {
   "cell_type": "code",
   "execution_count": 9,
   "metadata": {},
   "outputs": [],
   "source": [
    "assert make_self_num(1, 11) == func_365(1, 11)\n",
    "assert make_self_num(1, 31) == func_365(1, 31)\n",
    "assert make_self_num(1, 32) == func_365(1, 32)"
   ]
  }
 ],
 "metadata": {
  "kernelspec": {
   "display_name": "Python 3",
   "language": "python",
   "name": "python3"
  },
  "language_info": {
   "codemirror_mode": {
    "name": "ipython",
    "version": 3
   },
   "file_extension": ".py",
   "mimetype": "text/x-python",
   "name": "python",
   "nbconvert_exporter": "python",
   "pygments_lexer": "ipython3",
   "version": "3.6.4"
  }
 },
 "nbformat": 4,
 "nbformat_minor": 2
}
