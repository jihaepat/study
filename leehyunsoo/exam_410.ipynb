{
 "cells": [
  {
   "cell_type": "code",
   "execution_count": 1,
   "metadata": {},
   "outputs": [
    {
     "name": "stdout",
     "output_type": "stream",
     "text": [
      "김씨 : 2, 이씨 : 3\n",
      "이재영 : 3\n",
      "['송정환', '김지완', '최승혁', '이재영', '김재성', '강상희', '이성연', '박민호', '박영서', '전경헌', '이유덕', '권종표']\n",
      "['강상희', '권종표', '김재성', '김지완', '박민호', '박영서', '송정환', '이성연', '이유덕', '이재영', '전경헌', '최승혁']\n"
     ]
    }
   ],
   "source": [
    "name=\"이유덕,이재영,권종표,이재영,박민호,강상희,이재영,김지완,최승혁,이성연,박영서,박민호,전경헌,송정환,김재성,이유덕,전경헌\"\n",
    "name_array = name.split(',')\n",
    "\n",
    "def Kim_Lee_count(name):\n",
    "    temp_array = list(set(name_array))\n",
    "    kim_count=0\n",
    "    lee_count=0\n",
    "    for i in range(len(temp_array)):\n",
    "        kim_count += 1 if temp_array[:][i][0]==\"김\" else 0\n",
    "        lee_count += 1 if temp_array[:][i][0]==\"이\" else 0\n",
    "    print(\"김씨 : %d, 이씨 : %d\"%(kim_count,lee_count))\n",
    "def LeeJaeYoung_count(name_array):\n",
    "    leejaeyoung_count = 0\n",
    "    for i in range(len(name_array)):\n",
    "        leejaeyoung_count += 1 if name_array[:][i]==\"이재영\" else 0\n",
    "    print(\"이재영 : %d\"%leejaeyoung_count)\n",
    "Kim_Lee_count(name_array)\n",
    "LeeJaeYoung_count(name_array)\n",
    "name_array = list(set(name_array))\n",
    "print(name_array)\n",
    "name_array.sort()\n",
    "print(name_array)"
   ]
  },
  {
   "cell_type": "code",
   "execution_count": 22,
   "metadata": {},
   "outputs": [
    {
     "name": "stdout",
     "output_type": "stream",
     "text": [
      "김씨:  2\n",
      "이씨:  6\n",
      "3\n",
      "['송정환', '김지완', '최승혁', '이재영', '김재성', '강상희', '이성연', '박민호', '박영서', '전경헌', '이유덕', '권종표']\n",
      "['강상희', '권종표', '김재성', '김지완', '박민호', '박영서', '송정환', '이성연', '이유덕', '이재영', '전경헌', '최승혁']\n"
     ]
    }
   ],
   "source": [
    "from collections import Counter\n",
    "\n",
    "name=\"이유덕,이재영,권종표,이재영,박민호,강상희,이재영,김지완,최승혁,이성연,박영서,박민호,전경헌,송정환,김재성,이유덕,전경헌\"\n",
    "name_array = name.split(',')\n",
    "\n",
    "def Kim_Lee_count(name_array):\n",
    "    counter = Counter([name[0] for name in name_array])\n",
    "    print('김씨: ', counter['김'])\n",
    "    print('이씨: ', counter['이'])\n",
    "\n",
    "def LeeJaeYoung_count(name_array):\n",
    "    counter = Counter(name_array)\n",
    "    print(counter['이재영'])\n",
    "\n",
    "Kim_Lee_count(name_array)\n",
    "LeeJaeYoung_count(name_array)\n",
    "\n",
    "name_array_with_elim_redun = list(set(name_array))\n",
    "print(name_array_with_elim_redun)\n",
    "name_array_with_elim_redun.sort()\n",
    "print(name_array_with_elim_redun)"
   ]
  },
  {
   "cell_type": "code",
   "execution_count": 23,
   "metadata": {},
   "outputs": [
    {
     "name": "stdout",
     "output_type": "stream",
     "text": [
      "김씨 :  2 이씨 :  6\n",
      "이재영 :  3\n",
      "['송정환', '김지완', '최승혁', '이재영', '김재성', '강상희', '이성연', '박민호', '박영서', '전경헌', '이유덕', '권종표']\n",
      "['강상희', '권종표', '김재성', '김지완', '박민호', '박영서', '송정환', '이성연', '이유덕', '이재영', '전경헌', '최승혁']\n"
     ]
    }
   ],
   "source": [
    "name=\"이유덕,이재영,권종표,이재영,박민호,강상희,이재영,김지완,최승혁,이성연,박영서,박민호,전경헌,송정환,김재성,이유덕,전경헌\"\n",
    "\n",
    "def Kim_Lee_count2(name):\n",
    "    temp_array = name.split(',')\n",
    "    kim_count=0\n",
    "    lee_count=0\n",
    "    for i in range(len(temp_array)):\n",
    "        kim_count += 1 if temp_array[i][0]==\"김\" else 0\n",
    "        lee_count += 1 if temp_array[i][0]==\"이\" else 0\n",
    "    return kim_count,lee_count\n",
    "    \n",
    "def LeeJaeYoung_count2(name):\n",
    "    temp_array = name.split(',')\n",
    "    leejaeyoung_count = 0\n",
    "    for i in range(len(temp_array)):\n",
    "        leejaeyoung_count += 1 if temp_array[i]==\"이재영\" else 0\n",
    "    return leejaeyoung_count\n",
    "\n",
    "Kim_Lee_result=Kim_Lee_count2(name)\n",
    "\n",
    "print(\"김씨 : \",Kim_Lee_result[0],\"이씨 : \",Kim_Lee_result[1]) #question.01\n",
    "print(\"이재영 : \",LeeJaeYoung_count2(name))                          #question.02\n",
    "\n",
    "name_array = list(set(name.split(',')))\n",
    "\n",
    "print(name_array)                                                                  #question.03\n",
    "\n",
    "name_array.sort()\n",
    "print(name_array)                                                                  #question.04"
   ]
  },
  {
   "cell_type": "code",
   "execution_count": null,
   "metadata": {},
   "outputs": [],
   "source": []
  },
  {
   "cell_type": "code",
   "execution_count": null,
   "metadata": {},
   "outputs": [],
   "source": []
  }
 ],
 "metadata": {
  "kernelspec": {
   "display_name": "Python 3",
   "language": "python",
   "name": "python3"
  },
  "language_info": {
   "codemirror_mode": {
    "name": "ipython",
    "version": 3
   },
   "file_extension": ".py",
   "mimetype": "text/x-python",
   "name": "python",
   "nbconvert_exporter": "python",
   "pygments_lexer": "ipython3",
   "version": "3.6.4"
  }
 },
 "nbformat": 4,
 "nbformat_minor": 2
}
