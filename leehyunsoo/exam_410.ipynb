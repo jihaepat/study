{
 "cells": [
  {
   "cell_type": "code",
   "execution_count": 52,
   "metadata": {},
   "outputs": [
    {
     "name": "stdout",
     "output_type": "stream",
     "text": [
      "김씨 : 2, 이씨 : 3\n",
      "이재영 : 3\n",
      "['이성연', '권종표', '전경헌', '김지완', '강상희', '박민호', '김재성', '이유덕', '최승혁', '이재영', '송정환', '박영서']\n",
      "['강상희', '권종표', '김재성', '김지완', '박민호', '박영서', '송정환', '이성연', '이유덕', '이재영', '전경헌', '최승혁']\n"
     ]
    }
   ],
   "source": [
    "name=\"이유덕,이재영,권종표,이재영,박민호,강상희,이재영,김지완,최승혁,이성연,박영서,박민호,전경헌,송정환,김재성,이유덕,전경헌\"\n",
    "name_array = list(name.split(','))\n",
    "\n",
    "def Kim_Lee_count(name_array):\n",
    "    temp_array = list(set(name_array))\n",
    "    kim_count=0\n",
    "    lee_count=0\n",
    "    for i in range(len(temp_array)):\n",
    "        kim_count += 1 if temp_array[:][i][0]==\"김\" else 0\n",
    "        lee_count += 1 if temp_array[:][i][0]==\"이\" else 0\n",
    "    print(\"김씨 : %d, 이씨 : %d\"%(kim_count,lee_count))\n",
    "def LeeJaeYoung_count(name_array):\n",
    "    leejaeyoung_count = 0\n",
    "    for i in range(len(name_array)):\n",
    "        leejaeyoung_count += 1 if name_array[:][i]==\"이재영\" else 0\n",
    "    print(\"이재영 : %d\"%leejaeyoung_count)\n",
    "Kim_Lee_count(name_array)\n",
    "LeeJaeYoung_count(name_array)\n",
    "name_array = list(set(name_array))\n",
    "print(name_array)\n",
    "name_array.sort()\n",
    "print(name_array)"
   ]
  },
  {
   "cell_type": "code",
   "execution_count": 7,
   "metadata": {},
   "outputs": [
    {
     "name": "stdout",
     "output_type": "stream",
     "text": [
      "김씨:  2\n",
      "이씨:  6\n",
      "3\n",
      "['권종표', '김지완', '김재성', '이유덕', '전경헌', '박민호', '박영서', '강상희', '이성연', '송정환', '최승혁', '이재영']\n",
      "['강상희', '권종표', '김재성', '김지완', '박민호', '박영서', '송정환', '이성연', '이유덕', '이재영', '전경헌', '최승혁']\n"
     ]
    }
   ],
   "source": [
    "from collections import Counter\n",
    "\n",
    "name=\"이유덕,이재영,권종표,이재영,박민호,강상희,이재영,김지완,최승혁,이성연,박영서,박민호,전경헌,송정환,김재성,이유덕,전경헌\"\n",
    "name_array = name.split(',')\n",
    "\n",
    "def Kim_Lee_count(name_array):\n",
    "    counter = Counter([name[0] for name in name_array])\n",
    "    print('김씨: ', counter['김'])\n",
    "    print('이씨: ', counter['이'])\n",
    "\n",
    "def LeeJaeYoung_count(name_array):\n",
    "    counter = Counter(name_array)\n",
    "    print(counter['이재영'])\n",
    "\n",
    "Kim_Lee_count(name_array)\n",
    "LeeJaeYoung_count(name_array)\n",
    "\n",
    "name_array_with_elim_redun = list(set(name_array))\n",
    "print(name_array_with_elim_redun)\n",
    "name_array_with_elim_redun.sort()\n",
    "print(name_array_with_elim_redun)"
   ]
  },
  {
   "cell_type": "code",
   "execution_count": 6,
   "metadata": {},
   "outputs": [
    {
     "data": {
      "text/plain": [
       "['이',\n",
       " '이',\n",
       " '권',\n",
       " '이',\n",
       " '박',\n",
       " '강',\n",
       " '이',\n",
       " '김',\n",
       " '최',\n",
       " '이',\n",
       " '박',\n",
       " '박',\n",
       " '전',\n",
       " '송',\n",
       " '김',\n",
       " '이',\n",
       " '전']"
      ]
     },
     "execution_count": 6,
     "metadata": {},
     "output_type": "execute_result"
    }
   ],
   "source": [
    "[name[0] for name in name_array]"
   ]
  },
  {
   "cell_type": "code",
   "execution_count": null,
   "metadata": {},
   "outputs": [],
   "source": []
  }
 ],
 "metadata": {
  "kernelspec": {
   "display_name": "Python 3",
   "language": "python",
   "name": "python3"
  },
  "language_info": {
   "codemirror_mode": {
    "name": "ipython",
    "version": 3
   },
   "file_extension": ".py",
   "mimetype": "text/x-python",
   "name": "python",
   "nbconvert_exporter": "python",
   "pygments_lexer": "ipython3",
   "version": "3.6.4"
  }
 },
 "nbformat": 4,
 "nbformat_minor": 2
}
