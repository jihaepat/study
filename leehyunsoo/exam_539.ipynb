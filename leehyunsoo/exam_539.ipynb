{
 "cells": [
  {
   "cell_type": "code",
   "execution_count": 1,
   "metadata": {},
   "outputs": [],
   "source": [
    "def func_539(n):\n",
    "    assert n>0\n",
    "    array = [x for x in range(1,n+1)]\n",
    "    divide_result =[[y for y in range(1,array[x]+1) if array[x]%y==0] for x in range(len(array))]\n",
    "    natural_number_list= [x+1 for x in range(len(divide_result)) if int(sum(divide_result[x])/2) == array[x] ]\n",
    "    return natural_number_list"
   ]
  },
  {
   "cell_type": "code",
   "execution_count": 61,
   "metadata": {},
   "outputs": [],
   "source": [
    "# assert func_539(0) == '0'\n",
    "assert func_539(6) == [6]\n",
    "assert func_539(28) == [6,28]\n",
    "assert func_539(496) == [6,28,496]"
   ]
  }
 ],
 "metadata": {
  "kernelspec": {
   "display_name": "Python 3",
   "language": "python",
   "name": "python3"
  },
  "language_info": {
   "codemirror_mode": {
    "name": "ipython",
    "version": 3
   },
   "file_extension": ".py",
   "mimetype": "text/x-python",
   "name": "python",
   "nbconvert_exporter": "python",
   "pygments_lexer": "ipython3",
   "version": "3.6.4"
  }
 },
 "nbformat": 4,
 "nbformat_minor": 2
}
