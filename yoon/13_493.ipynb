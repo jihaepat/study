{
 "cells": [
  {
   "cell_type": "code",
   "execution_count": 247,
   "metadata": {},
   "outputs": [],
   "source": [
    "def fun_493(input_first_vsersion , input_secound_version):\n",
    "\n",
    "    first_split_array = input_first_vsersion.split('.') \n",
    "    secound_split_array = input_secound_version.split('.')\n",
    "    for i in range(len(first_split_array)):\n",
    "        if first_split_array[i] != secound_split_array[i]:\n",
    "            compare = '>' if int(first_split_array[i]) > int(secound_split_array[i]) else '<'\n",
    "            break;\n",
    "\n",
    "    return input_first_vsersion+' ' +compare+' ' + input_secound_version"
   ]
  },
  {
   "cell_type": "code",
   "execution_count": 249,
   "metadata": {},
   "outputs": [
    {
     "data": {
      "text/plain": [
       "'1.1 < 1.2.1'"
      ]
     },
     "execution_count": 249,
     "metadata": {},
     "output_type": "execute_result"
    }
   ],
   "source": [
    " fun_493('1.1' , '1.2.1')"
   ]
  },
  {
   "cell_type": "code",
   "execution_count": 250,
   "metadata": {},
   "outputs": [],
   "source": [
    "assert fun_493('0.0.2' , '0.0.1')== '0.0.2 > 0.0.1'\n",
    "assert fun_493('1.0.10' , '1.0.3')== '1.0.10 > 1.0.3'\n",
    "assert fun_493('1.2.0' , '1.1.99')== '1.2.0 > 1.1.99'\n",
    "assert fun_493('1.1' , '1.0.1')== '1.1 > 1.0.1'\n",
    "assert fun_493('1.1' , '1.2.1')== '1.1 < 1.2.1'"
   ]
  }
 ],
 "metadata": {
  "kernelspec": {
   "display_name": "Python 3",
   "language": "python",
   "name": "python3"
  },
  "language_info": {
   "codemirror_mode": {
    "name": "ipython",
    "version": 3
   },
   "file_extension": ".py",
   "mimetype": "text/x-python",
   "name": "python",
   "nbconvert_exporter": "python",
   "pygments_lexer": "ipython3",
   "version": "3.6.4"
  }
 },
 "nbformat": 4,
 "nbformat_minor": 2
}
