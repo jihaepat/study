{
 "cells": [
  {
   "cell_type": "code",
   "execution_count": 147,
   "metadata": {},
   "outputs": [],
   "source": [
    "def func_400 (S):\n",
    "    list_array = S.split()\n",
    "    temp_array = []\n",
    "    count = (list_array[:1])\n",
    "    data_array = list_array[1:]\n",
    "    if int(list_array[0]) > 0:\n",
    "        for x in range(int(list_array[0])):\n",
    "            temp_array +=data_array.pop()\n",
    "            print(temp_array)\n",
    "        result =' '.join(reversed(temp_array) + data_array)\n",
    "        print(result)\n",
    "    return result"
   ]
  },
  {
   "cell_type": "code",
   "execution_count": 148,
   "metadata": {},
   "outputs": [
    {
     "name": "stdout",
     "output_type": "stream",
     "text": [
      "['사']\n",
      "['사', '바']\n",
      "['사', '바', '마']\n",
      "['사', '바', '마', '라']\n"
     ]
    },
    {
     "ename": "TypeError",
     "evalue": "unsupported operand type(s) for +: 'list_reverseiterator' and 'list'",
     "output_type": "error",
     "traceback": [
      "\u001b[0;31m---------------------------------------------------------------------------\u001b[0m",
      "\u001b[0;31mTypeError\u001b[0m                                 Traceback (most recent call last)",
      "\u001b[0;32m<ipython-input-148-7111df966169>\u001b[0m in \u001b[0;36m<module>\u001b[0;34m()\u001b[0m\n\u001b[1;32m      1\u001b[0m \u001b[0;31m# assert func_400('1 10 20 30 40 50') == '50 10 20 30 40'\u001b[0m\u001b[0;34m\u001b[0m\u001b[0;34m\u001b[0m\u001b[0m\n\u001b[0;32m----> 2\u001b[0;31m \u001b[0;32massert\u001b[0m \u001b[0mfunc_400\u001b[0m\u001b[0;34m(\u001b[0m\u001b[0;34m'4 가 나 다 라 마 바 사'\u001b[0m\u001b[0;34m)\u001b[0m \u001b[0;34m==\u001b[0m \u001b[0;34m'라 마 바 사 가 나 다'\u001b[0m\u001b[0;34m\u001b[0m\u001b[0m\n\u001b[0m\u001b[1;32m      3\u001b[0m \u001b[0;32massert\u001b[0m \u001b[0mfunc_400\u001b[0m\u001b[0;34m(\u001b[0m\u001b[0;34m'-2 A B C D E F G'\u001b[0m\u001b[0;34m)\u001b[0m \u001b[0;34m==\u001b[0m \u001b[0;34m'C D E F G A B'\u001b[0m\u001b[0;34m\u001b[0m\u001b[0m\n\u001b[1;32m      4\u001b[0m \u001b[0;32massert\u001b[0m \u001b[0mfunc_400\u001b[0m\u001b[0;34m(\u001b[0m\u001b[0;34m'0 똘기 떵이 호치 새초미'\u001b[0m\u001b[0;34m)\u001b[0m \u001b[0;34m==\u001b[0m \u001b[0;34m' 똘기 떵이 호치 새초미'\u001b[0m\u001b[0;34m\u001b[0m\u001b[0m\n",
      "\u001b[0;32m<ipython-input-147-aa6c37c2226b>\u001b[0m in \u001b[0;36mfunc_400\u001b[0;34m(S)\u001b[0m\n\u001b[1;32m      8\u001b[0m             \u001b[0mtemp_array\u001b[0m \u001b[0;34m+=\u001b[0m\u001b[0mdata_array\u001b[0m\u001b[0;34m.\u001b[0m\u001b[0mpop\u001b[0m\u001b[0;34m(\u001b[0m\u001b[0;34m)\u001b[0m\u001b[0;34m\u001b[0m\u001b[0m\n\u001b[1;32m      9\u001b[0m             \u001b[0mprint\u001b[0m\u001b[0;34m(\u001b[0m\u001b[0mtemp_array\u001b[0m\u001b[0;34m)\u001b[0m\u001b[0;34m\u001b[0m\u001b[0m\n\u001b[0;32m---> 10\u001b[0;31m         \u001b[0mresult\u001b[0m \u001b[0;34m=\u001b[0m\u001b[0;34m' '\u001b[0m\u001b[0;34m.\u001b[0m\u001b[0mjoin\u001b[0m\u001b[0;34m(\u001b[0m\u001b[0mreversed\u001b[0m\u001b[0;34m(\u001b[0m\u001b[0mtemp_array\u001b[0m\u001b[0;34m)\u001b[0m \u001b[0;34m+\u001b[0m \u001b[0mdata_array\u001b[0m\u001b[0;34m)\u001b[0m\u001b[0;34m\u001b[0m\u001b[0m\n\u001b[0m\u001b[1;32m     11\u001b[0m         \u001b[0mprint\u001b[0m\u001b[0;34m(\u001b[0m\u001b[0mresult\u001b[0m\u001b[0;34m)\u001b[0m\u001b[0;34m\u001b[0m\u001b[0m\n\u001b[1;32m     12\u001b[0m     \u001b[0;32mreturn\u001b[0m \u001b[0mresult\u001b[0m\u001b[0;34m\u001b[0m\u001b[0m\n",
      "\u001b[0;31mTypeError\u001b[0m: unsupported operand type(s) for +: 'list_reverseiterator' and 'list'"
     ]
    }
   ],
   "source": [
    "# assert func_400('1 10 20 30 40 50') == '50 10 20 30 40'\n",
    "assert func_400('4 가 나 다 라 마 바 사') == '라 마 바 사 가 나 다'\n",
    "assert func_400('-2 A B C D E F G') == 'C D E F G A B'\n",
    "assert func_400('0 똘기 떵이 호치 새초미') == ' 똘기 떵이 호치 새초미'"
   ]
  },
  {
   "cell_type": "code",
   "execution_count": 169,
   "metadata": {},
   "outputs": [],
   "source": [
    "def func_400_1 (S):\n",
    "    list_array = S.split()\n",
    "    temp_array = []\n",
    "    count = (list_array[:1])\n",
    "    data_array = list_array[1:]\n",
    "\n",
    "    if int(list_array[0]) > 0:\n",
    "        for x in range(int(list_array[0])):\n",
    "            temp_array.insert(0,data_array.pop())\n",
    "\n",
    "        result =' '.join(temp_array+ data_array)\n",
    "        print(result)\n",
    "    return result"
   ]
  },
  {
   "cell_type": "code",
   "execution_count": 174,
   "metadata": {},
   "outputs": [
    {
     "name": "stdout",
     "output_type": "stream",
     "text": [
      "50 10 20 30 40\n",
      "라 마 바 사 가 나 다\n"
     ]
    },
    {
     "ename": "UnboundLocalError",
     "evalue": "local variable 'result' referenced before assignment",
     "output_type": "error",
     "traceback": [
      "\u001b[0;31m---------------------------------------------------------------------------\u001b[0m",
      "\u001b[0;31mUnboundLocalError\u001b[0m                         Traceback (most recent call last)",
      "\u001b[0;32m<ipython-input-174-f093ea3772ec>\u001b[0m in \u001b[0;36m<module>\u001b[0;34m()\u001b[0m\n\u001b[1;32m      1\u001b[0m \u001b[0;32massert\u001b[0m \u001b[0mfunc_400_1\u001b[0m\u001b[0;34m(\u001b[0m\u001b[0;34m'1 10 20 30 40 50'\u001b[0m\u001b[0;34m)\u001b[0m \u001b[0;34m==\u001b[0m \u001b[0;34m'50 10 20 30 40'\u001b[0m\u001b[0;34m\u001b[0m\u001b[0m\n\u001b[1;32m      2\u001b[0m \u001b[0;32massert\u001b[0m \u001b[0mfunc_400_1\u001b[0m\u001b[0;34m(\u001b[0m\u001b[0;34m'4 가 나 다 라 마 바 사'\u001b[0m\u001b[0;34m)\u001b[0m \u001b[0;34m==\u001b[0m \u001b[0;34m'라 마 바 사 가 나 다'\u001b[0m\u001b[0;34m\u001b[0m\u001b[0m\n\u001b[0;32m----> 3\u001b[0;31m \u001b[0;32massert\u001b[0m \u001b[0mfunc_400_1\u001b[0m\u001b[0;34m(\u001b[0m\u001b[0;34m'-2 A B C D E F G'\u001b[0m\u001b[0;34m)\u001b[0m \u001b[0;34m==\u001b[0m \u001b[0;34m'C D E F G A B'\u001b[0m\u001b[0;34m\u001b[0m\u001b[0m\n\u001b[0m\u001b[1;32m      4\u001b[0m \u001b[0;32massert\u001b[0m \u001b[0mfunc_400_1\u001b[0m\u001b[0;34m(\u001b[0m\u001b[0;34m'0 똘기 떵이 호치 새초미'\u001b[0m\u001b[0;34m)\u001b[0m \u001b[0;34m==\u001b[0m \u001b[0;34m' 똘기 떵이 호치 새초미'\u001b[0m\u001b[0;34m\u001b[0m\u001b[0m\n",
      "\u001b[0;32m<ipython-input-169-558e66625c0f>\u001b[0m in \u001b[0;36mfunc_400_1\u001b[0;34m(S)\u001b[0m\n\u001b[1;32m     11\u001b[0m         \u001b[0mresult\u001b[0m \u001b[0;34m=\u001b[0m\u001b[0;34m' '\u001b[0m\u001b[0;34m.\u001b[0m\u001b[0mjoin\u001b[0m\u001b[0;34m(\u001b[0m\u001b[0mtemp_array\u001b[0m\u001b[0;34m+\u001b[0m \u001b[0mdata_array\u001b[0m\u001b[0;34m)\u001b[0m\u001b[0;34m\u001b[0m\u001b[0m\n\u001b[1;32m     12\u001b[0m         \u001b[0mprint\u001b[0m\u001b[0;34m(\u001b[0m\u001b[0mresult\u001b[0m\u001b[0;34m)\u001b[0m\u001b[0;34m\u001b[0m\u001b[0m\n\u001b[0;32m---> 13\u001b[0;31m     \u001b[0;32mreturn\u001b[0m \u001b[0mresult\u001b[0m\u001b[0;34m\u001b[0m\u001b[0m\n\u001b[0m",
      "\u001b[0;31mUnboundLocalError\u001b[0m: local variable 'result' referenced before assignment"
     ]
    }
   ],
   "source": [
    "assert func_400_1('1 10 20 30 40 50') == '50 10 20 30 40'\n",
    "assert func_400_1('4 가 나 다 라 마 바 사') == '라 마 바 사 가 나 다'\n",
    "assert func_400_1('-2 A B C D E F G') == 'C D E F G A B'\n",
    "assert func_400_1('0 똘기 떵이 호치 새초미') == ' 똘기 떵이 호치 새초미'"
   ]
  },
  {
   "cell_type": "code",
   "execution_count": 340,
   "metadata": {},
   "outputs": [],
   "source": [
    "def func_400_2 (S):\n",
    "    temp_array = []\n",
    "    count = S.split()[:1]\n",
    "    data_array = S.split()[1:]\n",
    "    result = 0\n",
    "    \n",
    "    if int(count[0]) >= 0:\n",
    "        for x in range(int(count[0])):\n",
    "            temp_array.insert(0, data_array.pop())\n",
    "        result =' '.join(temp_array + data_array)\n",
    "        \n",
    "    if int(count[0]) < 0:\n",
    "        rever_data_array = list(reversed(data_array))\n",
    "        for x in range(abs(int(count[0]))):\n",
    "            temp_array.insert(-1, rever_data_array.pop())\n",
    "        result =' '.join(list(reversed(temp_array + rever_data_array)))\n",
    "        \n",
    "    return result"
   ]
  },
  {
   "cell_type": "code",
   "execution_count": 341,
   "metadata": {},
   "outputs": [],
   "source": [
    "assert func_400_2('1 10 20 30 40 50') == '50 10 20 30 40'\n",
    "assert func_400_2('4 가 나 다 라 마 바 사') == '라 마 바 사 가 나 다'\n",
    "assert func_400_2('-2 A B C D E F G') == 'C D E F G A B'\n",
    "assert func_400_2('0 똘기 떵이 호치 새초미') == '똘기 떵이 호치 새초미'"
   ]
  },
  {
   "cell_type": "code",
   "execution_count": 10,
   "metadata": {},
   "outputs": [],
   "source": [
    "def func_400_3 (str_list):\n",
    "    \n",
    "    count = str_list.split()[:1]\n",
    "    data_array = str_list.split()[1:]\n",
    "    result = 0\n",
    "    \n",
    "    if int(count[0]) >= 0:\n",
    "        for x in range(int(count[0])):\n",
    "            data_array.insert(0, data_array.pop())\n",
    "        result =' '.join(data_array)\n",
    "        \n",
    "    if int(count[0]) < 0:\n",
    "        rever_data_array = list(reversed(data_array))\n",
    "        for x in range(abs(int(count[0]))):\n",
    "            rever_data_array.insert(0, rever_data_array.pop())\n",
    "        result =' '.join(list(reversed(rever_data_array)))\n",
    "        \n",
    "    return result"
   ]
  },
  {
   "cell_type": "code",
   "execution_count": 11,
   "metadata": {},
   "outputs": [],
   "source": [
    "assert func_400_3('1 10 20 30 40 50') == '50 10 20 30 40'\n",
    "assert func_400_3('4 가 나 다 라 마 바 사') == '라 마 바 사 가 나 다'\n",
    "assert func_400_3('-2 A B C D E F G') == 'C D E F G A B'\n",
    "assert func_400_3('0 똘기 떵이 호치 새초미') == '똘기 떵이 호치 새초미'\n",
    "assert func_400_3('-3 A B C D E F G') == 'D E F G A B C'"
   ]
  },
  {
   "cell_type": "code",
   "execution_count": null,
   "metadata": {},
   "outputs": [],
   "source": []
  },
  {
   "cell_type": "code",
   "execution_count": null,
   "metadata": {},
   "outputs": [],
   "source": []
  }
 ],
 "metadata": {
  "kernelspec": {
   "display_name": "Python 3",
   "language": "python",
   "name": "python3"
  },
  "language_info": {
   "codemirror_mode": {
    "name": "ipython",
    "version": 3
   },
   "file_extension": ".py",
   "mimetype": "text/x-python",
   "name": "python",
   "nbconvert_exporter": "python",
   "pygments_lexer": "ipython3",
   "version": "3.6.4"
  }
 },
 "nbformat": 4,
 "nbformat_minor": 2
}
