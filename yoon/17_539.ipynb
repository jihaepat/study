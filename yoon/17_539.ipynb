{
 "cells": [
  {
   "cell_type": "code",
   "execution_count": 240,
   "metadata": {},
   "outputs": [
    {
     "data": {
      "text/plain": [
       "[6, 28, 496, 8128]"
      ]
     },
     "execution_count": 240,
     "metadata": {},
     "output_type": "execute_result"
    }
   ],
   "source": [
    "func_539_3(10000)"
   ]
  },
  {
   "cell_type": "code",
   "execution_count": 2,
   "metadata": {},
   "outputs": [],
   "source": [
    "assert func_539_3(6) == [6]\n",
    "assert func_539_3(28) == [6, 28]\n",
    "assert func_539_3(496) == [6, 28, 496]\n",
    "assert func_539_3(8128) == [6, 28, 496, 8128]"
   ]
  },
  {
   "cell_type": "code",
   "execution_count": 184,
   "metadata": {},
   "outputs": [],
   "source": [
    "def func_539_1(divisor):\n",
    "    for x in range(1 , divisor):\n",
    "       \n",
    "        for i in range( 1 , x):\n",
    "            total =[]\n",
    "            if x%i == 0:\n",
    "                total.append(i)\n",
    "                print(sum(total) , x)\n",
    "        if sum(total) == x:\n",
    "            result.append(x)\n",
    "    return result\n",
    "    "
   ]
  },
  {
   "cell_type": "code",
   "execution_count": 213,
   "metadata": {},
   "outputs": [],
   "source": [
    "def func_539_2(divisor):\n",
    "    result =[]\n",
    "    for i in range( 1 , divisor):\n",
    "        total_num =[]\n",
    "        for x in range (1 , i):\n",
    "            if i%x == 0:\n",
    "                total_num.append(x)\n",
    "        if sum(total_num) == i:\n",
    "            result.append(i) \n",
    "    return result"
   ]
  },
  {
   "cell_type": "code",
   "execution_count": 1,
   "metadata": {},
   "outputs": [],
   "source": [
    "def func_539_3(divisor):\n",
    "    result =[]\n",
    "    for i in range( 1 , divisor+1):\n",
    "        total_num =[]\n",
    "        [total_num.append(x) if i%x == 0 else 0 for x in range (1 , i)]\n",
    "        if sum(total_num) == i:\n",
    "            result.append(i) \n",
    "    return result"
   ]
  },
  {
   "cell_type": "code",
   "execution_count": null,
   "metadata": {},
   "outputs": [],
   "source": []
  }
 ],
 "metadata": {
  "kernelspec": {
   "display_name": "Python 3",
   "language": "python",
   "name": "python3"
  },
  "language_info": {
   "codemirror_mode": {
    "name": "ipython",
    "version": 3
   },
   "file_extension": ".py",
   "mimetype": "text/x-python",
   "name": "python",
   "nbconvert_exporter": "python",
   "pygments_lexer": "ipython3",
   "version": "3.6.4"
  }
 },
 "nbformat": 4,
 "nbformat_minor": 2
}
