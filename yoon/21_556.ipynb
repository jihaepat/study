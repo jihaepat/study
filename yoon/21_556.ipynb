{
 "cells": [
  {
   "cell_type": "code",
   "execution_count": 2,
   "metadata": {},
   "outputs": [],
   "source": [
    "def func_556(int_num):\n",
    "    return (bin(int_num)[2:])"
   ]
  },
  {
   "cell_type": "code",
   "execution_count": 44,
   "metadata": {},
   "outputs": [],
   "source": [
    "def func_556_1(int_num):\n",
    "    if int_num <1:\n",
    "        return '0'\n",
    "    divide_array= []\n",
    "    result = []\n",
    "    while int_num/2 > 1:\n",
    "        divide_array.append(divmod(int(int_num), 2))\n",
    "        int_num = int_num/2\n",
    "    divide_array.reverse()\n",
    "    result.append(divide_array[0][0])\n",
    "    \n",
    "    for i in range(len(divide_array)): \n",
    "        result.append(divide_array[i][1])\n",
    "    \n",
    "    print(''.join(map(str, result)))\n",
    "    return ''.join(map(str, result))"
   ]
  },
  {
   "cell_type": "code",
   "execution_count": 45,
   "metadata": {},
   "outputs": [
    {
     "ename": "AssertionError",
     "evalue": "",
     "output_type": "error",
     "traceback": [
      "\u001b[0;31m---------------------------------------------------------------------------\u001b[0m",
      "\u001b[0;31mAssertionError\u001b[0m                            Traceback (most recent call last)",
      "\u001b[0;32m<ipython-input-45-b79d87cd84ac>\u001b[0m in \u001b[0;36m<module>\u001b[0;34m()\u001b[0m\n\u001b[0;32m----> 1\u001b[0;31m \u001b[0;32massert\u001b[0m \u001b[0mfunc_556_1\u001b[0m\u001b[0;34m(\u001b[0m\u001b[0;34m-\u001b[0m\u001b[0;36m1110\u001b[0m\u001b[0;34m)\u001b[0m \u001b[0;34m==\u001b[0m \u001b[0;34m'-10001010110'\u001b[0m\u001b[0;34m\u001b[0m\u001b[0m\n\u001b[0m\u001b[1;32m      2\u001b[0m \u001b[0;32massert\u001b[0m \u001b[0mfunc_556_1\u001b[0m\u001b[0;34m(\u001b[0m\u001b[0;36m0\u001b[0m\u001b[0;34m)\u001b[0m \u001b[0;34m==\u001b[0m \u001b[0;34m'0'\u001b[0m\u001b[0;34m\u001b[0m\u001b[0m\n\u001b[1;32m      3\u001b[0m \u001b[0;32massert\u001b[0m \u001b[0mfunc_556_1\u001b[0m\u001b[0;34m(\u001b[0m\u001b[0;36m10\u001b[0m\u001b[0;34m)\u001b[0m \u001b[0;34m==\u001b[0m \u001b[0;34m'1010'\u001b[0m\u001b[0;34m\u001b[0m\u001b[0m\n\u001b[1;32m      4\u001b[0m \u001b[0;32massert\u001b[0m \u001b[0mfunc_556_1\u001b[0m\u001b[0;34m(\u001b[0m\u001b[0;36m100\u001b[0m\u001b[0;34m)\u001b[0m \u001b[0;34m==\u001b[0m \u001b[0;34m'1100100'\u001b[0m\u001b[0;34m\u001b[0m\u001b[0m\n\u001b[1;32m      5\u001b[0m \u001b[0;32massert\u001b[0m \u001b[0mfunc_556_1\u001b[0m\u001b[0;34m(\u001b[0m\u001b[0;36m2345\u001b[0m\u001b[0;34m)\u001b[0m \u001b[0;34m==\u001b[0m \u001b[0;34m'100100101001'\u001b[0m\u001b[0;34m\u001b[0m\u001b[0m\n",
      "\u001b[0;31mAssertionError\u001b[0m: "
     ]
    }
   ],
   "source": [
    "assert func_556_1(-1110) == '-10001010110'\n",
    "assert func_556_1(0) == '0'\n",
    "assert func_556_1(10) == '1010'\n",
    "assert func_556_1(100) == '1100100'\n",
    "assert func_556_1(2345) == '100100101001'\n",
    "assert func_556_1(237812) == '111010000011110100'"
   ]
  },
  {
   "cell_type": "code",
   "execution_count": 65,
   "metadata": {},
   "outputs": [],
   "source": [
    "def func_556_3(int_num, N=2):\n",
    "    sign = int_num // abs(int_num) if int_num != 0 else 1\n",
    "    int_num = abs(int_num)\n",
    "    result = []\n",
    "    while True:\n",
    "        result.append(str(int_num % 2))\n",
    "        int_num = (int_num - int_num % 2) // 2\n",
    "        if int_num == 0:\n",
    "            break\n",
    "    result.reverse()\n",
    "    print(result)\n",
    "    return ''.join(result) if sign == 1 else '-' + ''.join(result)"
   ]
  },
  {
   "cell_type": "code",
   "execution_count": 66,
   "metadata": {},
   "outputs": [
    {
     "name": "stdout",
     "output_type": "stream",
     "text": [
      "['1', '0', '0', '0', '1', '0', '1', '0', '1', '1', '0']\n",
      "['0']\n",
      "['1', '0', '1', '0']\n",
      "['1', '1', '0', '0', '1', '0', '0']\n",
      "['1', '0', '0', '1', '0', '0', '1', '0', '1', '0', '0', '1']\n",
      "['1', '1', '1', '0', '1', '0', '0', '0', '0', '0', '1', '1', '1', '1', '0', '1', '0', '0']\n"
     ]
    }
   ],
   "source": [
    "assert func_556_3(-1110) == '-10001010110'\n",
    "assert func_556_3(0) == '0'\n",
    "assert func_556_3(10) == '1010'\n",
    "assert func_556_3(100) == '1100100'\n",
    "assert func_556_3(2345) == '100100101001'\n",
    "assert func_556_3(237812) == '111010000011110100'"
   ]
  },
  {
   "cell_type": "code",
   "execution_count": null,
   "metadata": {},
   "outputs": [],
   "source": []
  }
 ],
 "metadata": {
  "kernelspec": {
   "display_name": "Python 3",
   "language": "python",
   "name": "python3"
  },
  "language_info": {
   "codemirror_mode": {
    "name": "ipython",
    "version": 3
   },
   "file_extension": ".py",
   "mimetype": "text/x-python",
   "name": "python",
   "nbconvert_exporter": "python",
   "pygments_lexer": "ipython3",
   "version": "3.6.4"
  }
 },
 "nbformat": 4,
 "nbformat_minor": 2
}
