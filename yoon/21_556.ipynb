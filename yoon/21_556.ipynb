{
 "cells": [
  {
   "cell_type": "code",
   "execution_count": 2,
   "metadata": {},
   "outputs": [],
   "source": [
    "def func_556(int_num):\n",
    "    return (bin(int_num)[2:])"
   ]
  },
  {
   "cell_type": "code",
   "execution_count": 34,
   "metadata": {},
   "outputs": [],
   "source": [
    "def func_556_1(int_num):\n",
    "    if int_num <1:\n",
    "        return '0'\n",
    "    divide_array= []\n",
    "    result = []\n",
    "    while int_num/2 > 1:\n",
    "        divide_array.append(divmod(int(int_num), 2))\n",
    "        int_num = int_num/2\n",
    "    divide_array.reverse()\n",
    "    result.append(divide_array[0][0])\n",
    "    \n",
    "    for i in range(len(divide_array)): \n",
    "        result.append(divide_array[i][1])\n",
    "        \n",
    "    return ''.join(map(str, result))"
   ]
  },
  {
   "cell_type": "code",
   "execution_count": 38,
   "metadata": {},
   "outputs": [],
   "source": [
    "assert func_556_1(-1110) == '0'\n",
    "assert func_556_1(0) == '0'\n",
    "assert func_556_1(10) == '1010'\n",
    "assert func_556_1(100) == '1100100'\n",
    "assert func_556_1(2345) == '100100101001'\n",
    "assert func_556_1(237812) == '111010000011110100'"
   ]
  },
  {
   "cell_type": "code",
   "execution_count": 6,
   "metadata": {},
   "outputs": [],
   "source": [
    "def func_556_2(int_num):\n",
    "    if int_num <1:\n",
    "        return '0'\n",
    "    divide_array= []\n",
    "    result = 0\n",
    "    while int_num/2 > 1:\n",
    "        divide_array.append(divmod(int(int_num), 2))\n",
    "        int_num = int_num/2\n",
    "    divide_array.reverse()\n",
    "    result.append(divide_array[0][0])\n",
    "    \n",
    "    for i in range(len(divide_array)): \n",
    "        yield result.append(divide_array[i][1])\n",
    "        print (result)\n",
    "    return int( result)"
   ]
  },
  {
   "cell_type": "code",
   "execution_count": 7,
   "metadata": {},
   "outputs": [
    {
     "data": {
      "text/plain": [
       "<generator object func_556_2 at 0x7ff5bc5860a0>"
      ]
     },
     "execution_count": 7,
     "metadata": {},
     "output_type": "execute_result"
    }
   ],
   "source": [
    "func_556_2(10)"
   ]
  }
 ],
 "metadata": {
  "kernelspec": {
   "display_name": "Python 3",
   "language": "python",
   "name": "python3"
  },
  "language_info": {
   "codemirror_mode": {
    "name": "ipython",
    "version": 3
   },
   "file_extension": ".py",
   "mimetype": "text/x-python",
   "name": "python",
   "nbconvert_exporter": "python",
   "pygments_lexer": "ipython3",
   "version": "3.6.4"
  }
 },
 "nbformat": 4,
 "nbformat_minor": 2
}
