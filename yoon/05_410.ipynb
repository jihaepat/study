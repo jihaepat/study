{
 "cells": [
  {
   "cell_type": "code",
   "execution_count": 1,
   "metadata": {},
   "outputs": [
    {
     "name": "stdout",
     "output_type": "stream",
     "text": [
      " 김씨는 :  2 \n",
      " 이씨는 :  6 \n",
      " 이재영 :  3\n",
      "['이유덕', '박민호', '이재영', '김지완', '송정환', '이성연', '김재성', '강상희', '권종표', '전경헌', '최승혁', '박영서']\n",
      "['강상희', '권종표', '김재성', '김지완', '박민호', '박영서', '송정환', '이성연', '이유덕', '이재영', '전경헌', '최승혁']\n"
     ]
    }
   ],
   "source": [
    "kim_count = 0\n",
    "lee_count = 0\n",
    "jy_count = 0\n",
    "count = 0\n",
    "original_array =['이유덕','이재영','권종표','이재영','박민호','강상희','이재영','김지완','최승혁','이성연','박영서','박민호','전경헌','송정환','김재성','이유덕','전경헌']\n",
    "for i in range(len(original_array)):\n",
    "    if original_array[i][0:1]=='김':\n",
    "        kim_count+=1;\n",
    "    elif original_array[i][0:1]=='이':\n",
    "        lee_count+=1;\n",
    "        if original_array[i]=='이재영':\n",
    "            jy_count+=1;\n",
    "print(' 김씨는 : ',kim_count ,'\\n','이씨는 : ',lee_count,'\\n','이재영 : ',jy_count)\n",
    "set_array = list(set(original_array))\n",
    "print(set_array)\n",
    "sort_array = sorted(set_array)\n",
    "print(sort_array)"
   ]
  }
 ],
 "metadata": {
  "kernelspec": {
   "display_name": "Python 3",
   "language": "python",
   "name": "python3"
  },
  "language_info": {
   "codemirror_mode": {
    "name": "ipython",
    "version": 3
   },
   "file_extension": ".py",
   "mimetype": "text/x-python",
   "name": "python",
   "nbconvert_exporter": "python",
   "pygments_lexer": "ipython3",
   "version": "3.6.4"
  }
 },
 "nbformat": 4,
 "nbformat_minor": 2
}
