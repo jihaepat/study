{
 "cells": [
  {
   "cell_type": "code",
   "execution_count": 330,
   "metadata": {},
   "outputs": [],
   "source": [
    "def func_421(row_size , col_size , data_array):\n",
    "    result = []\n",
    "    temp_array = []\n",
    "    for x  in range(4):\n",
    "        for y  in range(4):\n",
    "            temp_array.append(0) if data_array[x][y] != '*' else temp_array.append('*')\n",
    "    return  plus_number(temp_array , row_size)"
   ]
  },
  {
   "cell_type": "code",
   "execution_count": 332,
   "metadata": {},
   "outputs": [],
   "source": [
    "def plus_number (num_array , row_size):\n",
    "    temp_array =num_array\n",
    "    for i in range(len(temp_array)):\n",
    "        if temp_array[i] == '*':\n",
    "            # 1 2 3 \n",
    "            # 4  i 5\n",
    "            # 6 7 8\n",
    "            \n",
    "            #1 \n",
    "            if i / row_size > 0 and i % row_size - 1 >= 0 and temp_array[(i - row_size) -1] != '*':\n",
    "                temp_array[(i - row_size) -1] += 1\n",
    "            #2\n",
    "            if i / row_size > 0 and i % row_size > 0 and temp_array[i - row_size] != '*':\n",
    "                temp_array[i - row_size] += 1\n",
    "            #3 \n",
    "            if i / row_size > 0 and i % row_size +1 <= 4 and temp_array[(i - row_size) +1] != '*':\n",
    "                temp_array[(i - row_size) +1] += 1\n",
    "            #4\n",
    "            if i % row_size - 1 >= 0 and temp_array[i - 1] != '*':\n",
    "                temp_array[i - 1] += 1\n",
    "            #5\n",
    "            if i % row_size + 1 <= row_size and temp_array[i + 1] != '*':   \n",
    "                temp_array[i + 1] += 1\n",
    "            #6\n",
    "            if i % row_size - 1 >= 0 and i +row_size < len(temp_array) and temp_array[i + row_size - 1] != '*':\n",
    "                temp_array[i + row_size - 1] += 1        \n",
    "            #7\n",
    "            if  i +row_size < len(temp_array) and temp_array[i + row_size] != '*':\n",
    "                temp_array[i + row_size] += 1      \n",
    "            #8\n",
    "            if i % row_size + 1 < row_size  and i +row_size < len(temp_array) and temp_array[i + row_size + 1] != '*':\n",
    "                temp_array[i + row_size + 1] += 1                      \n",
    "    return temp_array\n",
    "            "
   ]
  },
  {
   "cell_type": "code",
   "execution_count": 333,
   "metadata": {},
   "outputs": [
    {
     "data": {
      "text/plain": [
       "[1, '*', 2, 1, 2, 2, 2, '*', '*', 1, 1, 1, 2, 2, 1, 0]"
      ]
     },
     "execution_count": 333,
     "metadata": {},
     "output_type": "execute_result"
    }
   ],
   "source": [
    " func_421(4,4,['.*..','...*','*...','....'])\n",
    "# assert func_421(4,4,['.*..','...*','....','....']) == [*10022101*101110]"
   ]
  }
 ],
 "metadata": {
  "kernelspec": {
   "display_name": "Python 3",
   "language": "python",
   "name": "python3"
  },
  "language_info": {
   "codemirror_mode": {
    "name": "ipython",
    "version": 3
   },
   "file_extension": ".py",
   "mimetype": "text/x-python",
   "name": "python",
   "nbconvert_exporter": "python",
   "pygments_lexer": "ipython3",
   "version": "3.6.4"
  }
 },
 "nbformat": 4,
 "nbformat_minor": 2
}
