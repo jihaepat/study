{
 "cells": [
  {
   "cell_type": "code",
   "execution_count": 2,
   "metadata": {},
   "outputs": [],
   "source": [
    "import re ,os\n",
    "from datetime import datetime\n",
    "\n",
    "def func_418 (now_time):\n",
    "    result = 0\n",
    "    open_file = open('/home/yoonjae/gitfo/study/yoon/29_418_folder/log','r').readlines()\n",
    "    for i in range(len(open_file)):\n",
    "        time_array = open_file[i].split(' ')\n",
    "        result = result +1 if time_array[0] < now_time < time_array[1] else result\n",
    "    return result\n",
    "    \n"
   ]
  },
  {
   "cell_type": "code",
   "execution_count": 4,
   "metadata": {},
   "outputs": [],
   "source": [
    "assert func_418('11:05:20') == 8\n",
    "assert func_418('11:20:20') == 6\n",
    "assert func_418('20:05:20') == 2\n",
    "assert func_418('23:55:20') == 0"
   ]
  }
 ],
 "metadata": {
  "kernelspec": {
   "display_name": "Python 3",
   "language": "python",
   "name": "python3"
  },
  "language_info": {
   "codemirror_mode": {
    "name": "ipython",
    "version": 3
   },
   "file_extension": ".py",
   "mimetype": "text/x-python",
   "name": "python",
   "nbconvert_exporter": "python",
   "pygments_lexer": "ipython3",
   "version": "3.6.4"
  }
 },
 "nbformat": 4,
 "nbformat_minor": 2
}
