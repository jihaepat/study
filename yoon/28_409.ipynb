{
 "cells": [
  {
   "cell_type": "code",
   "execution_count": 5,
   "metadata": {},
   "outputs": [],
   "source": [
    "def func_409_1(start_num , end_num):\n",
    "    result_num = 0\n",
    "    for i in range(start_num , end_num):\n",
    "        cycle_num = 1\n",
    "        while i != 1:\n",
    "            i = i//2 if i%2 ==0 else i*3+1\n",
    "            cycle_num +=1\n",
    "        result_num = cycle_num if cycle_num > result_num else result_num\n",
    "    return result_num"
   ]
  },
  {
   "cell_type": "code",
   "execution_count": 8,
   "metadata": {},
   "outputs": [],
   "source": [
    "assert func_409_1(1,1) == 0\n",
    "assert func_409_1(1,10) == 20\n",
    "assert func_409_1(100,200) == 125\n",
    "assert func_409_1(201,210) == 89\n",
    "assert func_409_1(900,1000) == 174\n"
   ]
  }
 ],
 "metadata": {
  "kernelspec": {
   "display_name": "Python 3",
   "language": "python",
   "name": "python3"
  },
  "language_info": {
   "codemirror_mode": {
    "name": "ipython",
    "version": 3
   },
   "file_extension": ".py",
   "mimetype": "text/x-python",
   "name": "python",
   "nbconvert_exporter": "python",
   "pygments_lexer": "ipython3",
   "version": "3.6.4"
  }
 },
 "nbformat": 4,
 "nbformat_minor": 2
}
