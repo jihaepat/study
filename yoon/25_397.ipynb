{
 "cells": [
  {
   "cell_type": "code",
   "execution_count": 100,
   "metadata": {},
   "outputs": [],
   "source": [
    "import sys \n",
    "temp_array = []\n",
    "def func_397( list_1= sys.stdin.readlines(), list_2 = sys.stdin.readlines()):\n",
    "    if list_1 == '0' and list_2 == '0':\n",
    "        temp_array = []\n",
    "    temp_array.append(list_1)\n",
    "    print(temp_array)\n",
    "#     return result;"
   ]
  },
  {
   "cell_type": "code",
   "execution_count": 15,
   "metadata": {},
   "outputs": [],
   "source": [
    "def func_397_1(array_list):\n",
    "    save_array_list = []\n",
    "    result = [0]*(len(array_list.split())//2)\n",
    "    print_result = []\n",
    "    if array_list.split()[-1] == '0' and array_list.split()[-2] == '0' and len(array_list.split())%2 == 0 : # 배열의 마지막값 체크 및 배열이 짝수개(계산식이 성립하는지)\n",
    "        save_array_list = array_list.split()\n",
    "    for arr_len in range(len(save_array_list)//2 -1): #배열의 수 /2 -1  \n",
    "        for num_len in range(len(save_array_list[arr_len])): #배열의 자릿수\n",
    "            if int(save_array_list[arr_len*2+1][num_len]) + int(save_array_list[arr_len*2][num_len])>9:\n",
    "                result[arr_len]+=1\n",
    "    return result"
   ]
  },
  {
   "cell_type": "code",
   "execution_count": 9,
   "metadata": {},
   "outputs": [],
   "source": [
    "def func_397_2(array_list):\n",
    "    save_array_list = array_list.split()\n",
    "    result = [0]*((len(array_list.split())//2)-1)\n",
    "    \n",
    "    for i in range((len(save_array_list)-1)//2):\n",
    "        for x in range(len(save_array_list[2*i])):\n",
    "            if int(save_array_list[i*2+1][x]) + int(save_array_list[i*2][x])>9:\n",
    "                result[i]+=1\n",
    "                \n",
    "    return result"
   ]
  },
  {
   "cell_type": "code",
   "execution_count": 18,
   "metadata": {},
   "outputs": [],
   "source": [
    "assert func_397_2('123 456 555 555 123 594 55655 55655 0 0') == [0, 3, 1, 5]\n",
    "assert func_397_2('123 456 555 555 123 594 55655 55655 77 77 8888 8888 0 0') == [0, 3, 1, 5, 2, 4]"
   ]
  }
 ],
 "metadata": {
  "kernelspec": {
   "display_name": "Python 3",
   "language": "python",
   "name": "python3"
  },
  "language_info": {
   "codemirror_mode": {
    "name": "ipython",
    "version": 3
   },
   "file_extension": ".py",
   "mimetype": "text/x-python",
   "name": "python",
   "nbconvert_exporter": "python",
   "pygments_lexer": "ipython3",
   "version": "3.6.4"
  }
 },
 "nbformat": 4,
 "nbformat_minor": 2
}
