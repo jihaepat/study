{
 "cells": [
  {
   "cell_type": "code",
   "execution_count": 20,
   "metadata": {},
   "outputs": [],
   "source": [
    "def func_365(number):\n",
    "    i =1\n",
    "    while i <number:\n",
    "        str_array =[]\n",
    "        str_array.append(i)\n",
    "        print(str_array)\n",
    "        i+=1\n",
    "    return "
   ]
  },
  {
   "cell_type": "code",
   "execution_count": 57,
   "metadata": {},
   "outputs": [
    {
     "name": "stdout",
     "output_type": "stream",
     "text": [
      "6\n",
      "77500\n"
     ]
    }
   ],
   "source": [
    "print(())))\n",
    "print(result)"
   ]
  },
  {
   "cell_type": "code",
   "execution_count": 78,
   "metadata": {},
   "outputs": [
    {
     "name": "stdout",
     "output_type": "stream",
     "text": [
      "8161\n",
      "12497500\n"
     ]
    }
   ],
   "source": [
    "result = 1\n",
    "result1 = 0\n",
    "while result<5000:\n",
    "    result += (eval('+'.join(str(i)))+result)\n",
    "print(result)\n",
    "for i in range(1, 5000):\n",
    "    result1 += i\n",
    "print(result1)"
   ]
  },
  {
   "cell_type": "code",
   "execution_count": 125,
   "metadata": {},
   "outputs": [],
   "source": [
    "def func_365_1(number):\n",
    "    i =1 \n",
    "    result =0 \n",
    "    total = 0 \n",
    "    while (eval('+'.join(str(i)))+i)<5000:\n",
    "        print(eval('+'.join(str(i)))+i,':', (' + '.join(str(i))),'+',i)\n",
    "        result +=(eval('+'.join(str(i)))+i)\n",
    "        i +=1\n",
    "\n",
    "    print((5000*(5000+1))/2)\n",
    "    print(result)\n",
    "    total = ((5000*(5000+1))/2) - result\n",
    "    return total"
   ]
  },
  {
   "cell_type": "code",
   "execution_count": 149,
   "metadata": {},
   "outputs": [],
   "source": [
    "def func_365_2(number):\n",
    "    i =1 \n",
    "    not_self_num_array =[] \n",
    "    total = 0 \n",
    "    while (eval('+'.join(str(i)))+i)<=number:\n",
    "        not_self_num_array.append(eval('+'.join(str(i)))+i)\n",
    "        i +=1\n",
    "    not_self_num_array = sum(set(not_self_num_array))\n",
    "    total = ((number*(number+1))/2) - not_self_num_array\n",
    "    return total"
   ]
  },
  {
   "cell_type": "code",
   "execution_count": 148,
   "metadata": {},
   "outputs": [
    {
     "name": "stdout",
     "output_type": "stream",
     "text": [
      "12502500.0\n"
     ]
    }
   ],
   "source": [
    "assert func_365_2(5000) == 1227365"
   ]
  }
 ],
 "metadata": {
  "kernelspec": {
   "display_name": "Python 3",
   "language": "python",
   "name": "python3"
  },
  "language_info": {
   "codemirror_mode": {
    "name": "ipython",
    "version": 3
   },
   "file_extension": ".py",
   "mimetype": "text/x-python",
   "name": "python",
   "nbconvert_exporter": "python",
   "pygments_lexer": "ipython3",
   "version": "3.6.4"
  }
 },
 "nbformat": 4,
 "nbformat_minor": 2
}
