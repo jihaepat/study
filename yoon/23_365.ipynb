{
 "cells": [
  {
   "cell_type": "code",
   "execution_count": 125,
   "metadata": {},
   "outputs": [],
   "source": [
    "def func_365_1(number):\n",
    "    i =1 \n",
    "    result =0 \n",
    "    total = 0 \n",
    "    while (eval('+'.join(str(i)))+i)<5000:\n",
    "        print(eval('+'.join(str(i)))+i,':', (' + '.join(str(i))),'+',i)\n",
    "        result +=(eval('+'.join(str(i)))+i)\n",
    "        i +=1\n",
    "\n",
    "    print((5000*(5000+1))/2)\n",
    "    print(result)\n",
    "    total = ((5000*(5000+1))/2) - result\n",
    "    return total"
   ]
  },
  {
   "cell_type": "code",
   "execution_count": 150,
   "metadata": {},
   "outputs": [],
   "source": [
    "def func_365_2(number):\n",
    "    i =1 \n",
    "    not_self_num_array =[] \n",
    "    while (eval('+'.join(str(i)))+i)<=number:\n",
    "        not_self_num_array.append(eval('+'.join(str(i)))+i)\n",
    "        i +=1\n",
    "    not_self_num_array = sum(set(not_self_num_array))\n",
    "    return ((number*(number+1))/2) - not_self_num_array"
   ]
  },
  {
   "cell_type": "code",
   "execution_count": 151,
   "metadata": {},
   "outputs": [],
   "source": [
    "assert func_365_2(5000) == 1227365"
   ]
  }
 ],
 "metadata": {
  "kernelspec": {
   "display_name": "Python 3",
   "language": "python",
   "name": "python3"
  },
  "language_info": {
   "codemirror_mode": {
    "name": "ipython",
    "version": 3
   },
   "file_extension": ".py",
   "mimetype": "text/x-python",
   "name": "python",
   "nbconvert_exporter": "python",
   "pygments_lexer": "ipython3",
   "version": "3.6.4"
  }
 },
 "nbformat": 4,
 "nbformat_minor": 2
}
