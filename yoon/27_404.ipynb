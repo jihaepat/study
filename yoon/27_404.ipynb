{
 "cells": [
  {
   "cell_type": "code",
   "execution_count": 1,
   "metadata": {},
   "outputs": [],
   "source": [
    "import re\n",
    "import os\n",
    "def func_404 ():\n",
    "    directory = os.listdir('/home/yoonjae/gitfo/study/yoon/27_404_folder')\n",
    "    result = 0\n",
    "    for file in directory:\n",
    "        open_file = open('/home/yoonjae/gitfo/study/yoon/27_404_folder/'+file,'r').readlines()\n",
    "        print(open_file)\n",
    "        if open_file == ['LIFE IS TOO SHORT\\n']:\n",
    "            result +=1\n",
    "    return result\n",
    "    \n"
   ]
  },
  {
   "cell_type": "code",
   "execution_count": 2,
   "metadata": {},
   "outputs": [
    {
     "name": "stdout",
     "output_type": "stream",
     "text": [
      "['LIFE IS TOO SHORT\\n']\n",
      "['LIFE IS TOO SHORT\\n']\n",
      "['temp\\n']\n",
      "['temp\\n']\n",
      "['LIFE IS TOO SHORT\\n']\n"
     ]
    }
   ],
   "source": [
    "assert func_404() == 3"
   ]
  },
  {
   "cell_type": "code",
   "execution_count": null,
   "metadata": {},
   "outputs": [],
   "source": []
  }
 ],
 "metadata": {
  "kernelspec": {
   "display_name": "Python 3",
   "language": "python",
   "name": "python3"
  },
  "language_info": {
   "codemirror_mode": {
    "name": "ipython",
    "version": 3
   },
   "file_extension": ".py",
   "mimetype": "text/x-python",
   "name": "python",
   "nbconvert_exporter": "python",
   "pygments_lexer": "ipython3",
   "version": "3.6.4"
  }
 },
 "nbformat": 4,
 "nbformat_minor": 2
}
