{
 "cells": [
  {
   "cell_type": "code",
   "execution_count": 219,
   "metadata": {},
   "outputs": [],
   "source": [
    "def func_555(str_array, change_num):\n",
    "    change_str= []\n",
    "    result =[]\n",
    "    for i in range(len(str_array)):\n",
    "        if(ord(str_array[i])+change_num>90):\n",
    "            change_str.append(ord(str_array[i])+change_num-26)\n",
    "        elif(ord(str_array[i])+change_num>122):\n",
    "            change_str.append(ord(str_array[i])+change_num-26)\n",
    "        change_str.append(ord(str_array[i])+3)\n",
    "\n",
    "        result +=chr(change_str[i])\n",
    "    return ''.join(result)"
   ]
  },
  {
   "cell_type": "code",
   "execution_count": 249,
   "metadata": {},
   "outputs": [],
   "source": [
    "def func_555_1(str_array, change_num):\n",
    "    change_str= []\n",
    "    result =[]\n",
    "    for i in range(len(str_array)):\n",
    "        if(ord(str_array[i])+change_num<91 and ord(str_array[i])+change_num>64):\n",
    "            change_str.append(ord(str_array[i])+change_num)\n",
    "        elif(ord(str_array[i])+change_num<123 and ord(str_array[i])+change_num>96):\n",
    "            change_str.append(ord(str_array[i])+change_num)\n",
    "        else:\n",
    "            change_str.append(ord(str_array[i])+change_num-26)\n",
    "            \n",
    "        result +=chr(change_str[i])\n",
    "    return ''.join(result)"
   ]
  },
  {
   "cell_type": "code",
   "execution_count": 250,
   "metadata": {},
   "outputs": [
    {
     "data": {
      "text/plain": [
       "'FBCDbcd'"
      ]
     },
     "execution_count": 250,
     "metadata": {},
     "output_type": "execute_result"
    }
   ],
   "source": [
    "assert func_555_1('abc',3) == 'def'\n",
    "assert func_555_1('Abc',3) == 'Def'\n",
    "assert func_555_1('XYZxyz',4) == 'BCDbcd'\n",
    "func_555_1('BXYZxyz',4)"
   ]
  }
 ],
 "metadata": {
  "kernelspec": {
   "display_name": "Python 3",
   "language": "python",
   "name": "python3"
  },
  "language_info": {
   "codemirror_mode": {
    "name": "ipython",
    "version": 3
   },
   "file_extension": ".py",
   "mimetype": "text/x-python",
   "name": "python",
   "nbconvert_exporter": "python",
   "pygments_lexer": "ipython3",
   "version": "3.6.4"
  }
 },
 "nbformat": 4,
 "nbformat_minor": 2
}
