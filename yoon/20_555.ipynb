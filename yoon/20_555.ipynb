{
 "cells": [
  {
   "cell_type": "code",
   "execution_count": 153,
   "metadata": {},
   "outputs": [],
   "source": [
    "def func_555(str_array, change_num):\n",
    "    change_str= []\n",
    "    result =[]\n",
    "    for i in range(len(str_array)):\n",
    "        if(ord(str_array[i])+change_num>90):\n",
    "            change_str.append(ord(str_array[i])+change_num-26)\n",
    "        elif(ord(str_array[i])+change_num>122):\n",
    "            change_str.append(ord(str_array[i])+change_num-26)\n",
    "        change_str.append(ord(str_array[i])+3)\n",
    "\n",
    "        result +=chr(change_str[i])\n",
    "    return ''.join(result)"
   ]
  },
  {
   "cell_type": "code",
   "execution_count": 154,
   "metadata": {},
   "outputs": [],
   "source": [
    "def func_555_1(str_array, change_num):\n",
    "    change_str= []\n",
    "    result =[]\n",
    "    for i in range(len(str_array)):\n",
    "        if(ord(str_array[i])+change_num<91 and ord(str_array[i])+change_num>64):\n",
    "            change_str.append(ord(str_array[i])+change_num)\n",
    "        elif(ord(str_array[i])+change_num<123 and ord(str_array[i])+change_num>96):\n",
    "            change_str.append(ord(str_array[i])+change_num)\n",
    "        else:\n",
    "            change_str.append(ord(str_array[i])+change_num-26)\n",
    "            \n",
    "        result +=chr(change_str[i])\n",
    "    return ''.join(result)"
   ]
  },
  {
   "cell_type": "code",
   "execution_count": 155,
   "metadata": {},
   "outputs": [],
   "source": [
    "def func_555_2(str_array, change_num):\n",
    "    change_str = []\n",
    "    result = []\n",
    "    for i in range(len(str_array)):\n",
    "        #대문자\n",
    "        if(ord(str_array[i]) > 64 and ord(str_array[i]) < 91 and ord(str_array[i]) + change_num < 91 and ord(str_array[i]) + change_num > 64):\n",
    "            change_str.append(ord(str_array[i]) + change_num)\n",
    "        #소문자\n",
    "        elif(ord(str_array[i]) > 96 and ord(str_array[i]) < 123 and ord(str_array[i]) + change_num < 123 and ord(str_array[i]) + change_num > 96):\n",
    "            change_str.append(ord(str_array[i]) + change_num)\n",
    "        else:\n",
    "            change_str.append(ord(str_array[i]) - 26 + change_num % 26)\n",
    "        result += chr(change_str[i])\n",
    "    return ''.join(result)"
   ]
  },
  {
   "cell_type": "code",
   "execution_count": 157,
   "metadata": {},
   "outputs": [],
   "source": [
    "assert func_555_2('XxYyZzXx',100) == 'TtUuVvTt'\n",
    "assert func_555_2('XxYyZzXx',36) == 'HhIiJjHh'\n",
    "assert func_555_2('aAbBcC',0) == 'aAbBcC'\n",
    "assert func_555_2('abc',3) == 'def'\n",
    "assert func_555_2('Abc',3) == 'Def'\n",
    "assert func_555_2('XYZxyz',4) == 'BCDbcd'\n",
    "assert func_555_2('BXYZxyz',4) == 'FBCDbcd'"
   ]
  }
 ],
 "metadata": {
  "kernelspec": {
   "display_name": "Python 3",
   "language": "python",
   "name": "python3"
  },
  "language_info": {
   "codemirror_mode": {
    "name": "ipython",
    "version": 3
   },
   "file_extension": ".py",
   "mimetype": "text/x-python",
   "name": "python",
   "nbconvert_exporter": "python",
   "pygments_lexer": "ipython3",
   "version": "3.6.4"
  }
 },
 "nbformat": 4,
 "nbformat_minor": 2
}
