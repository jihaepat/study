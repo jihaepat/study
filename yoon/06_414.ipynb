{
 "cells": [
  {
   "cell_type": "code",
   "execution_count": 1,
   "metadata": {},
   "outputs": [
    {
     "name": "stdout",
     "output_type": "stream",
     "text": [
      "[1, -1, 2, 5, -5, 7]\n"
     ]
    },
    {
     "data": {
      "text/plain": [
       "[[-1, -5, 1, 2, 5, 7]]"
      ]
     },
     "execution_count": 1,
     "metadata": {},
     "output_type": "execute_result"
    }
   ],
   "source": [
    "array = [1, -1, 2, 5, -5, 7]\n",
    "\n",
    "print(array)\n",
    "def original_array(array):\n",
    "    plus_array =[]\n",
    "    minus_array =[]\n",
    "    result =[]\n",
    "    for i in range(len(array)):\n",
    "        if int(array[i]>0):\n",
    "            plus_array.append(array[i])\n",
    "        else:\n",
    "            minus_array.append(array[i])\n",
    "    result.append(minus_array+plus_array)\n",
    "    return result\n",
    "original_array(array)"
   ]
  }
 ],
 "metadata": {
  "kernelspec": {
   "display_name": "Python 3",
   "language": "python",
   "name": "python3"
  },
  "language_info": {
   "codemirror_mode": {
    "name": "ipython",
    "version": 3
   },
   "file_extension": ".py",
   "mimetype": "text/x-python",
   "name": "python",
   "nbconvert_exporter": "python",
   "pygments_lexer": "ipython3",
   "version": "3.6.4"
  }
 },
 "nbformat": 4,
 "nbformat_minor": 2
}
