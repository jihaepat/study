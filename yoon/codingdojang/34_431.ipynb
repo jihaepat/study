{
 "cells": [
  {
   "cell_type": "code",
   "execution_count": 5,
   "metadata": {},
   "outputs": [],
   "source": [
    "def func_431 (drainage) :\n",
    "    min_drainage = 11\n",
    "    drainage_len = 2\n",
    "    while min_drainage % drainage != 0:   \n",
    "        min_drainage += 10 ** drainage_len\n",
    "        drainage_len +=1\n",
    "    return drainage_len"
   ]
  },
  {
   "cell_type": "code",
   "execution_count": 7,
   "metadata": {},
   "outputs": [],
   "source": [
    "assert func_431(3) == 3\n",
    "assert func_431(7) == 6\n",
    "assert func_431(11) == 2\n",
    "assert func_431(13) == 6\n",
    "assert func_431(17) == 16\n",
    "assert func_431(19) == 18\n",
    "assert func_431(21) == 6\n",
    "assert func_431(23) == 22\n",
    "assert func_431(9901) == 12"
   ]
  },
  {
   "cell_type": "code",
   "execution_count": 31,
   "metadata": {},
   "outputs": [
    {
     "data": {
      "text/plain": [
       "6"
      ]
     },
     "execution_count": 31,
     "metadata": {},
     "output_type": "execute_result"
    }
   ],
   "source": [
    "# 별로 좋은 예가 아님\n",
    "def func_431_2(n) :\n",
    "    drainage_list = (int('1'*x) for x in range(2, 24))\n",
    "    return len(str(min(filter(lambda x: x % n == 0, drainage_list))))\n",
    "func_431_2(7)"
   ]
  },
  {
   "cell_type": "code",
   "execution_count": 32,
   "metadata": {},
   "outputs": [],
   "source": [
    "assert func_431_2(3) == 3\n",
    "assert func_431_2(7) == 6\n",
    "assert func_431_2(11) == 2\n",
    "assert func_431_2(13) == 6\n",
    "assert func_431_2(17) == 16\n",
    "assert func_431_2(19) == 18\n",
    "assert func_431_2(21) == 6\n",
    "assert func_431_2(23) == 22\n",
    "assert func_431_2(9901) == 12"
   ]
  },
  {
   "cell_type": "code",
   "execution_count": null,
   "metadata": {},
   "outputs": [],
   "source": []
  }
 ],
 "metadata": {
  "kernelspec": {
   "display_name": "Python 3",
   "language": "python",
   "name": "python3"
  },
  "language_info": {
   "codemirror_mode": {
    "name": "ipython",
    "version": 3
   },
   "file_extension": ".py",
   "mimetype": "text/x-python",
   "name": "python",
   "nbconvert_exporter": "python",
   "pygments_lexer": "ipython3",
   "version": "3.6.4"
  }
 },
 "nbformat": 4,
 "nbformat_minor": 2
}
