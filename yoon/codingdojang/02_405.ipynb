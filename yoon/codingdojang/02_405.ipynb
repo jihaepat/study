{
 "cells": [
  {
   "cell_type": "code",
   "execution_count": 6,
   "metadata": {},
   "outputs": [],
   "source": [
    "text = '\t(탭)처음 라인입니다\t(탭)처음라인 중간입니다\\n\t\t(탭)(탭) 두번째 라인 입니다\t(탭)두번째라인 중간입니다\\n\t(탭)마지막 라인 입니다'"
   ]
  },
  {
   "cell_type": "code",
   "execution_count": 7,
   "metadata": {
    "scrolled": false
   },
   "outputs": [
    {
     "name": "stdout",
     "output_type": "stream",
     "text": [
      "[27, 28, 62]\n"
     ]
    }
   ],
   "source": [
    "import re\n",
    "\n",
    "change_line =[]\n",
    "text_line = text\n",
    "for i in re.finditer('\\n\t',text_line):\n",
    "    j = 1\n",
    "    while text_line[int(i.start())+j] == '\t':\n",
    "        change_line.append(i.start()+j)\n",
    "        j +=1\n",
    "print(change_line)   "
   ]
  },
  {
   "cell_type": "code",
   "execution_count": 8,
   "metadata": {},
   "outputs": [
    {
     "ename": "SyntaxError",
     "evalue": "invalid syntax (<ipython-input-8-67abb3983a89>, line 5)",
     "output_type": "error",
     "traceback": [
      "\u001b[0;36m  File \u001b[0;32m\"<ipython-input-8-67abb3983a89>\"\u001b[0;36m, line \u001b[0;32m5\u001b[0m\n\u001b[0;31m    text[int(reverse_line[i])] ==\u001b[0m\n\u001b[0m                                 ^\u001b[0m\n\u001b[0;31mSyntaxError\u001b[0m\u001b[0;31m:\u001b[0m invalid syntax\n"
     ]
    }
   ],
   "source": [
    "temp ='    '\n",
    "reverse_line = change_line[::-1]\n",
    "print(reverse_line)\n",
    "for i in range(len(reverse_line)):\n",
    "    text[int(reverse_line[i])] ==\n",
    "# print('.'.join(text_line))"
   ]
  }
 ],
 "metadata": {
  "kernelspec": {
   "display_name": "Python 3",
   "language": "python",
   "name": "python3"
  },
  "language_info": {
   "codemirror_mode": {
    "name": "ipython",
    "version": 3
   },
   "file_extension": ".py",
   "mimetype": "text/x-python",
   "name": "python",
   "nbconvert_exporter": "python",
   "pygments_lexer": "ipython3",
   "version": "3.6.4"
  }
 },
 "nbformat": 4,
 "nbformat_minor": 2
}
