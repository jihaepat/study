{
 "cells": [
  {
   "cell_type": "code",
   "execution_count": 6,
   "metadata": {},
   "outputs": [],
   "source": [
    "def func_548(number):\n",
    "    result =[0,1]\n",
    "    temp =0\n",
    "    for i in range(2, number+2):\n",
    "        result.append(result[i-1]+ result[i-2])\n",
    "        if result[i-1]%2 == 0:\n",
    "            temp += result[i-1]\n",
    "    print(temp)\n",
    "    return temp"
   ]
  },
  {
   "cell_type": "code",
   "execution_count": 7,
   "metadata": {},
   "outputs": [],
   "source": [
    "def func_548_1(number): #  전체 피보나치 수열 출력\n",
    "    result =[0,1]\n",
    "    temp = []\n",
    "    i = 2\n",
    "    while result[-1]<number:\n",
    "        result.append(result[i-1]+ result[i-2])\n",
    "        temp.append(result[i-1])\n",
    "        i = i+1\n",
    "    return temp"
   ]
  },
  {
   "cell_type": "code",
   "execution_count": 8,
   "metadata": {},
   "outputs": [],
   "source": [
    "def func_548_2(number): # 짝수인 피보나치 수열 출력\n",
    "    result =[0,1]\n",
    "    temp = []\n",
    "    i = 2\n",
    "    while result[-1]<number:\n",
    "        result.append(result[i-1]+ result[i-2])\n",
    "        if(result[-1]%2 == 0):\n",
    "            temp.append(result[-1])\n",
    "        i = i+1\n",
    "    return temp"
   ]
  },
  {
   "cell_type": "code",
   "execution_count": 90,
   "metadata": {},
   "outputs": [],
   "source": [
    "def func_548_3(number): # 짝수의 합 피보나치 수열 출력\n",
    "    fibonacci_array =[0,1]\n",
    "    fibonacci_even_array = []\n",
    "    i = 2\n",
    "    while fibonacci_array[-1]<number:\n",
    "        fibonacci_array.append(fibonacci_array[i-1]+ fibonacci_array[i-2])\n",
    "        if(fibonacci_array[-1]%2 == 0):\n",
    "            fibonacci_even_array.append(fibonacci_array[-1])\n",
    "        i = i+1\n",
    "    return sum(fibonacci_even_array)"
   ]
  },
  {
   "cell_type": "code",
   "execution_count": 91,
   "metadata": {},
   "outputs": [],
   "source": [
    "assert func_548_1(4000000) == [1, 1, 2, 3, 5, 8, 13, 21, 34, 55, 89, 144, 233, 377, 610, 987, 1597, 2584, 4181, 6765, 10946, 17711, 28657, 46368, 75025, 121393, 196418, 317811, 514229, 832040, 1346269, 2178309, 3524578]\n",
    "assert func_548_2(4000000) == [2, 8, 34, 144, 610, 2584, 10946, 46368, 196418, 832040, 3524578]\n",
    "assert func_548_3(4000000) == 4613732"
   ]
  },
  {
   "cell_type": "code",
   "execution_count": 92,
   "metadata": {},
   "outputs": [
    {
     "ename": "AssertionError",
     "evalue": "",
     "output_type": "error",
     "traceback": [
      "\u001b[0;31m---------------------------------------------------------------------------\u001b[0m",
      "\u001b[0;31mAssertionError\u001b[0m                            Traceback (most recent call last)",
      "\u001b[0;32m<ipython-input-92-d11a533c268b>\u001b[0m in \u001b[0;36m<module>\u001b[0;34m()\u001b[0m\n\u001b[0;32m----> 1\u001b[0;31m \u001b[0;32massert\u001b[0m \u001b[0mfunc_548_3\u001b[0m\u001b[0;34m(\u001b[0m\u001b[0;36m40000000000000000000000000000000000000000\u001b[0m\u001b[0;34m)\u001b[0m \u001b[0;34m==\u001b[0m \u001b[0;36m65\u001b[0m\u001b[0;34m\u001b[0m\u001b[0m\n\u001b[0m",
      "\u001b[0;31mAssertionError\u001b[0m: "
     ]
    }
   ],
   "source": [
    "assert func_548_3(40000000000000000000000000000000000000000) == 65"
   ]
  },
  {
   "cell_type": "code",
   "execution_count": 12,
   "metadata": {},
   "outputs": [],
   "source": [
    "def fibonaci_seq(m):\n",
    "    if m == 0:\n",
    "        return []\n",
    "    result = [0, 1]\n",
    "    for i in range(2, m+1):\n",
    "        a = result[i - 2] + result[i - 1]\n",
    "        if a > m:\n",
    "            break\n",
    "        result.append(a)\n",
    "    return result[1:]\n",
    "\n",
    "def func_548_4(n):\n",
    "    return sum([x for x in fibonaci_seq(n) if x % 2 == 0])"
   ]
  },
  {
   "cell_type": "code",
   "execution_count": 13,
   "metadata": {},
   "outputs": [],
   "source": [
    "assert fibonaci_seq(0) == []\n",
    "assert fibonaci_seq(1) == [1]\n",
    "assert fibonaci_seq(2) == [1, 1]\n",
    "assert fibonaci_seq(3) == [1, 1, 2]\n",
    "assert fibonaci_seq(5) == [1, 1, 2, 3, 5]"
   ]
  },
  {
   "cell_type": "code",
   "execution_count": 14,
   "metadata": {},
   "outputs": [],
   "source": [
    "assert func_548_4(4000000) == 4613732"
   ]
  },
  {
   "cell_type": "code",
   "execution_count": 101,
   "metadata": {},
   "outputs": [],
   "source": [
    "def fibonaci_seq():\n",
    "    yield 1\n",
    "    prevprev= 0\n",
    "    prev = 1\n",
    "    while True:\n",
    "        result = prevprev + prev\n",
    "        yield result\n",
    "        prevprev = prev\n",
    "        prev = result\n",
    "\n",
    "def func_548_4(n):\n",
    "    result = 0\n",
    "    for i, x in enumerate(fibonaci_seq()):\n",
    "        if x > n:\n",
    "            break\n",
    "        result += 1 if x % 2 == 0 else 0\n",
    "    print(result)\n",
    "    return result"
   ]
  },
  {
   "cell_type": "code",
   "execution_count": 102,
   "metadata": {},
   "outputs": [
    {
     "name": "stdout",
     "output_type": "stream",
     "text": [
      "11\n"
     ]
    }
   ],
   "source": [
    "assert func_548_4(4000000) == 11"
   ]
  },
  {
   "cell_type": "code",
   "execution_count": 103,
   "metadata": {},
   "outputs": [],
   "source": [
    "r = fibonaci_seq()\n",
    "assert next(r) == 1\n",
    "assert next(r) == 1\n",
    "assert next(r) == 2\n",
    "assert next(r) == 3\n",
    "assert next(r) == 5"
   ]
  }
 ],
 "metadata": {
  "kernelspec": {
   "display_name": "Python 3",
   "language": "python",
   "name": "python3"
  },
  "language_info": {
   "codemirror_mode": {
    "name": "ipython",
    "version": 3
   },
   "file_extension": ".py",
   "mimetype": "text/x-python",
   "name": "python",
   "nbconvert_exporter": "python",
   "pygments_lexer": "ipython3",
   "version": "3.6.4"
  }
 },
 "nbformat": 4,
 "nbformat_minor": 2
}
