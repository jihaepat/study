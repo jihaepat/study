{
 "cells": [
  {
   "cell_type": "code",
   "execution_count": 240,
   "metadata": {},
   "outputs": [
    {
     "data": {
      "text/plain": [
       "[6, 28, 496, 8128]"
      ]
     },
     "execution_count": 240,
     "metadata": {},
     "output_type": "execute_result"
    }
   ],
   "source": [
    "func_539_3(10000)"
   ]
  },
  {
   "cell_type": "code",
   "execution_count": 2,
   "metadata": {},
   "outputs": [],
   "source": [
    "assert func_539_3(6) == [6]\n",
    "assert func_539_3(28) == [6, 28]\n",
    "assert func_539_3(496) == [6, 28, 496]\n",
    "assert func_539_3(8128) == [6, 28, 496, 8128]"
   ]
  },
  {
   "cell_type": "code",
   "execution_count": 184,
   "metadata": {},
   "outputs": [],
   "source": [
    "def func_539_1(divisor):\n",
    "    for x in range(1 , divisor):\n",
    "       \n",
    "        for i in range( 1 , x):\n",
    "            total =[]\n",
    "            if x%i == 0:\n",
    "                total.append(i)\n",
    "                print(sum(total) , x)\n",
    "        if sum(total) == x:\n",
    "            result.append(x)\n",
    "    return result\n",
    "    "
   ]
  },
  {
   "cell_type": "code",
   "execution_count": 213,
   "metadata": {},
   "outputs": [],
   "source": [
    "def func_539_2(divisor):\n",
    "    result =[]\n",
    "    for i in range( 1 , divisor):\n",
    "        total_num =[]\n",
    "        for x in range (1 , i):\n",
    "            if i%x == 0:\n",
    "                total_num.append(x)\n",
    "        if sum(total_num) == i:\n",
    "            result.append(i) \n",
    "    return result"
   ]
  },
  {
   "cell_type": "code",
   "execution_count": 1,
   "metadata": {},
   "outputs": [],
   "source": [
    "def func_539_3(divisor):\n",
    "    result =[]\n",
    "    for i in range( 1 , divisor+1):\n",
    "        total_num =[]\n",
    "        [total_num.append(x) if i%x == 0 else 0 for x in range (1 , i)]\n",
    "        if sum(total_num) == i:\n",
    "            result.append(i) \n",
    "    return result"
   ]
  },
  {
   "cell_type": "code",
   "execution_count": 2,
   "metadata": {},
   "outputs": [],
   "source": [
    "assert func_539_3(6) == [6]\n",
    "assert func_539_3(28) == [6, 28]\n",
    "assert func_539_3(496) == [6, 28, 496]\n",
    "assert func_539_3(8128) == [6, 28, 496, 8128]"
   ]
  },
  {
   "cell_type": "code",
   "execution_count": 7,
   "metadata": {},
   "outputs": [
    {
     "name": "stdout",
     "output_type": "stream",
     "text": [
      "None\n",
      "[None, None, 0, 0, None, 0, 0, 0, 0]\n"
     ]
    }
   ],
   "source": [
    "a = []\n",
    "print(a.append('1'))\n",
    "total_num = []\n",
    "print([total_num.append(x) if 10 % x == 0 else 0 for x in range (1 , 10)])"
   ]
  },
  {
   "cell_type": "code",
   "execution_count": 11,
   "metadata": {},
   "outputs": [],
   "source": [
    "def func_539_3(divisor):\n",
    "    result =[]\n",
    "    for i in range(1 , divisor+1):\n",
    "        total_sum = 0\n",
    "        for x in range(1, i):\n",
    "            if i % x == 0:\n",
    "                total_sum += x\n",
    "        if total_sum == i:\n",
    "            result.append(i) \n",
    "    return result"
   ]
  },
  {
   "cell_type": "code",
   "execution_count": 12,
   "metadata": {},
   "outputs": [],
   "source": [
    "assert func_539_3(6) == [6]\n",
    "assert func_539_3(28) == [6, 28]\n",
    "assert func_539_3(496) == [6, 28, 496]\n",
    "assert func_539_3(8128) == [6, 28, 496, 8128]\n",
    "# assert func_539(0) == '0'\n",
    "assert func_539_3(6) == [6]\n",
    "assert func_539_3(28) == [6,28]\n",
    "assert func_539_3(496) == [6,28,496]"
   ]
  },
  {
   "cell_type": "code",
   "execution_count": 34,
   "metadata": {},
   "outputs": [],
   "source": [
    "def is_complete_number(n):\n",
    "    return sum([x for x in range(1, n) if n % x == 0]) == n\n",
    "\n",
    "def func_539_3(divisor):\n",
    "    return [x for x in range(1, divisor + 1) if is_complete_number(x)]"
   ]
  },
  {
   "cell_type": "code",
   "execution_count": 35,
   "metadata": {},
   "outputs": [],
   "source": [
    "assert func_539_3(6) == [6]\n",
    "assert func_539_3(28) == [6, 28]\n",
    "assert func_539_3(496) == [6, 28, 496]\n",
    "assert func_539_3(8128) == [6, 28, 496, 8128]"
   ]
  },
  {
   "cell_type": "code",
   "execution_count": 36,
   "metadata": {},
   "outputs": [],
   "source": [
    "def func_539_3(divisor):\n",
    "    return [x for x in range(1, divisor + 1) if sum([y for y in range(1, x) if x % y == 0]) == x]"
   ]
  },
  {
   "cell_type": "code",
   "execution_count": 37,
   "metadata": {},
   "outputs": [],
   "source": [
    "assert func_539_3(6) == [6]\n",
    "assert func_539_3(28) == [6, 28]\n",
    "assert func_539_3(496) == [6, 28, 496]\n",
    "assert func_539_3(8128) == [6, 28, 496, 8128]"
   ]
  },
  {
   "cell_type": "code",
   "execution_count": null,
   "metadata": {},
   "outputs": [],
   "source": []
  }
 ],
 "metadata": {
  "kernelspec": {
   "display_name": "Python 3",
   "language": "python",
   "name": "python3"
  },
  "language_info": {
   "codemirror_mode": {
    "name": "ipython",
    "version": 3
   },
   "file_extension": ".py",
   "mimetype": "text/x-python",
   "name": "python",
   "nbconvert_exporter": "python",
   "pygments_lexer": "ipython3",
   "version": "3.6.4"
  }
 },
 "nbformat": 4,
 "nbformat_minor": 2
}
