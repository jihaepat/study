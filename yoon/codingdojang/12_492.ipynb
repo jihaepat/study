{
 "cells": [
  {
   "cell_type": "code",
   "execution_count": 9,
   "metadata": {},
   "outputs": [],
   "source": [
    "def bitcal(n):\n",
    "    for i in range(n):\n",
    "        print (\"O\" * (n+(1-i)) + (\"X\" * (i+1)))"
   ]
  },
  {
   "cell_type": "code",
   "execution_count": 10,
   "metadata": {},
   "outputs": [
    {
     "name": "stdout",
     "output_type": "stream",
     "text": [
      "OOOOOOOX\n",
      "OOOOOOXX\n",
      "OOOOOXXX\n",
      "OOOOXXXX\n",
      "OOOXXXXX\n",
      "OOXXXXXX\n"
     ]
    }
   ],
   "source": [
    "bitcal(6) "
   ]
  },
  {
   "cell_type": "code",
   "execution_count": 33,
   "metadata": {},
   "outputs": [],
   "source": [
    "def bit_cal(n):\n",
    "    result = []\n",
    "    for i in range(n):\n",
    "        result.append('O' * (n-i-1) + ('X' * (i+1)))\n",
    "    print(result)\n",
    "    return result"
   ]
  },
  {
   "cell_type": "code",
   "execution_count": 34,
   "metadata": {},
   "outputs": [
    {
     "name": "stdout",
     "output_type": "stream",
     "text": [
      "['OX', 'XX']\n",
      "['OOX', 'OXX', 'XXX']\n",
      "[]\n",
      "['X']\n"
     ]
    }
   ],
   "source": [
    "assert bit_cal(2) == ['OX', 'XX']\n",
    "assert bit_cal(3) == ['OOX', 'OXX', 'XXX']\n",
    "assert bit_cal(0) == []\n",
    "assert bit_cal(1) == ['X']"
   ]
  },
  {
   "cell_type": "code",
   "execution_count": null,
   "metadata": {},
   "outputs": [],
   "source": []
  }
 ],
 "metadata": {
  "kernelspec": {
   "display_name": "Python 3",
   "language": "python",
   "name": "python3"
  },
  "language_info": {
   "codemirror_mode": {
    "name": "ipython",
    "version": 3
   },
   "file_extension": ".py",
   "mimetype": "text/x-python",
   "name": "python",
   "nbconvert_exporter": "python",
   "pygments_lexer": "ipython3",
   "version": "3.6.4"
  }
 },
 "nbformat": 4,
 "nbformat_minor": 2
}
