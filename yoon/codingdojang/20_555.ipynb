{
 "cells": [
  {
   "cell_type": "code",
   "execution_count": 1,
   "metadata": {},
   "outputs": [],
   "source": [
    "def func_555(str_array, change_num):\n",
    "    change_str= []\n",
    "    result =[]\n",
    "    for i in range(len(str_array)):\n",
    "        if(ord(str_array[i])+change_num>90):\n",
    "            change_str.append(ord(str_array[i])+change_num-26)\n",
    "        elif(ord(str_array[i])+change_num>122):\n",
    "            change_str.append(ord(str_array[i])+change_num-26)\n",
    "        change_str.append(ord(str_array[i])+3)\n",
    "\n",
    "        result +=chr(change_str[i])\n",
    "    return ''.join(result)"
   ]
  },
  {
   "cell_type": "code",
   "execution_count": 2,
   "metadata": {},
   "outputs": [],
   "source": [
    "def func_555_1(str_array, change_num):\n",
    "    change_str= []\n",
    "    result =[]\n",
    "    for i in range(len(str_array)):\n",
    "        if(ord(str_array[i])+change_num<91 and ord(str_array[i])+change_num>64):\n",
    "            change_str.append(ord(str_array[i])+change_num)\n",
    "        elif(ord(str_array[i])+change_num<123 and ord(str_array[i])+change_num>96):\n",
    "            change_str.append(ord(str_array[i])+change_num)\n",
    "        else:\n",
    "            change_str.append(ord(str_array[i])+change_num-26)\n",
    "            \n",
    "        result +=chr(change_str[i])\n",
    "    return ''.join(result)"
   ]
  },
  {
   "cell_type": "code",
   "execution_count": 13,
   "metadata": {},
   "outputs": [],
   "source": [
    "def func_555_2(str_array, change_num):\n",
    "    change_str = []\n",
    "    result = []\n",
    "    for i in range(len(str_array)):\n",
    "        #대문자\n",
    "        if (64 < ord(str_array[i]) < 91) and (64 < ord(str_array[i]) + change_num < 91):\n",
    "            change_str.append(ord(str_array[i]) + change_num)\n",
    "        #소문자\n",
    "        elif (96 < ord(str_array[i]) < 123) and (96 < ord(str_array[i]) + change_num < 123):\n",
    "            change_str.append(ord(str_array[i]) + change_num)\n",
    "        else:\n",
    "            change_str.append(ord(str_array[i]) - 26 + change_num % 26)\n",
    "        result += chr(change_str[i])\n",
    "    return ''.join(result)"
   ]
  },
  {
   "cell_type": "code",
   "execution_count": 14,
   "metadata": {},
   "outputs": [],
   "source": [
    "assert func_555_2('XxYyZzXx',100) == 'TtUuVvTt'\n",
    "assert func_555_2('XxYyZzXx',36) == 'HhIiJjHh'\n",
    "assert func_555_2('aAbBcC',0) == 'aAbBcC'\n",
    "assert func_555_2('abc',3) == 'def'\n",
    "assert func_555_2('Abc',3) == 'Def'\n",
    "assert func_555_2('XYZxyz',4) == 'BCDbcd'\n",
    "assert func_555_2('BXYZxyz',4) == 'FBCDbcd'"
   ]
  },
  {
   "cell_type": "code",
   "execution_count": 15,
   "metadata": {},
   "outputs": [],
   "source": [
    "assert func_555_2('CAT',5) == 'HFY'\n",
    "assert func_555_2('Z',3) == 'C'"
   ]
  },
  {
   "cell_type": "code",
   "execution_count": 98,
   "metadata": {},
   "outputs": [],
   "source": [
    "from string import ascii_uppercase, ascii_lowercase\n",
    "\n",
    "def func_555_2(str_array, change_num):\n",
    "    all_chars = ascii_uppercase + ascii_lowercase\n",
    "    encoding_map = {value: all_chars[(i // 26) * 26 + (i+change_num) % 26] for i, value in enumerate(all_chars)}\n",
    "    decoding_map = {all_chars[(i // 26) * 26 + (i+change_num) % 26] : value for i, value in enumerate(all_chars)}\n",
    "    result = [encoding_map[x] if x in encoding_map else x for x in str_array] \n",
    "    reverse_result = [decoding_map[x] if x in decoding_map else x for x in result]\n",
    "    print(reverse_result)\n",
    "    assert ''.join(reverse_result) == str_array\n",
    "    return ''.join(result)"
   ]
  },
  {
   "cell_type": "code",
   "execution_count": 99,
   "metadata": {},
   "outputs": [
    {
     "name": "stdout",
     "output_type": "stream",
     "text": [
      "['X', 'x', 'Y', 'y', 'Z', 'z', 'X', 'x']\n",
      "['X', 'x', 'Y', 'y', 'Z', 'z', 'X', 'x']\n",
      "['a', 'A', 'b', 'B', 'c', 'C']\n",
      "['a', 'b', 'c']\n",
      "['A', 'b', 'c']\n",
      "['X', 'Y', 'Z', 'x', 'y', 'z']\n",
      "['B', 'X', 'Y', 'Z', 'x', 'y', 'z']\n",
      "['C', 'A', 'T']\n",
      "['Z']\n",
      "['X', 'Y', 'Z', 'x', 'y', 'z', ' ', 'B', 'X', 'Y', 'Z', 'x', 'y', 'z']\n"
     ]
    }
   ],
   "source": [
    "assert func_555_2('XxYyZzXx',100) == 'TtUuVvTt'\n",
    "assert func_555_2('XxYyZzXx',36) == 'HhIiJjHh'\n",
    "assert func_555_2('aAbBcC',0) == 'aAbBcC'\n",
    "assert func_555_2('abc',3) == 'def'\n",
    "assert func_555_2('Abc',3) == 'Def'\n",
    "assert func_555_2('XYZxyz',4) == 'BCDbcd'\n",
    "assert func_555_2('BXYZxyz',4) == 'FBCDbcd'\n",
    "assert func_555_2('CAT',5) == 'HFY'\n",
    "assert func_555_2('Z',3) == 'C'\n",
    "assert func_555_2('XYZxyz BXYZxyz',4) == 'BCDbcd FBCDbcd'"
   ]
  },
  {
   "cell_type": "code",
   "execution_count": null,
   "metadata": {},
   "outputs": [],
   "source": []
  }
 ],
 "metadata": {
  "kernelspec": {
   "display_name": "Python 3",
   "language": "python",
   "name": "python3"
  },
  "language_info": {
   "codemirror_mode": {
    "name": "ipython",
    "version": 3
   },
   "file_extension": ".py",
   "mimetype": "text/x-python",
   "name": "python",
   "nbconvert_exporter": "python",
   "pygments_lexer": "ipython3",
   "version": "3.6.4"
  }
 },
 "nbformat": 4,
 "nbformat_minor": 2
}
