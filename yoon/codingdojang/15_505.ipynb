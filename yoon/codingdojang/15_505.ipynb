{
 "cells": [
  {
   "cell_type": "code",
   "execution_count": 43,
   "metadata": {},
   "outputs": [],
   "source": [
    "def func_505(start_num ,end_num):\n",
    "    return  sum(eval('*'.join(str(i))) for i in range(start_num, (end_num+1)))"
   ]
  },
  {
   "cell_type": "code",
   "execution_count": 44,
   "metadata": {},
   "outputs": [],
   "source": [
    "assert func_505(10 , 11) == 1\n",
    "assert func_505(10 , 15) == 15\n",
    "assert func_505(99 , 100) == 81\n",
    "assert func_505(999 , 1000) == 729\n",
    "assert func_505(10 , 1000) == 93150"
   ]
  },
  {
   "cell_type": "code",
   "execution_count": 45,
   "metadata": {},
   "outputs": [],
   "source": [
    "from functools import reduce\n",
    "def mult(arr):\n",
    "    return reduce((lambda x, y: x * y), [int(x) for x in arr])\n",
    "\n",
    "def func_505(start_num ,end_num):\n",
    "    return sum([mult(list(str(i))) for i in range(start_num, (end_num+1))])"
   ]
  },
  {
   "cell_type": "code",
   "execution_count": 46,
   "metadata": {},
   "outputs": [],
   "source": [
    "assert func_505(10 , 11) == 1\n",
    "assert func_505(10 , 15) == 15\n",
    "assert func_505(99 , 100) == 81\n",
    "assert func_505(999 , 1000) == 729\n",
    "assert func_505(10 , 1000) == 93150"
   ]
  }
 ],
 "metadata": {
  "kernelspec": {
   "display_name": "Python 3",
   "language": "python",
   "name": "python3"
  },
  "language_info": {
   "codemirror_mode": {
    "name": "ipython",
    "version": 3
   },
   "file_extension": ".py",
   "mimetype": "text/x-python",
   "name": "python",
   "nbconvert_exporter": "python",
   "pygments_lexer": "ipython3",
   "version": "3.6.4"
  }
 },
 "nbformat": 4,
 "nbformat_minor": 2
}
