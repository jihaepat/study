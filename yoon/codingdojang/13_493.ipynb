{
 "cells": [
  {
   "cell_type": "code",
   "execution_count": 1,
   "metadata": {},
   "outputs": [],
   "source": [
    "def fun_493(input_first_vsersion , input_secound_version):\n",
    "\n",
    "    first_split_array = input_first_vsersion.split('.') \n",
    "    secound_split_array = input_secound_version.split('.')\n",
    "    for i in range(len(first_split_array)):\n",
    "        if first_split_array[i] != secound_split_array[i]:\n",
    "            compare = '>' if int(first_split_array[i]) > int(secound_split_array[i]) else '<'\n",
    "            break;\n",
    "\n",
    "    return input_first_vsersion+' ' +compare+' ' + input_secound_version"
   ]
  },
  {
   "cell_type": "code",
   "execution_count": 2,
   "metadata": {},
   "outputs": [
    {
     "data": {
      "text/plain": [
       "'1.1 < 1.2.1'"
      ]
     },
     "execution_count": 2,
     "metadata": {},
     "output_type": "execute_result"
    }
   ],
   "source": [
    " fun_493('1.1' , '1.2.1')"
   ]
  },
  {
   "cell_type": "code",
   "execution_count": 3,
   "metadata": {},
   "outputs": [],
   "source": [
    "assert fun_493('0.0.2' , '0.0.1')== '0.0.2 > 0.0.1'\n",
    "assert fun_493('1.0.10' , '1.0.3')== '1.0.10 > 1.0.3'\n",
    "assert fun_493('1.2.0' , '1.1.99')== '1.2.0 > 1.1.99'\n",
    "assert fun_493('1.1' , '1.0.1')== '1.1 > 1.0.1'\n",
    "assert fun_493('1.1' , '1.2.1')== '1.1 < 1.2.1'"
   ]
  },
  {
   "cell_type": "code",
   "execution_count": 39,
   "metadata": {},
   "outputs": [],
   "source": [
    "def func_493(ver1 , ver2):\n",
    "    array1, array2 = [int(v) for v in ver1.split('.')], [int(v) for v in ver2.split('.')]\n",
    "    max_len = max(len(array1), len(array2))\n",
    "    array1 += [0] * (max_len - len(array1))\n",
    "    array2 += [0] * (max_len - len(array2))\n",
    "    assert len(array1) == len(array2)\n",
    "    \n",
    "    return 1 if array1 > array2 else -1 if array1 < array2 else 0"
   ]
  },
  {
   "cell_type": "code",
   "execution_count": 40,
   "metadata": {},
   "outputs": [],
   "source": [
    "assert func_493('0.0.2' , '0.0.1') == 1\n",
    "assert func_493('1.0.10' , '1.0.3') == 1\n",
    "assert func_493('1.2.0' , '1.1.99') == 1\n",
    "assert func_493('1.1' , '1.0.1') == 1\n",
    "assert func_493('1.1' , '1.2.1') == -1"
   ]
  },
  {
   "cell_type": "code",
   "execution_count": 41,
   "metadata": {},
   "outputs": [],
   "source": [
    "assert func_493('0.0.0','0.0.0') == 0\n",
    "assert func_493('1.0','2.0') == -1\n",
    "assert func_493('10.0.0','0.0.0') == 1"
   ]
  },
  {
   "cell_type": "code",
   "execution_count": 42,
   "metadata": {},
   "outputs": [],
   "source": [
    "assert func_493('0.0.0','0.0') == 0\n",
    "assert func_493('1.0','2.0') == -1\n",
    "assert func_493('10.0.0','0.0.0') == 1"
   ]
  },
  {
   "cell_type": "code",
   "execution_count": null,
   "metadata": {},
   "outputs": [],
   "source": []
  }
 ],
 "metadata": {
  "kernelspec": {
   "display_name": "Python 3",
   "language": "python",
   "name": "python3"
  },
  "language_info": {
   "codemirror_mode": {
    "name": "ipython",
    "version": 3
   },
   "file_extension": ".py",
   "mimetype": "text/x-python",
   "name": "python",
   "nbconvert_exporter": "python",
   "pygments_lexer": "ipython3",
   "version": "3.6.4"
  }
 },
 "nbformat": 4,
 "nbformat_minor": 2
}
