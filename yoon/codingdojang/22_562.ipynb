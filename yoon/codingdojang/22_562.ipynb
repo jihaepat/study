{
 "cells": [
  {
   "cell_type": "code",
   "execution_count": 33,
   "metadata": {},
   "outputs": [],
   "source": [
    "def func_562(number):\n",
    "    palindrome = int('9'*number)\n",
    "    result = 0\n",
    "    for x in range(palindrome, 0, -1):\n",
    "        for y in range(palindrome, 0, -1):\n",
    "            if str(x*y)[:number] == str(x*y)[-1:-1+(-number):-1] and len(str(x*y)) == number*2:\n",
    "                if result < (x*y):\n",
    "                    result = x*y\n",
    "    return result\n",
    " "
   ]
  },
  {
   "cell_type": "code",
   "execution_count": 34,
   "metadata": {
    "scrolled": true
   },
   "outputs": [],
   "source": [
    "assert func_562(1) == 0\n",
    "assert func_562(2) == 9009\n",
    "assert func_562(3) == 906609"
   ]
  },
  {
   "cell_type": "code",
   "execution_count": 41,
   "metadata": {},
   "outputs": [],
   "source": [
    "def func_562_2(number):\n",
    "    palindrome = int('9'*number)\n",
    "    result = 0\n",
    "    for x in range(palindrome, 10**(number-1) , -1):\n",
    "        for y in range(palindrome, 10**(number-1) , -1):\n",
    "            normal = list(str(x*y))\n",
    "            if normal == normal[::-1]:\n",
    "                if result < (x*y):\n",
    "                    result = x*y\n",
    "    return result"
   ]
  },
  {
   "cell_type": "code",
   "execution_count": 42,
   "metadata": {},
   "outputs": [],
   "source": [
    "assert func_562_2(1) == 9\n",
    "assert func_562_2(2) == 9009\n",
    "assert func_562_2(3) == 906609"
   ]
  },
  {
   "cell_type": "code",
   "execution_count": 85,
   "metadata": {},
   "outputs": [],
   "source": [
    "def func_562_3(number):\n",
    "    nums = (i*j for i in range(10**(number-1), 10**number) for j in range(10**(number-1)) if i >= j)\n",
    "    max_palindrome = max((n for n in nums if str(n) == str(n)[::-1]))\n",
    "    return max_palindrome"
   ]
  },
  {
   "cell_type": "code",
   "execution_count": 86,
   "metadata": {},
   "outputs": [],
   "source": [
    "assert func_562_2(1) == 9\n",
    "assert func_562_2(2) == 9009\n",
    "assert func_562_2(3) == 906609"
   ]
  },
  {
   "cell_type": "code",
   "execution_count": null,
   "metadata": {},
   "outputs": [],
   "source": []
  }
 ],
 "metadata": {
  "kernelspec": {
   "display_name": "Python 3",
   "language": "python",
   "name": "python3"
  },
  "language_info": {
   "codemirror_mode": {
    "name": "ipython",
    "version": 3
   },
   "file_extension": ".py",
   "mimetype": "text/x-python",
   "name": "python",
   "nbconvert_exporter": "python",
   "pygments_lexer": "ipython3",
   "version": "3.6.4"
  }
 },
 "nbformat": 4,
 "nbformat_minor": 2
}
