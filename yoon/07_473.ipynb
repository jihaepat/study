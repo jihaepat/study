{
 "cells": [
  {
   "cell_type": "code",
   "execution_count": 8,
   "metadata": {},
   "outputs": [
    {
     "name": "stdout",
     "output_type": "stream",
     "text": [
      "5.435943603515625e-05\n",
      "29700\n"
     ]
    }
   ],
   "source": [
    "import time\n",
    "\n",
    "temp=[]\n",
    "string_array =[]\n",
    "\n",
    "def timefun (S):\n",
    "    cal_start_time = time.time()\n",
    "    find_time = S\n",
    "    time_save_min = 0 \n",
    "    time_save_hor = 0 \n",
    "    for minit in range(60):\n",
    "        temp.append(minit)\n",
    "    \n",
    "    string_array =str(temp).split(', ')\n",
    "    for m in range(60):\n",
    "        if string_array[m].find(str(find_time)) >-1: \n",
    "            time_save_min+=1\n",
    "            if int(string_array[m]) < 24:\n",
    "                time_save_hor+=1\n",
    "    result = ((24-int(time_save_hor))*int(time_save_min)+int(time_save_hor)*60)*60\n",
    "    cal_end_time = time.time()\n",
    "    print(cal_end_time-cal_start_time)\n",
    "    print(result)\n",
    "timefun(3)"
   ]
  }
 ],
 "metadata": {
  "kernelspec": {
   "display_name": "Python 3",
   "language": "python",
   "name": "python3"
  },
  "language_info": {
   "codemirror_mode": {
    "name": "ipython",
    "version": 3
   },
   "file_extension": ".py",
   "mimetype": "text/x-python",
   "name": "python",
   "nbconvert_exporter": "python",
   "pygments_lexer": "ipython3",
   "version": "3.6.4"
  }
 },
 "nbformat": 4,
 "nbformat_minor": 2
}
