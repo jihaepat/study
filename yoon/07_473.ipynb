{
 "cells": [
  {
   "cell_type": "code",
   "execution_count": 87,
   "metadata": {},
   "outputs": [
    {
     "data": {
      "text/plain": [
       "29700"
      ]
     },
     "execution_count": 87,
     "metadata": {},
     "output_type": "execute_result"
    }
   ],
   "source": [
    "def timefun (S):\n",
    "    input_time = S\n",
    "    temp=[]\n",
    "    string_array =[]\n",
    "    time_save_min = 0 \n",
    "    time_save_hur = 0 \n",
    "    for minit in range(60):\n",
    "        temp.append(minit)   \n",
    "    string_array =str(temp).split(', ')\n",
    "    for m in range(60):\n",
    "        if string_array[m].find(str(input_time)) >-1: \n",
    "            time_save_min+=1\n",
    "            if int(string_array[m]) < 24:\n",
    "                time_save_hur+=1\n",
    "    result = ((24-int(time_save_hur))*int(time_save_min)+int(time_save_hur)*60)*60\n",
    "    return result\n",
    "timefun(3)"
   ]
  },
  {
   "cell_type": "code",
   "execution_count": 88,
   "metadata": {},
   "outputs": [
    {
     "data": {
      "text/plain": [
       "29700"
      ]
     },
     "execution_count": 88,
     "metadata": {},
     "output_type": "execute_result"
    }
   ],
   "source": [
    "def timefun (S):\n",
    "    input_time = S\n",
    "    temp=[]\n",
    "    string_array =[]\n",
    "    time_save_min = 0 \n",
    "    time_save_hur = 0 \n",
    "    for minit in range(60):\n",
    "        temp.append(minit)   \n",
    "    string_array =str(temp).split(', ')\n",
    "    for m in range(60):\n",
    "        if string_array[m].find(str(input_time)) >-1: \n",
    "            time_save_min+=1\n",
    "            if int(string_array[m]) < 24:\n",
    "                time_save_hur+=1\n",
    "    result = ((24-int(time_save_hur))*int(time_save_min)+int(time_save_hur)*60)*60\n",
    "    return result\n",
    "timefun(3)"
   ]
  }
 ],
 "metadata": {
  "kernelspec": {
   "display_name": "Python 3",
   "language": "python",
   "name": "python3"
  },
  "language_info": {
   "codemirror_mode": {
    "name": "ipython",
    "version": 3
   },
   "file_extension": ".py",
   "mimetype": "text/x-python",
   "name": "python",
   "nbconvert_exporter": "python",
   "pygments_lexer": "ipython3",
   "version": "3.6.4"
  }
 },
 "nbformat": 4,
 "nbformat_minor": 2
}
