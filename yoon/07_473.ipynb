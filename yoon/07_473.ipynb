{
 "cells": [
  {
   "cell_type": "code",
   "execution_count": 4,
   "metadata": {},
   "outputs": [
    {
     "name": "stdout",
     "output_type": "stream",
     "text": [
      "[0, 1, 2, 3, 4, 5, 6, 7, 8, 9, 10, 11, 12, 13, 14, 15, 16, 17, 18, 19, 20, 21, 22, 23, 24, 25, 26, 27, 28, 29, 30, 31, 32, 33, 34, 35, 36, 37, 38, 39, 40, 41, 42, 43, 44, 45, 46, 47, 48, 49, 50, 51, 52, 53, 54, 55, 56, 57, 58, 59]\n",
      "['[0', '1', '2', '3', '4', '5', '6', '7', '8', '9', '10', '11', '12', '13', '14', '15', '16', '17', '18', '19', '20', '21', '22', '23', '24', '25', '26', '27', '28', '29', '30', '31', '32', '33', '34', '35', '36', '37', '38', '39', '40', '41', '42', '43', '44', '45', '46', '47', '48', '49', '50', '51', '52', '53', '54', '55', '56', '57', '58', '59]']\n"
     ]
    },
    {
     "data": {
      "text/plain": [
       "29700"
      ]
     },
     "execution_count": 4,
     "metadata": {},
     "output_type": "execute_result"
    }
   ],
   "source": [
    "def timefun (S):\n",
    "    input_time = S\n",
    "    temp=[]\n",
    "    string_array =[]\n",
    "    time_save_min = 0 \n",
    "    time_save_hur = 0 \n",
    "    for minit in range(60):\n",
    "        temp.append(minit)   \n",
    "    print(temp)\n",
    "    string_array =str(temp).split(', ')\n",
    "    print(string_array)\n",
    "    for m in range(60):\n",
    "        if string_array[m].find(str(input_time)) >-1: \n",
    "            time_save_min+=1\n",
    "            if int(string_array[m]) < 24:\n",
    "                time_save_hur+=1\n",
    "    result = ((24-int(time_save_hur))*int(time_save_min)+int(time_save_hur)*60)*60\n",
    "    return result\n",
    "timefun(3)\n"
   ]
  },
  {
   "cell_type": "code",
   "execution_count": 7,
   "metadata": {},
   "outputs": [
    {
     "data": {
      "text/plain": [
       "29700"
      ]
     },
     "execution_count": 7,
     "metadata": {},
     "output_type": "execute_result"
    }
   ],
   "source": [
    "def timefun (S):\n",
    "    input_time = S\n",
    "    temp = []\n",
    "    string_array = []\n",
    "    time_save_min = 0 \n",
    "    time_save_hur = 0 \n",
    "    \n",
    "    string_array =str([i for i in range(60)]).split(', ')\n",
    "    for m in range(60):\n",
    "        if string_array[m].find(str(input_time)) >-1: \n",
    "            time_save_min+=1\n",
    "            if int(string_array[m]) < 24:\n",
    "                time_save_hur+=1\n",
    "\n",
    "    result = ((24-int(time_save_hur))*int(time_save_min)+int(time_save_hur)*60)*60\n",
    "    return result\n",
    "timefun(3)"
   ]
  },
  {
   "cell_type": "code",
   "execution_count": 3,
   "metadata": {},
   "outputs": [
    {
     "data": {
      "text/plain": [
       "3"
      ]
     },
     "execution_count": 3,
     "metadata": {},
     "output_type": "execute_result"
    }
   ],
   "source": [
    "hours_contains_3 = [h for h in range(24) if '3' in str(h) ]\n",
    "len(hours_contains_3)"
   ]
  },
  {
   "cell_type": "code",
   "execution_count": 4,
   "metadata": {},
   "outputs": [
    {
     "data": {
      "text/plain": [
       "15"
      ]
     },
     "execution_count": 4,
     "metadata": {},
     "output_type": "execute_result"
    }
   ],
   "source": [
    "minutes_contains_3 = [m for m in range(60) if '3' in str(m)]\n",
    "len(minutes_contains_3)"
   ]
  },
  {
   "cell_type": "code",
   "execution_count": 7,
   "metadata": {},
   "outputs": [
    {
     "ename": "SyntaxError",
     "evalue": "invalid syntax (<ipython-input-7-d69e77499c70>, line 1)",
     "output_type": "error",
     "traceback": [
      "\u001b[0;36m  File \u001b[0;32m\"<ipython-input-7-d69e77499c70>\"\u001b[0;36m, line \u001b[0;32m1\u001b[0m\n\u001b[0;31m    hours_contains_3 = [h for h in range(24) if '3' in str(h) else]\u001b[0m\n\u001b[0m                                                                 ^\u001b[0m\n\u001b[0;31mSyntaxError\u001b[0m\u001b[0;31m:\u001b[0m invalid syntax\n"
     ]
    }
   ],
   "source": [
    "hours_contains_3 = [h for h in range(24) if '3' in str(h) else]\n",
    "len(hours_contains_3)"
   ]
  },
  {
   "cell_type": "code",
   "execution_count": 25,
   "metadata": {},
   "outputs": [
    {
     "name": "stdout",
     "output_type": "stream",
     "text": [
      "0 1\n"
     ]
    },
    {
     "data": {
      "text/plain": [
       "24"
      ]
     },
     "execution_count": 25,
     "metadata": {},
     "output_type": "execute_result"
    }
   ],
   "source": [
    "def time_fun (number):\n",
    "    minutes = [m for m in range(60) if str(number) in str(m)]\n",
    "    hours = [m for m in range(24) if str(number) in str(m)]\n",
    "    print(len(hours),len(minutes))\n",
    "    result = ((24-len(hours))*len(minutes)+len(hours)*60)\n",
    "    return result\n",
    "time_fun(24)"
   ]
  }
 ],
 "metadata": {
  "kernelspec": {
   "display_name": "Python 3",
   "language": "python",
   "name": "python3"
  },
  "language_info": {
   "codemirror_mode": {
    "name": "ipython",
    "version": 3
   },
   "file_extension": ".py",
   "mimetype": "text/x-python",
   "name": "python",
   "nbconvert_exporter": "python",
   "pygments_lexer": "ipython3",
   "version": "3.6.4"
  }
 },
 "nbformat": 4,
 "nbformat_minor": 2
}
