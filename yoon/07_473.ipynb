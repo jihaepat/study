{
 "cells": [
  {
   "cell_type": "code",
   "execution_count": 71,
   "metadata": {},
   "outputs": [
    {
     "name": "stdout",
     "output_type": "stream",
     "text": [
      "29700\n"
     ]
    }
   ],
   "source": [
    "time =3\n",
    "temp=[]\n",
    "string_array =[]\n",
    "\n",
    "def timefun (time):\n",
    "    time_save_60 = 0 #분에 3이 있는 경우\n",
    "    time_save_24 = 0 #시에 3이 있는 경우\n",
    "    for minit in range(60):\n",
    "        temp.append(minit)\n",
    "    \n",
    "    string_array =str(temp).split(', ')\n",
    "    for m in range(60): \n",
    "        \n",
    "        if string_array[m].find('3') >-1: \n",
    "            time_save_60+=1\n",
    "            if int(string_array[m]) < 24:\n",
    "                time_save_24+=1\n",
    "    result = ((24-int(time_save_24))*int(time_save_60)+int(time_save_24)*60)*60\n",
    "    print(result)\n",
    "timefun(time)"
   ]
  }
 ],
 "metadata": {
  "kernelspec": {
   "display_name": "Python 3",
   "language": "python",
   "name": "python3"
  },
  "language_info": {
   "codemirror_mode": {
    "name": "ipython",
    "version": 3
   },
   "file_extension": ".py",
   "mimetype": "text/x-python",
   "name": "python",
   "nbconvert_exporter": "python",
   "pygments_lexer": "ipython3",
   "version": "3.6.4"
  }
 },
 "nbformat": 4,
 "nbformat_minor": 2
}
