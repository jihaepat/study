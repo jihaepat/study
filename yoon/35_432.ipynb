{
 "cells": [
  {
   "cell_type": "code",
   "execution_count": 92,
   "metadata": {},
   "outputs": [],
   "source": [
    "def func_432_1 (num) :\n",
    "    forward_num = num\n",
    "    reverse_num = ''.join(list(reversed(forward_num)))\n",
    "    cycle_num = 0\n",
    "    while forward_num != reverse_num and cycle_num <1000 and int(forward_num) < 4294967295:\n",
    "        cycle_num +=1\n",
    "        forward_num = str( int(forward_num) + int(reverse_num))\n",
    "        reverse_num = ''.join(list(reversed(forward_num)))\n",
    "    return cycle_num, forward_num"
   ]
  },
  {
   "cell_type": "code",
   "execution_count": 93,
   "metadata": {},
   "outputs": [
    {
     "name": "stdout",
     "output_type": "stream",
     "text": [
      "444 444\n",
      "687 786\n",
      "3741 1473\n",
      "4125 5214\n",
      "9339 9339\n",
      "728 827\n",
      "5551 1555\n",
      "6017 7106\n",
      "32131 13123\n",
      "45254 45254\n",
      "708 807\n",
      "5151 1515\n",
      "6666 6666\n"
     ]
    }
   ],
   "source": [
    "assert func_432_1('11') == (0, '11')\n",
    "assert func_432_1('123') == (1, '444')\n",
    "assert func_432_1('195') == (4 , '9339')\n",
    "assert func_432_1('265') == (5 , '45254')\n",
    "assert func_432_1('750') == (3 , '6666')"
   ]
  }
 ],
 "metadata": {
  "kernelspec": {
   "display_name": "Python 3",
   "language": "python",
   "name": "python3"
  },
  "language_info": {
   "codemirror_mode": {
    "name": "ipython",
    "version": 3
   },
   "file_extension": ".py",
   "mimetype": "text/x-python",
   "name": "python",
   "nbconvert_exporter": "python",
   "pygments_lexer": "ipython3",
   "version": "3.6.4"
  }
 },
 "nbformat": 4,
 "nbformat_minor": 2
}
