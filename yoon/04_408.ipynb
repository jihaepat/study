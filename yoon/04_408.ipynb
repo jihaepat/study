{
 "cells": [
  {
   "cell_type": "code",



   "execution_count": 28,

   "metadata": {},
   "outputs": [
    {
     "name": "stdout",
     "output_type": "stream",
     "text": [





      "[ 3 , 4 ]\n"

     ]
    }
   ],
   "source": [
    "arr = [1, 3, 4, 8, 13, 17, 20]\n",
    "array_count =len(arr)\n",
    "diff_list = []\n",
    "for j in range(array_count-1):\n",
    "    diff_list.append(arr[j+1] - arr[j])\n",
    "min_diff =min(diff_list)\n",
    "for j in range(len(diff_list)):\n",
    "    if min_diff == diff_list[j]:\n",
    "        print(\"[\",arr[j],\",\",arr[int(j)+1],\"]\")"
   ]
  },
  {
   "cell_type": "code",
   "execution_count": 3,
   "metadata": {},
   "outputs": [
    {
     "data": {
      "text/plain": [
       "1"
      ]
     },
     "execution_count": 3,
     "metadata": {},
     "output_type": "execute_result"
    }
   ],
   "source": [
    "min([1, 3, 4, 8, 13, 17, 20])"
   ]
  },
  {
   "cell_type": "code",
   "execution_count": 8,
   "metadata": {},
   "outputs": [
    {
     "data": {
      "text/plain": [
       "[3, 4]"
      ]
     },
     "execution_count": 8,
     "metadata": {},
     "output_type": "execute_result"
    }
   ],
   "source": [
    "min([[6, 1], [3, 4], [4, 8]])"
   ]
  },
  {
   "cell_type": "code",
   "execution_count": 13,
   "metadata": {},
   "outputs": [
    {
     "data": {
      "text/plain": [
       "True"
      ]
     },
     "execution_count": 13,
     "metadata": {},
     "output_type": "execute_result"
    }
   ],
   "source": [
    "[3, 11118] > [3, 5]"
   ]
  },
  {
   "cell_type": "code",
   "execution_count": null,
   "metadata": {},
   "outputs": [],
   "source": []
  }
 ],
 "metadata": {
  "kernelspec": {
   "display_name": "Python 3",
   "language": "python",
   "name": "python3"
  },
  "language_info": {
   "codemirror_mode": {
    "name": "ipython",
    "version": 3
   },
   "file_extension": ".py",
   "mimetype": "text/x-python",
   "name": "python",
   "nbconvert_exporter": "python",
   "pygments_lexer": "ipython3",
   "version": "3.6.4"
  }
 },
 "nbformat": 4,
 "nbformat_minor": 2
}
