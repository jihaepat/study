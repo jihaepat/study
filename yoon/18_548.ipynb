{
 "cells": [
  {
   "cell_type": "code",
   "execution_count": 41,
   "metadata": {},
   "outputs": [],
   "source": [
    "def func_548(number):\n",
    "    result =[0,1]\n",
    "    temp =0\n",
    "    for i in range(2, number+2):\n",
    "        result.append(result[i-1]+ result[i-2])\n",
    "        if result[i-1]%2 == 0:\n",
    "            temp += result[i-1]\n",
    "    print(temp)\n",
    "    return temp"
   ]
  },
  {
   "cell_type": "code",
   "execution_count": 2,
   "metadata": {},
   "outputs": [],
   "source": [
    "def func_548_1():\n",
    "    result =[0,1]\n",
    "    temp = []\n",
    "    i = 2\n",
    "    while result[-1]<4000000:\n",
    "        result.append(result[i-1]+ result[i-2])\n",
    "        temp.append(result[i-1])\n",
    "        i = i+1\n",
    "    return temp"
   ]
  },
  {
   "cell_type": "code",
   "execution_count": 4,
   "metadata": {},
   "outputs": [],
   "source": [
    "def func_548_2():\n",
    "    result =[0,1]\n",
    "    temp = []\n",
    "    i = 2\n",
    "    while result[-1]<4000000:\n",
    "        result.append(result[i-1]+ result[i-2])\n",
    "        if(result[-1]%2 == 0):\n",
    "            temp.append(result[-1])\n",
    "        i = i+1\n",
    "    return temp"
   ]
  },
  {
   "cell_type": "code",
   "execution_count": 15,
   "metadata": {},
   "outputs": [],
   "source": [
    "def func_548_3():\n",
    "    fibonacci_array =[0,1]\n",
    "    fibonacci_even_array = []\n",
    "    i = 2\n",
    "    while fibonacci_array[-1]<4000000:\n",
    "        fibonacci_array.append(fibonacci_array[i-1]+ fibonacci_array[i-2])\n",
    "        if(fibonacci_array[-1]%2 == 0):\n",
    "            fibonacci_even_array.append(fibonacci_array[-1])\n",
    "        i = i+1\n",
    "    return sum(fibonacci_even_array)"
   ]
  },
  {
   "cell_type": "code",
   "execution_count": 16,
   "metadata": {},
   "outputs": [],
   "source": [
    "assert func_548_1() == [1, 1, 2, 3, 5, 8, 13, 21, 34, 55, 89, 144, 233, 377, 610, 987, 1597, 2584, 4181, 6765, 10946, 17711, 28657, 46368, 75025, 121393, 196418, 317811, 514229, 832040, 1346269, 2178309, 3524578]\n",
    "assert func_548_2() == [2, 8, 34, 144, 610, 2584, 10946, 46368, 196418, 832040, 3524578]\n",
    "assert func_548_3() == 4613732"
   ]
  },
  {
   "cell_type": "code",
   "execution_count": 17,
   "metadata": {
    "scrolled": true
   },
   "outputs": [
    {
     "data": {
      "text/plain": [
       "4613732"
      ]
     },
     "execution_count": 17,
     "metadata": {},
     "output_type": "execute_result"
    }
   ],
   "source": []
  }
 ],
 "metadata": {
  "kernelspec": {
   "display_name": "Python 3",
   "language": "python",
   "name": "python3"
  },
  "language_info": {
   "codemirror_mode": {
    "name": "ipython",
    "version": 3
   },
   "file_extension": ".py",
   "mimetype": "text/x-python",
   "name": "python",
   "nbconvert_exporter": "python",
   "pygments_lexer": "ipython3",
   "version": "3.6.4"
  }
 },
 "nbformat": 4,
 "nbformat_minor": 2
}
