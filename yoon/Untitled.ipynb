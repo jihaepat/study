{
 "cells": [
  {
   "cell_type": "code",
   "execution_count": 18,
   "metadata": {},
   "outputs": [
    {
     "name": "stdout",
     "output_type": "stream",
     "text": [
      "12344\n",
      "14\n"
     ]
    }
   ],
   "source": [
    "save_data = input()\n",
    "def loop_(save_data):\n",
    "    plus_data =0\n",
    "    for i in range(len(save_data)):\n",
    "        plus_data += int(save_data[i])\n",
    "    print(plus_data)\n",
    "    plus_data=0\n",
    "cal_count(save_data)"
   ]
  }
 ],
 "metadata": {
  "kernelspec": {
   "display_name": "Python 3",
   "language": "python",
   "name": "python3"
  },
  "language_info": {
   "codemirror_mode": {
    "name": "ipython",
    "version": 3
   },
   "file_extension": ".py",
   "mimetype": "text/x-python",
   "name": "python",
   "nbconvert_exporter": "python",
   "pygments_lexer": "ipython3",
   "version": "3.6.4"
  }
 },
 "nbformat": 4,
 "nbformat_minor": 2
}
