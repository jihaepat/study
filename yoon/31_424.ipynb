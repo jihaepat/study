{
 "cells": [
  {
   "cell_type": "code",
   "execution_count": 195,
   "metadata": {},
   "outputs": [],
   "source": [
    "def func_424(S):\n",
    "    num_array = S[1:]\n",
    "    cal_array = []\n",
    "    for i in range(S[0]-1):\n",
    "        cal_array.append(abs(num_array[i] - num_array[i+1]))\n",
    "    cal_array.sort()\n",
    "    for i in range(1 , len(cal_array)+1):\n",
    "        result = 0 if i != cal_array[i-1] else 1\n",
    "    return result"
   ]
  },
  {
   "cell_type": "code",
   "execution_count": 196,
   "metadata": {},
   "outputs": [],
   "source": [
    "assert func_424([4,1,4,2,3]) == 1\n",
    "assert func_424([6,11,7,4,2,1,6]) == 1\n",
    "assert func_424([5,1,4,3,-1,6]) == 0"
   ]
  }
 ],
 "metadata": {
  "kernelspec": {
   "display_name": "Python 3",
   "language": "python",
   "name": "python3"
  },
  "language_info": {
   "codemirror_mode": {
    "name": "ipython",
    "version": 3
   },
   "file_extension": ".py",
   "mimetype": "text/x-python",
   "name": "python",
   "nbconvert_exporter": "python",
   "pygments_lexer": "ipython3",
   "version": "3.6.4"
  }
 },
 "nbformat": 4,
 "nbformat_minor": 2
}
