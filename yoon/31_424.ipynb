{
 "cells": [
  {
   "cell_type": "code",
   "execution_count": 1,
   "metadata": {},
   "outputs": [],
   "source": [
    "def func_424(S):\n",
    "    num_array = S[1:]\n",
    "    cal_array = []\n",
    "    for i in range(S[0]-1):\n",
    "        cal_array.append(abs(num_array[i] - num_array[i+1]))\n",
    "    cal_array.sort()\n",
    "    for i in range(1 , len(cal_array)+1):\n",
    "        result = 0 if i != cal_array[i-1] else 1\n",
    "    return result"
   ]
  },
  {
   "cell_type": "code",
   "execution_count": 2,
   "metadata": {},
   "outputs": [],
   "source": [
    "assert func_424([4,1,4,2,3]) == 1\n",
    "assert func_424([6,11,7,4,2,1,6]) == 1\n",
    "assert func_424([5,1,4,3,-1,6]) == 0"
   ]
  },
  {
   "cell_type": "code",
   "execution_count": 16,
   "metadata": {},
   "outputs": [],
   "source": [
    "def check_jolly_jumper(sequence):\n",
    "    N = len(sequence)\n",
    "    gram_2 = [(a, b) for (a, b) in zip(sequence, sequence[1:])]\n",
    "    diff = [abs(a - b) for (a, b) in gram_2]\n",
    "    return set(diff) == {x for x in range(1, N)}"
   ]
  },
  {
   "cell_type": "code",
   "execution_count": 17,
   "metadata": {},
   "outputs": [
    {
     "name": "stdout",
     "output_type": "stream",
     "text": [
      "{1, 2, 3}\n",
      "{0, 1, 2, 3}\n",
      "{2, 3, 7}\n",
      "{0, 1, 2, 3, 4}\n"
     ]
    }
   ],
   "source": [
    "assert check_jolly_jumper([int(x) for x in '1 4 2 3'.split(' ')]) == True\n",
    "assert check_jolly_jumper([int(x) for x in '1 4 2 -1 6'.split(' ')]) == False"
   ]
  },
  {
   "cell_type": "code",
   "execution_count": null,
   "metadata": {},
   "outputs": [],
   "source": []
  }
 ],
 "metadata": {
  "kernelspec": {
   "display_name": "Python 3",
   "language": "python",
   "name": "python3"
  },
  "language_info": {
   "codemirror_mode": {
    "name": "ipython",
    "version": 3
   },
   "file_extension": ".py",
   "mimetype": "text/x-python",
   "name": "python",
   "nbconvert_exporter": "python",
   "pygments_lexer": "ipython3",
   "version": "3.6.4"
  }
 },
 "nbformat": 4,
 "nbformat_minor": 2
}
