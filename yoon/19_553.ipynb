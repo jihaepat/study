{
 "cells": [
  {
   "cell_type": "code",
   "execution_count": 53,
   "metadata": {},
   "outputs": [],
   "source": [
    "def func_553(end_number):\n",
    "    square_plus_result = 0\n",
    "    plus_square_result = 0\n",
    "    result = 0\n",
    "    for i in range(1 , end_number+1):\n",
    "        plus_square_result += i\n",
    "        square_plus_result += i**2\n",
    "    plus_square_result = plus_square_result**2\n",
    "    result = plus_square_result - square_plus_result\n",
    "    return result"
   ]
  },
  {
   "cell_type": "code",
   "execution_count": 54,
   "metadata": {},
   "outputs": [],
   "source": [
    "assert func_553(10) == 2640\n",
    "assert func_553(100) == 25164150"
   ]
  },
  {
   "cell_type": "code",
   "execution_count": 55,
   "metadata": {},
   "outputs": [],
   "source": [
    "def func_553_1(end_number):\n",
    "    square_plus_result = 0\n",
    "    plus_square_result = 0\n",
    "    result = 0\n",
    "    square_plus_result = (end_number*(end_number +1)/2)**2\n",
    "    \n",
    "    plus_square_result = end_number*(end_number+1)*((2*end_number)+1)/6\n",
    "\n",
    "    result = square_plus_result - plus_square_result\n",
    "    return int(result)\n"
   ]
  },
  {
   "cell_type": "code",
   "execution_count": 56,
   "metadata": {},
   "outputs": [],
   "source": [
    "assert func_553_1(10) == 2640\n",
    "assert func_553_1(100) == 25164150"
   ]
  }
 ],
 "metadata": {
  "kernelspec": {
   "display_name": "Python 3",
   "language": "python",
   "name": "python3"
  },
  "language_info": {
   "codemirror_mode": {
    "name": "ipython",
    "version": 3
   },
   "file_extension": ".py",
   "mimetype": "text/x-python",
   "name": "python",
   "nbconvert_exporter": "python",
   "pygments_lexer": "ipython3",
   "version": "3.6.4"
  }
 },
 "nbformat": 4,
 "nbformat_minor": 2
}
