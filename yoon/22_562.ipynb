{
 "cells": [
  {
   "cell_type": "code",
   "execution_count": 3,
   "metadata": {},
   "outputs": [],
   "source": [
    "def func_562(number):\n",
    "    palindrome = int('9'*number)\n",
    "    result = 0\n",
    "    for x in range(palindrome, 0 , -1):\n",
    "        for y in range(palindrome, 0 , -1):\n",
    "            if str(x*y)[:number] == str(x*y)[-1:-1+(-number):-1] and len(str(x*y)) == number*2:\n",
    "                if result < (x*y):\n",
    "                    result = x*y \n",
    "    return result\n",
    " "
   ]
  },
  {
   "cell_type": "code",
   "execution_count": 4,
   "metadata": {
    "scrolled": true
   },
   "outputs": [],
   "source": [
    "assert func_562(1) == 0\n",
    "assert func_562(2) == 9009\n",
    "assert func_562(3) == 906609"
   ]
  }
 ],
 "metadata": {
  "kernelspec": {
   "display_name": "Python 3",
   "language": "python",
   "name": "python3"
  },
  "language_info": {
   "codemirror_mode": {
    "name": "ipython",
    "version": 3
   },
   "file_extension": ".py",
   "mimetype": "text/x-python",
   "name": "python",
   "nbconvert_exporter": "python",
   "pygments_lexer": "ipython3",
   "version": "3.6.4"
  }
 },
 "nbformat": 4,
 "nbformat_minor": 2
}
