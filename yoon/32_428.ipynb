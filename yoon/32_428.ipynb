{
 "cells": [
  {
   "cell_type": "code",
   "execution_count": 40,
   "metadata": {},
   "outputs": [],
   "source": [
    "def func_428(str_num):\n",
    "    result = []\n",
    "    for i in range(len(str_num)):\n",
    "        result += '*' if ord('0') <= ord(str_num[i]) <= ord('9') and i%2 == 1 else  result += str_num[i]\n",
    "    return ''.join(result)"
   ]
  },
  {
   "cell_type": "code",
   "execution_count": 43,
   "metadata": {},
   "outputs": [],
   "source": [
    "assert func_428('a1b21') == 'a*b*1'\n",
    "assert func_428('a1b2cde3~g45hi6') == 'a*b*cde*~g4*hi6'"
   ]
  }
 ],
 "metadata": {
  "kernelspec": {
   "display_name": "Python 3",
   "language": "python",
   "name": "python3"
  },
  "language_info": {
   "codemirror_mode": {
    "name": "ipython",
    "version": 3
   },
   "file_extension": ".py",
   "mimetype": "text/x-python",
   "name": "python",
   "nbconvert_exporter": "python",
   "pygments_lexer": "ipython3",
   "version": "3.6.4"
  }
 },
 "nbformat": 4,
 "nbformat_minor": 2
}
