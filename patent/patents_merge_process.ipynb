{
 "cells": [
  {
   "cell_type": "code",
   "execution_count": 16,
   "metadata": {},
   "outputs": [
    {
     "name": "stdout",
     "output_type": "stream",
     "text": [
      "8\n",
      "['국가코드', 'DB종류', '특허/실용 구분', '문헌종류 코드', '발명의 명칭', '요약', '대표청구항', '청구항 수', '출원번호', '출원일', '공개번호/공표/재공표 ', '공개일', '등록번호', '등록일', '출원인', '출원인 국적', '출원인 수', '출원인 대표명화 코드', '출원인 대표명화 영문명', '출원인 대표명화 국문명[KR]', '발명자/고안자', '발명자 수', '우선권 번호', '우선권 국가', '우선권 주장일', 'Original IPC Main', 'Wintelips key\\n']\n",
      "10-2018-7003614\n"
     ]
    }
   ],
   "source": [
    "with open('gulby.tsv') as f:\n",
    "    gulby_schema = f.readline().split('\\t')\n",
    "    print(gulby_schema.index('출원번호'))\n",
    "    gulby_contents = [x.split('\\t') for x in f.readlines()]\n",
    "    print(gulby_schema)\n",
    "    #print(gulby_contents[0])\n",
    "    print(gulby_contents[0][8])"
   ]
  },
  {
   "cell_type": "code",
   "execution_count": 17,
   "metadata": {},
   "outputs": [
    {
     "name": "stdout",
     "output_type": "stream",
     "text": [
      "8\n",
      "['국가코드', 'DB종류', '특허/실용 구분', '문헌종류 코드', '발명의 명칭', '요약', '대표청구항', '청구항 수', '출원번호', '출원일', '공개번호/공표/재공표 ', '등록번호', '출원인', '출원인 대표명화 국문명[KR]', 'Original IPC Main', 'Wintelips key\\n']\n",
      "10-2017-0139626\n"
     ]
    }
   ],
   "source": [
    "with open('soo.csv') as f:\n",
    "    soo_schema = f.readline().split('\\t')\n",
    "    print(soo_schema.index('출원번호'))\n",
    "    soo_contents = [x.split('\\t') for x in f.readlines()]\n",
    "    print(soo_schema)\n",
    "    #print(soo_contents[0])\n",
    "    print(soo_contents[0][8])"
   ]
  },
  {
   "cell_type": "code",
   "execution_count": 18,
   "metadata": {},
   "outputs": [
    {
     "name": "stdout",
     "output_type": "stream",
     "text": [
      "8\n",
      "['국가코드', 'DB종류', '특허/실용 구분', '문헌종류 코드', '발명의 명칭', '요약', '대표청구항', '청구항 수', '출원번호', '출원일', '공개번호/공표/재공표 ', '공개일', '등록번호', '등록일', '출원인', '출원인 국적', '출원인 수', '출원인 대표명화 코드', '출원인 대표명화 영문명', '출원인 대표명화 국문명[KR]', '발명자/고안자', '발명자 수', '우선권 번호', '우선권 국가', '우선권 주장일', 'Original IPC Main', 'Wintelips key\\n']\n",
      "10-2016-0117163\n"
     ]
    }
   ],
   "source": [
    "with open('yoon.csv') as f:\n",
    "    yoon_schema = f.readline().split('\\t')\n",
    "    print(yoon_schema.index('출원번호'))\n",
    "    yoon_contents = [x.split('\\t') for x in f.readlines()]\n",
    "    print(yoon_schema)\n",
    "    #print(yoon_contents[0])\n",
    "    print(yoon_contents[0][8])"
   ]
  },
  {
   "cell_type": "code",
   "execution_count": 19,
   "metadata": {},
   "outputs": [
    {
     "name": "stdout",
     "output_type": "stream",
     "text": [
      "1298\n",
      "198\n",
      "756\n"
     ]
    }
   ],
   "source": [
    "# intersection 확인\n",
    "gulby_set = set([x[8] for x in gulby_contents])\n",
    "soo_set = set([x[8] for x in soo_contents])\n",
    "yoon_set = set([x[8] for x in yoon_contents])\n",
    "print(len(gulby_set))\n",
    "print(len(soo_set))soo_contents\n",
    "print(len(yoon_set))"
   ]
  },
  {
   "cell_type": "code",
   "execution_count": 45,
   "metadata": {},
   "outputs": [
    {
     "data": {
      "text/plain": [
       "96"
      ]
     },
     "execution_count": 45,
     "metadata": {},
     "output_type": "execute_result"
    }
   ],
   "source": [
    "check_list1 = list(soo_set & gulby_set) + list(soo_set & yoon_set) + list(yoon_set & gulby_set)[x for x in gulby_contents+[x for x in yoon_contents if x[8] not in gulby_set] if x[8] in check_list1]\n",
    "len(check_list1)"
   ]
  },
  {
   "cell_type": "code",
   "execution_count": 49,
   "metadata": {},
   "outputs": [
    {
     "data": {
      "text/plain": [
       "96"
      ]
     },
     "execution_count": 49,
     "metadata": {},
     "output_type": "execute_result"
    }
   ],
   "source": [
    "len([x for x in gulby_contents+[x for x in yoon_contents if x[8] not in gulby_set] if x[8] in check_list1])"
   ]
  },
  {
   "cell_type": "code",
   "execution_count": 60,
   "metadata": {},
   "outputs": [],
   "source": [
    "with open('total.csv', 'w') as f:\n",
    "    for line in [x for x in gulby_contents+[x for x in yoon_contents if x[8] not in gulby_set] if x[8] in check_list1]:\n",
    "        f.write('\\t'.join(line))"
   ]
  },
  {
   "cell_type": "code",
   "execution_count": 61,
   "metadata": {},
   "outputs": [
    {
     "name": "stdout",
     "output_type": "stream",
     "text": [
      "KR\tKR\tP\tA\t스캐너와 스마트 기기를 사용한 명함 인맥관리 시스템(Business card management system using scanner and smart devices)\t스캐너와 스마트 기기를 사용한 명함 인맥관리 시스템이 개시된다. 스캐너와 스마트 기기를 사용한 명함 인맥관리 시스템은 스캐너와 연결된 사용자 PC 또는 카메라를 구비한 스마트기기(명함 관리 App)로부터 입력된 명함 정보와 이미지를 유무선 통신망을 통해 수신받아 명함 DB에 저장하고, 명함관리 인공지능 엔진을 사용하여 개인과 기업의 카테고리별로 분류된 명함첩 관리, 고객을 A,B,C 등급별로 분류하여 만남 이력(횟수)과 친밀도 관리(1-5), 촌수 관리, 인맥 관계 정보 관리, 스마트 명함 만들기: 폰 연락처->스마트 명함 생성 관리(휴대폰 명함 제작), 내 명함 보내기, 홍보마당, 일대일 명함 교환, 단체 명함 교환, 부근 명함 알림 설정, 기업정보 제공, CRM 시스템과 연동하여 만남 일정에 따른 고객 관리(CRM) 및 고객 영업 관리를 제공하는 스마트 명함관리 서버; 및 스마트 명함관리 App이 설치된 스마트 기기를 포함하며, 상기 스마트 명함관리 서버는 사용자 PC 또는 스마트 기기에서 명함 정보와 이미지 등록, 명함 이미지 보정, 내 명함 보내기, 회사 명함에서 명함 전달하기 요청을 할 수 있으며, 상대방이 수락/보류/거절을 통해 명함이 관리되며, 개인과 기업의 카테고리별로 구분된 그룹 관리에 의한 명함첩 관리, 만남 이력(횟수)과 친밀도 관리(1-5), 촌수 관리(1촌/2촌/3촌/4촌), 인맥 관계 정보와 인맥 관계도 제공, 내 명함 보내기를 제공한다. \t명함 이미지를 스캐닝하는 저속 또는 고속 스캐너; 상기 저속 또는 고속 스캐너와 연결되고, 스캐닝 된 명함 이미지와, 명함 정보, 인맥 관계 정보를 등록하며, 명함 O2O(Online to Offline) 서비스를 제공하기 위해 명함 인쇄 주문 정보를 인가받고, 명함 이미지를 보정하는 명함관리 소프트웨어가 탑재된 사용자 PC; 카메라와 GPS 수신기를 구비한 명함 관리 App이 설치된 스마트기기; 상기 사용자 PC 또는 상기 스마트기기로부터 입력된 명함 정보와 이미지를 유무선 통신망을 통해 수신받아 명함 DB에 저장하고, 명함관리 인공지능 엔진을 사용하여 개인과 기업의 카테고리별로 분류된 명함첩 관리, 고객을 A,B,C 등급별로 분류하여 만남 이력과 친밀도 관리(1-5), 촌수 관리(1촌/2촌/3촌/4촌), 인맥 관계 정보 관리, 스마트 명함 만들기: 폰 연락처->스마트 명함 생성 관리(휴대폰 명함 제작), 내 명함 보내기, CRM 시스템과 연동하여 만남 일정에 따른 고객 관리(CRM) 및 고객 영업 관리를 제공하는 스마트 명함관리 서버를 포함하며, 상기 사용자 PC의 명함관리 소프트웨어와 상기 스마트 기기의 명함관리 App은 명함 이미지에 대하여 선명하게 보이도록 블러링(blurring)과 샤프닝(sharpening) 영상 처리 기술을 사용하여 원본 명함 이미지의 화질을 보정하는 것을 특징으로 하는 스캐너와 스마트 기기를 사용한 명함 인맥관리 시스템.\t7\t10-2016-0107378\t2016-08-24\t10-2018-0022239\t2018-03-06\t\t\t현대아이씨티 주식회사\tKR\t1\t\t\t\t김세규\t1\t\t\t\tG06Q-010/10\t3518101000624\r\n",
      "cat: 쓰기 오류: 파이프가 깨어짐\r\n"
     ]
    }
   ],
   "source": [
    "cat total.csv | head -n 1"
   ]
  },
  {
   "cell_type": "code",
   "execution_count": null,
   "metadata": {},
   "outputs": [],
   "source": []
  }
 ],
 "metadata": {
  "kernelspec": {
   "display_name": "Python 3",
   "language": "python",
   "name": "python3"
  },
  "language_info": {
   "codemirror_mode": {
    "name": "ipython",
    "version": 3
   },
   "file_extension": ".py",
   "mimetype": "text/x-python",
   "name": "python",
   "nbconvert_exporter": "python",
   "pygments_lexer": "ipython3",
   "version": "3.6.4"
  }
 },
 "nbformat": 4,
 "nbformat_minor": 2
}
