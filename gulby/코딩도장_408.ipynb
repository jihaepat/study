{
 "cells": [
  {
   "cell_type": "code",
   "execution_count": 24,
   "metadata": {},
   "outputs": [
    {
     "name": "stdout",
     "output_type": "stream",
     "text": [
      "[1, 3, 4, 8, 13, 17, 20]\n"
     ]
    },
    {
     "data": {
      "text/plain": [
       "[[3, 4]]"
      ]
     },
     "execution_count": 24,
     "metadata": {},
     "output_type": "execute_result"
    }
   ],
   "source": [
    "S = [1, 3, 4, 8, 13, 17, 20]\n",
    "print(S)\n",
    "def extract_min_pair(S):\n",
    "    cur_min = 1000000\n",
    "    result = []\n",
    "    for i in range(len(S)-1):\n",
    "        diff = abs(S[i] - S[i+1])\n",
    "        if cur_min > diff:\n",
    "            cur_min = diff\n",
    "            result = [[S[i], S[i+1]]]\n",
    "        elif cur_min == diff:\n",
    "            result.append([S[i], S[i+1]])\n",
    "    return result\n",
    "extract_min_pair(S)"
   ]
  },
  {
   "cell_type": "code",
   "execution_count": null,
   "metadata": {},
   "outputs": [],
   "source": []
  }
 ],
 "metadata": {
  "kernelspec": {
   "display_name": "Python 3",
   "language": "python",
   "name": "python3"
  },
  "language_info": {
   "codemirror_mode": {
    "name": "ipython",
    "version": 3
   },
   "file_extension": ".py",
   "mimetype": "text/x-python",
   "name": "python",
   "nbconvert_exporter": "python",
   "pygments_lexer": "ipython3",
   "version": "3.6.4"
  }
 },
 "nbformat": 4,
 "nbformat_minor": 2
}
